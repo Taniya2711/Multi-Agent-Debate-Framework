{
  "nbformat": 4,
  "nbformat_minor": 0,
  "metadata": {
    "colab": {
      "provenance": [],
      "authorship_tag": "ABX9TyPoIlwUlBpivhwItbFl7Dhj",
      "include_colab_link": true
    },
    "kernelspec": {
      "name": "python3",
      "display_name": "Python 3"
    },
    "language_info": {
      "name": "python"
    }
  },
  "cells": [
    {
      "cell_type": "markdown",
      "metadata": {
        "id": "view-in-github",
        "colab_type": "text"
      },
      "source": [
        "<a href=\"https://colab.research.google.com/github/Taniya2711/Multi-Agent-Debate-Framework/blob/main/WebScraping.ipynb\" target=\"_parent\"><img src=\"https://colab.research.google.com/assets/colab-badge.svg\" alt=\"Open In Colab\"/></a>"
      ]
    },
    {
      "cell_type": "code",
      "source": [
        "!pip install requests beautifulsoup4 pandas lxml\n"
      ],
      "metadata": {
        "colab": {
          "base_uri": "https://localhost:8080/"
        },
        "id": "ydKOsGIymEoG",
        "outputId": "90671071-f8bc-4f9d-97b8-7b15b8ba10ba"
      },
      "execution_count": 8,
      "outputs": [
        {
          "output_type": "stream",
          "name": "stdout",
          "text": [
            "Requirement already satisfied: requests in /usr/local/lib/python3.11/dist-packages (2.32.3)\n",
            "Requirement already satisfied: beautifulsoup4 in /usr/local/lib/python3.11/dist-packages (4.13.3)\n",
            "Requirement already satisfied: pandas in /usr/local/lib/python3.11/dist-packages (2.2.2)\n",
            "Requirement already satisfied: lxml in /usr/local/lib/python3.11/dist-packages (5.3.1)\n",
            "Requirement already satisfied: charset-normalizer<4,>=2 in /usr/local/lib/python3.11/dist-packages (from requests) (3.4.1)\n",
            "Requirement already satisfied: idna<4,>=2.5 in /usr/local/lib/python3.11/dist-packages (from requests) (3.10)\n",
            "Requirement already satisfied: urllib3<3,>=1.21.1 in /usr/local/lib/python3.11/dist-packages (from requests) (2.3.0)\n",
            "Requirement already satisfied: certifi>=2017.4.17 in /usr/local/lib/python3.11/dist-packages (from requests) (2025.1.31)\n",
            "Requirement already satisfied: soupsieve>1.2 in /usr/local/lib/python3.11/dist-packages (from beautifulsoup4) (2.6)\n",
            "Requirement already satisfied: typing-extensions>=4.0.0 in /usr/local/lib/python3.11/dist-packages (from beautifulsoup4) (4.12.2)\n",
            "Requirement already satisfied: numpy>=1.23.2 in /usr/local/lib/python3.11/dist-packages (from pandas) (2.0.2)\n",
            "Requirement already satisfied: python-dateutil>=2.8.2 in /usr/local/lib/python3.11/dist-packages (from pandas) (2.8.2)\n",
            "Requirement already satisfied: pytz>=2020.1 in /usr/local/lib/python3.11/dist-packages (from pandas) (2025.1)\n",
            "Requirement already satisfied: tzdata>=2022.7 in /usr/local/lib/python3.11/dist-packages (from pandas) (2025.1)\n",
            "Requirement already satisfied: six>=1.5 in /usr/local/lib/python3.11/dist-packages (from python-dateutil>=2.8.2->pandas) (1.17.0)\n"
          ]
        }
      ]
    },
    {
      "cell_type": "markdown",
      "source": [
        "#BBC News\n",
        "\n"
      ],
      "metadata": {
        "id": "VOEu9kwQoN8J"
      }
    },
    {
      "cell_type": "code",
      "source": [
        "import requests\n",
        "from bs4 import BeautifulSoup\n",
        "import pandas as pd\n",
        "import time\n",
        "\n",
        "# BBC News homepage URL\n",
        "BBC_URL = \"https://www.bbc.com/news\"\n",
        "\n",
        "# Headers to mimic a browser visit\n",
        "headers = {\"User-Agent\": \"Mozilla/5.0\"}\n",
        "\n",
        "# Fetch the BBC News homepage\n",
        "response = requests.get(BBC_URL, headers=headers)\n",
        "\n",
        "if response.status_code == 200:\n",
        "    soup = BeautifulSoup(response.text, \"lxml\")\n",
        "\n",
        "    # Find all news article links\n",
        "    articles = soup.select(\"a[href^='/news']\")  # More reliable selector\n",
        "\n",
        "    news_data = []\n",
        "    for article in articles[:100]:  # Start with 50 (increase if needed)\n",
        "        headline = article.get_text(strip=True)\n",
        "        link = \"https://www.bbc.com\" + article[\"href\"]\n",
        "\n",
        "        # Fetch full article content\n",
        "        try:\n",
        "            article_response = requests.get(link, headers=headers)\n",
        "            article_soup = BeautifulSoup(article_response.text, \"lxml\")\n",
        "            paragraphs = article_soup.select(\"article p\")  # Extract full article content\n",
        "            content = \" \".join([p.get_text(strip=True) for p in paragraphs])\n",
        "        except:\n",
        "            content = \"Content not available\"\n",
        "\n",
        "        news_data.append({\"headline\": headline, \"link\": link, \"content\": content})\n",
        "        time.sleep(1)  # Prevent getting blocked\n",
        "\n",
        "    # Convert to DataFrame and save\n",
        "    df = pd.DataFrame(news_data)\n",
        "    df.to_csv(\"bbc_news.csv\", index=False)\n",
        "\n",
        "    print(\"✅ Scraping completed! Data saved to 'bbc_news.csv'.\")\n",
        "else:\n",
        "    print(f\"❌ Failed to retrieve page. Status code: {response.status_code}\")\n"
      ],
      "metadata": {
        "colab": {
          "base_uri": "https://localhost:8080/"
        },
        "id": "8KsZUmHimME0",
        "outputId": "f1902994-2b7f-4a51-ccbe-efacd2587022"
      },
      "execution_count": 12,
      "outputs": [
        {
          "output_type": "stream",
          "name": "stdout",
          "text": [
            "✅ Scraping completed! Data saved to 'bbc_news.csv'.\n"
          ]
        }
      ]
    },
    {
      "cell_type": "code",
      "source": [
        "df"
      ],
      "metadata": {
        "colab": {
          "base_uri": "https://localhost:8080/",
          "height": 684
        },
        "id": "MNztm-hzmQDw",
        "outputId": "0ac9b9dc-3334-429a-a715-4b2996666a43"
      },
      "execution_count": 13,
      "outputs": [
        {
          "output_type": "execute_result",
          "data": {
            "text/plain": [
              "                                             headline  \\\n",
              "0                                                News   \n",
              "1                                     Israel-Gaza War   \n",
              "2                                      War in Ukraine   \n",
              "3                                         US & Canada   \n",
              "4                                                  UK   \n",
              "..                                                ...   \n",
              "84  7Trump 'respected Canada's sovereignty' in cal...   \n",
              "85  8Alex Warren was homeless and sleeping in frie...   \n",
              "86  9Expelled South African envoy accuses Trump ad...   \n",
              "87  10At least 15 still alive under Bangkok skyscr...   \n",
              "88                                               News   \n",
              "\n",
              "                                              link  \\\n",
              "0                         https://www.bbc.com/news   \n",
              "1     https://www.bbc.com/news/topics/c2vdnvdg6xxt   \n",
              "2          https://www.bbc.com/news/war-in-ukraine   \n",
              "3               https://www.bbc.com/news/us-canada   \n",
              "4                      https://www.bbc.com/news/uk   \n",
              "..                                             ...   \n",
              "84  https://www.bbc.com/news/articles/c93n3knw4xyo   \n",
              "85  https://www.bbc.com/news/articles/cpdew83lg3jo   \n",
              "86  https://www.bbc.com/news/articles/cx2g2edw1k1o   \n",
              "87  https://www.bbc.com/news/articles/c4gpgylq0qno   \n",
              "88                        https://www.bbc.com/news   \n",
              "\n",
              "                                              content  \n",
              "0   In Mandalay, Myanmar, more than 1,500 houses a...  \n",
              "1   Masked Hamas militants dispersed protesters wh...  \n",
              "2   The move is seen as an attempt to challenge th...  \n",
              "3   Denmark's prime minister said the visit by the...  \n",
              "4   In his first interview since resigning, the fo...  \n",
              "..                                                ...  \n",
              "84  Canadian Prime Minister Mark Carney says US Pr...  \n",
              "85  Alex Warren is on top of the world. Ordinary, ...  \n",
              "86  South Africa's former ambassador to the US has...  \n",
              "87  At least 15 people are thought to still be ali...  \n",
              "88  In Mandalay, Myanmar, more than 1,500 houses a...  \n",
              "\n",
              "[89 rows x 3 columns]"
            ],
            "text/html": [
              "\n",
              "  <div id=\"df-9e3294c6-7533-4eb2-9930-62e15bd3b18c\" class=\"colab-df-container\">\n",
              "    <div>\n",
              "<style scoped>\n",
              "    .dataframe tbody tr th:only-of-type {\n",
              "        vertical-align: middle;\n",
              "    }\n",
              "\n",
              "    .dataframe tbody tr th {\n",
              "        vertical-align: top;\n",
              "    }\n",
              "\n",
              "    .dataframe thead th {\n",
              "        text-align: right;\n",
              "    }\n",
              "</style>\n",
              "<table border=\"1\" class=\"dataframe\">\n",
              "  <thead>\n",
              "    <tr style=\"text-align: right;\">\n",
              "      <th></th>\n",
              "      <th>headline</th>\n",
              "      <th>link</th>\n",
              "      <th>content</th>\n",
              "    </tr>\n",
              "  </thead>\n",
              "  <tbody>\n",
              "    <tr>\n",
              "      <th>0</th>\n",
              "      <td>News</td>\n",
              "      <td>https://www.bbc.com/news</td>\n",
              "      <td>In Mandalay, Myanmar, more than 1,500 houses a...</td>\n",
              "    </tr>\n",
              "    <tr>\n",
              "      <th>1</th>\n",
              "      <td>Israel-Gaza War</td>\n",
              "      <td>https://www.bbc.com/news/topics/c2vdnvdg6xxt</td>\n",
              "      <td>Masked Hamas militants dispersed protesters wh...</td>\n",
              "    </tr>\n",
              "    <tr>\n",
              "      <th>2</th>\n",
              "      <td>War in Ukraine</td>\n",
              "      <td>https://www.bbc.com/news/war-in-ukraine</td>\n",
              "      <td>The move is seen as an attempt to challenge th...</td>\n",
              "    </tr>\n",
              "    <tr>\n",
              "      <th>3</th>\n",
              "      <td>US &amp; Canada</td>\n",
              "      <td>https://www.bbc.com/news/us-canada</td>\n",
              "      <td>Denmark's prime minister said the visit by the...</td>\n",
              "    </tr>\n",
              "    <tr>\n",
              "      <th>4</th>\n",
              "      <td>UK</td>\n",
              "      <td>https://www.bbc.com/news/uk</td>\n",
              "      <td>In his first interview since resigning, the fo...</td>\n",
              "    </tr>\n",
              "    <tr>\n",
              "      <th>...</th>\n",
              "      <td>...</td>\n",
              "      <td>...</td>\n",
              "      <td>...</td>\n",
              "    </tr>\n",
              "    <tr>\n",
              "      <th>84</th>\n",
              "      <td>7Trump 'respected Canada's sovereignty' in cal...</td>\n",
              "      <td>https://www.bbc.com/news/articles/c93n3knw4xyo</td>\n",
              "      <td>Canadian Prime Minister Mark Carney says US Pr...</td>\n",
              "    </tr>\n",
              "    <tr>\n",
              "      <th>85</th>\n",
              "      <td>8Alex Warren was homeless and sleeping in frie...</td>\n",
              "      <td>https://www.bbc.com/news/articles/cpdew83lg3jo</td>\n",
              "      <td>Alex Warren is on top of the world. Ordinary, ...</td>\n",
              "    </tr>\n",
              "    <tr>\n",
              "      <th>86</th>\n",
              "      <td>9Expelled South African envoy accuses Trump ad...</td>\n",
              "      <td>https://www.bbc.com/news/articles/cx2g2edw1k1o</td>\n",
              "      <td>South Africa's former ambassador to the US has...</td>\n",
              "    </tr>\n",
              "    <tr>\n",
              "      <th>87</th>\n",
              "      <td>10At least 15 still alive under Bangkok skyscr...</td>\n",
              "      <td>https://www.bbc.com/news/articles/c4gpgylq0qno</td>\n",
              "      <td>At least 15 people are thought to still be ali...</td>\n",
              "    </tr>\n",
              "    <tr>\n",
              "      <th>88</th>\n",
              "      <td>News</td>\n",
              "      <td>https://www.bbc.com/news</td>\n",
              "      <td>In Mandalay, Myanmar, more than 1,500 houses a...</td>\n",
              "    </tr>\n",
              "  </tbody>\n",
              "</table>\n",
              "<p>89 rows × 3 columns</p>\n",
              "</div>\n",
              "    <div class=\"colab-df-buttons\">\n",
              "\n",
              "  <div class=\"colab-df-container\">\n",
              "    <button class=\"colab-df-convert\" onclick=\"convertToInteractive('df-9e3294c6-7533-4eb2-9930-62e15bd3b18c')\"\n",
              "            title=\"Convert this dataframe to an interactive table.\"\n",
              "            style=\"display:none;\">\n",
              "\n",
              "  <svg xmlns=\"http://www.w3.org/2000/svg\" height=\"24px\" viewBox=\"0 -960 960 960\">\n",
              "    <path d=\"M120-120v-720h720v720H120Zm60-500h600v-160H180v160Zm220 220h160v-160H400v160Zm0 220h160v-160H400v160ZM180-400h160v-160H180v160Zm440 0h160v-160H620v160ZM180-180h160v-160H180v160Zm440 0h160v-160H620v160Z\"/>\n",
              "  </svg>\n",
              "    </button>\n",
              "\n",
              "  <style>\n",
              "    .colab-df-container {\n",
              "      display:flex;\n",
              "      gap: 12px;\n",
              "    }\n",
              "\n",
              "    .colab-df-convert {\n",
              "      background-color: #E8F0FE;\n",
              "      border: none;\n",
              "      border-radius: 50%;\n",
              "      cursor: pointer;\n",
              "      display: none;\n",
              "      fill: #1967D2;\n",
              "      height: 32px;\n",
              "      padding: 0 0 0 0;\n",
              "      width: 32px;\n",
              "    }\n",
              "\n",
              "    .colab-df-convert:hover {\n",
              "      background-color: #E2EBFA;\n",
              "      box-shadow: 0px 1px 2px rgba(60, 64, 67, 0.3), 0px 1px 3px 1px rgba(60, 64, 67, 0.15);\n",
              "      fill: #174EA6;\n",
              "    }\n",
              "\n",
              "    .colab-df-buttons div {\n",
              "      margin-bottom: 4px;\n",
              "    }\n",
              "\n",
              "    [theme=dark] .colab-df-convert {\n",
              "      background-color: #3B4455;\n",
              "      fill: #D2E3FC;\n",
              "    }\n",
              "\n",
              "    [theme=dark] .colab-df-convert:hover {\n",
              "      background-color: #434B5C;\n",
              "      box-shadow: 0px 1px 3px 1px rgba(0, 0, 0, 0.15);\n",
              "      filter: drop-shadow(0px 1px 2px rgba(0, 0, 0, 0.3));\n",
              "      fill: #FFFFFF;\n",
              "    }\n",
              "  </style>\n",
              "\n",
              "    <script>\n",
              "      const buttonEl =\n",
              "        document.querySelector('#df-9e3294c6-7533-4eb2-9930-62e15bd3b18c button.colab-df-convert');\n",
              "      buttonEl.style.display =\n",
              "        google.colab.kernel.accessAllowed ? 'block' : 'none';\n",
              "\n",
              "      async function convertToInteractive(key) {\n",
              "        const element = document.querySelector('#df-9e3294c6-7533-4eb2-9930-62e15bd3b18c');\n",
              "        const dataTable =\n",
              "          await google.colab.kernel.invokeFunction('convertToInteractive',\n",
              "                                                    [key], {});\n",
              "        if (!dataTable) return;\n",
              "\n",
              "        const docLinkHtml = 'Like what you see? Visit the ' +\n",
              "          '<a target=\"_blank\" href=https://colab.research.google.com/notebooks/data_table.ipynb>data table notebook</a>'\n",
              "          + ' to learn more about interactive tables.';\n",
              "        element.innerHTML = '';\n",
              "        dataTable['output_type'] = 'display_data';\n",
              "        await google.colab.output.renderOutput(dataTable, element);\n",
              "        const docLink = document.createElement('div');\n",
              "        docLink.innerHTML = docLinkHtml;\n",
              "        element.appendChild(docLink);\n",
              "      }\n",
              "    </script>\n",
              "  </div>\n",
              "\n",
              "\n",
              "<div id=\"df-9d77631f-5b93-4eeb-b9ab-572f31ec180b\">\n",
              "  <button class=\"colab-df-quickchart\" onclick=\"quickchart('df-9d77631f-5b93-4eeb-b9ab-572f31ec180b')\"\n",
              "            title=\"Suggest charts\"\n",
              "            style=\"display:none;\">\n",
              "\n",
              "<svg xmlns=\"http://www.w3.org/2000/svg\" height=\"24px\"viewBox=\"0 0 24 24\"\n",
              "     width=\"24px\">\n",
              "    <g>\n",
              "        <path d=\"M19 3H5c-1.1 0-2 .9-2 2v14c0 1.1.9 2 2 2h14c1.1 0 2-.9 2-2V5c0-1.1-.9-2-2-2zM9 17H7v-7h2v7zm4 0h-2V7h2v10zm4 0h-2v-4h2v4z\"/>\n",
              "    </g>\n",
              "</svg>\n",
              "  </button>\n",
              "\n",
              "<style>\n",
              "  .colab-df-quickchart {\n",
              "      --bg-color: #E8F0FE;\n",
              "      --fill-color: #1967D2;\n",
              "      --hover-bg-color: #E2EBFA;\n",
              "      --hover-fill-color: #174EA6;\n",
              "      --disabled-fill-color: #AAA;\n",
              "      --disabled-bg-color: #DDD;\n",
              "  }\n",
              "\n",
              "  [theme=dark] .colab-df-quickchart {\n",
              "      --bg-color: #3B4455;\n",
              "      --fill-color: #D2E3FC;\n",
              "      --hover-bg-color: #434B5C;\n",
              "      --hover-fill-color: #FFFFFF;\n",
              "      --disabled-bg-color: #3B4455;\n",
              "      --disabled-fill-color: #666;\n",
              "  }\n",
              "\n",
              "  .colab-df-quickchart {\n",
              "    background-color: var(--bg-color);\n",
              "    border: none;\n",
              "    border-radius: 50%;\n",
              "    cursor: pointer;\n",
              "    display: none;\n",
              "    fill: var(--fill-color);\n",
              "    height: 32px;\n",
              "    padding: 0;\n",
              "    width: 32px;\n",
              "  }\n",
              "\n",
              "  .colab-df-quickchart:hover {\n",
              "    background-color: var(--hover-bg-color);\n",
              "    box-shadow: 0 1px 2px rgba(60, 64, 67, 0.3), 0 1px 3px 1px rgba(60, 64, 67, 0.15);\n",
              "    fill: var(--button-hover-fill-color);\n",
              "  }\n",
              "\n",
              "  .colab-df-quickchart-complete:disabled,\n",
              "  .colab-df-quickchart-complete:disabled:hover {\n",
              "    background-color: var(--disabled-bg-color);\n",
              "    fill: var(--disabled-fill-color);\n",
              "    box-shadow: none;\n",
              "  }\n",
              "\n",
              "  .colab-df-spinner {\n",
              "    border: 2px solid var(--fill-color);\n",
              "    border-color: transparent;\n",
              "    border-bottom-color: var(--fill-color);\n",
              "    animation:\n",
              "      spin 1s steps(1) infinite;\n",
              "  }\n",
              "\n",
              "  @keyframes spin {\n",
              "    0% {\n",
              "      border-color: transparent;\n",
              "      border-bottom-color: var(--fill-color);\n",
              "      border-left-color: var(--fill-color);\n",
              "    }\n",
              "    20% {\n",
              "      border-color: transparent;\n",
              "      border-left-color: var(--fill-color);\n",
              "      border-top-color: var(--fill-color);\n",
              "    }\n",
              "    30% {\n",
              "      border-color: transparent;\n",
              "      border-left-color: var(--fill-color);\n",
              "      border-top-color: var(--fill-color);\n",
              "      border-right-color: var(--fill-color);\n",
              "    }\n",
              "    40% {\n",
              "      border-color: transparent;\n",
              "      border-right-color: var(--fill-color);\n",
              "      border-top-color: var(--fill-color);\n",
              "    }\n",
              "    60% {\n",
              "      border-color: transparent;\n",
              "      border-right-color: var(--fill-color);\n",
              "    }\n",
              "    80% {\n",
              "      border-color: transparent;\n",
              "      border-right-color: var(--fill-color);\n",
              "      border-bottom-color: var(--fill-color);\n",
              "    }\n",
              "    90% {\n",
              "      border-color: transparent;\n",
              "      border-bottom-color: var(--fill-color);\n",
              "    }\n",
              "  }\n",
              "</style>\n",
              "\n",
              "  <script>\n",
              "    async function quickchart(key) {\n",
              "      const quickchartButtonEl =\n",
              "        document.querySelector('#' + key + ' button');\n",
              "      quickchartButtonEl.disabled = true;  // To prevent multiple clicks.\n",
              "      quickchartButtonEl.classList.add('colab-df-spinner');\n",
              "      try {\n",
              "        const charts = await google.colab.kernel.invokeFunction(\n",
              "            'suggestCharts', [key], {});\n",
              "      } catch (error) {\n",
              "        console.error('Error during call to suggestCharts:', error);\n",
              "      }\n",
              "      quickchartButtonEl.classList.remove('colab-df-spinner');\n",
              "      quickchartButtonEl.classList.add('colab-df-quickchart-complete');\n",
              "    }\n",
              "    (() => {\n",
              "      let quickchartButtonEl =\n",
              "        document.querySelector('#df-9d77631f-5b93-4eeb-b9ab-572f31ec180b button');\n",
              "      quickchartButtonEl.style.display =\n",
              "        google.colab.kernel.accessAllowed ? 'block' : 'none';\n",
              "    })();\n",
              "  </script>\n",
              "</div>\n",
              "\n",
              "  <div id=\"id_2545db2e-0756-4066-bbaf-e077bffc20c9\">\n",
              "    <style>\n",
              "      .colab-df-generate {\n",
              "        background-color: #E8F0FE;\n",
              "        border: none;\n",
              "        border-radius: 50%;\n",
              "        cursor: pointer;\n",
              "        display: none;\n",
              "        fill: #1967D2;\n",
              "        height: 32px;\n",
              "        padding: 0 0 0 0;\n",
              "        width: 32px;\n",
              "      }\n",
              "\n",
              "      .colab-df-generate:hover {\n",
              "        background-color: #E2EBFA;\n",
              "        box-shadow: 0px 1px 2px rgba(60, 64, 67, 0.3), 0px 1px 3px 1px rgba(60, 64, 67, 0.15);\n",
              "        fill: #174EA6;\n",
              "      }\n",
              "\n",
              "      [theme=dark] .colab-df-generate {\n",
              "        background-color: #3B4455;\n",
              "        fill: #D2E3FC;\n",
              "      }\n",
              "\n",
              "      [theme=dark] .colab-df-generate:hover {\n",
              "        background-color: #434B5C;\n",
              "        box-shadow: 0px 1px 3px 1px rgba(0, 0, 0, 0.15);\n",
              "        filter: drop-shadow(0px 1px 2px rgba(0, 0, 0, 0.3));\n",
              "        fill: #FFFFFF;\n",
              "      }\n",
              "    </style>\n",
              "    <button class=\"colab-df-generate\" onclick=\"generateWithVariable('df')\"\n",
              "            title=\"Generate code using this dataframe.\"\n",
              "            style=\"display:none;\">\n",
              "\n",
              "  <svg xmlns=\"http://www.w3.org/2000/svg\" height=\"24px\"viewBox=\"0 0 24 24\"\n",
              "       width=\"24px\">\n",
              "    <path d=\"M7,19H8.4L18.45,9,17,7.55,7,17.6ZM5,21V16.75L18.45,3.32a2,2,0,0,1,2.83,0l1.4,1.43a1.91,1.91,0,0,1,.58,1.4,1.91,1.91,0,0,1-.58,1.4L9.25,21ZM18.45,9,17,7.55Zm-12,3A5.31,5.31,0,0,0,4.9,8.1,5.31,5.31,0,0,0,1,6.5,5.31,5.31,0,0,0,4.9,4.9,5.31,5.31,0,0,0,6.5,1,5.31,5.31,0,0,0,8.1,4.9,5.31,5.31,0,0,0,12,6.5,5.46,5.46,0,0,0,6.5,12Z\"/>\n",
              "  </svg>\n",
              "    </button>\n",
              "    <script>\n",
              "      (() => {\n",
              "      const buttonEl =\n",
              "        document.querySelector('#id_2545db2e-0756-4066-bbaf-e077bffc20c9 button.colab-df-generate');\n",
              "      buttonEl.style.display =\n",
              "        google.colab.kernel.accessAllowed ? 'block' : 'none';\n",
              "\n",
              "      buttonEl.onclick = () => {\n",
              "        google.colab.notebook.generateWithVariable('df');\n",
              "      }\n",
              "      })();\n",
              "    </script>\n",
              "  </div>\n",
              "\n",
              "    </div>\n",
              "  </div>\n"
            ],
            "application/vnd.google.colaboratory.intrinsic+json": {
              "type": "dataframe",
              "variable_name": "df",
              "summary": "{\n  \"name\": \"df\",\n  \"rows\": 89,\n  \"fields\": [\n    {\n      \"column\": \"headline\",\n      \"properties\": {\n        \"dtype\": \"string\",\n        \"num_unique_values\": 67,\n        \"samples\": [\n          \"Watch: Moment baby is born on Bangkok street after quake evacuationA woman was seen giving birth to a baby shortly after evacuating from a hospital.17 hrs agoAsia\",\n          \"N. Ireland\",\n          \"UK\"\n        ],\n        \"semantic_type\": \"\",\n        \"description\": \"\"\n      }\n    },\n    {\n      \"column\": \"link\",\n      \"properties\": {\n        \"dtype\": \"string\",\n        \"num_unique_values\": 54,\n        \"samples\": [\n          \"https://www.bbc.com/news/scotland/scotland_politics\",\n          \"https://www.bbc.com/news/videos/c0rzrvqkw1do\",\n          \"https://www.bbc.com/news/videos/crmjmvexpxdo\"\n        ],\n        \"semantic_type\": \"\",\n        \"description\": \"\"\n      }\n    },\n    {\n      \"column\": \"content\",\n      \"properties\": {\n        \"dtype\": \"string\",\n        \"num_unique_values\": 50,\n        \"samples\": [\n          \"BBC Verify looks at how Korean wildfires spread so rapidly The BBC's Analysis Editor looks at the targeting of press freedom by the Turkish government, as protests in the country continue. Israel has sent more troops into Gaza after resuming airstrikes on what it calls \\\"terror targets\\\". BBC Verify examimes social media footage of the fight for control of the Sudanese capital, Khartoum More than 400 people have been killed in Israeli strikes on Gaza, according to the Hamas-run health ministry. BBC Verify\\u2019s Nick Beake has been assessing footage of the strikes and building a picture of the damage done. The BBC's Analysis Editor looks at the targeting of press freedom by the Turkish government, as protests in the country continue. More than 400 people have been killed in Israeli strikes on Gaza, according to the Hamas-run health ministry. BBC Verify\\u2019s Nick Beake has been assessing footage of the strikes and building a picture of the damage done. Nick Beake of the BBC Verify team looks at why so many people died in the Pulse club blaze. A close-up look at Chinese projects that worry the White House. Activists say the spill - caused after two ships ran were battered by a storm - could cover an area of 400 sq km. Analysts say the return suggests that Moscow is preparing to evacuate one of its most valuable overseas bases. Videos reviewed by BBC Verify show men wearing RSF insignia boasting of killing locals in al-Seriha A clip of Donald Trump Jr allegedly saying on his podcast that the US should have sent arms to Russia rather than Ukraine was very likely generated with AI, experts say. A recent flurry of air disasters have made some people worried about flying - but are crashes on the rise? The video has hallmarks of a Russian disinformation operation, previously investigated by the BBC. Both Trump fans and Harris supporters baselessly claimed large-scale voter fraud in Tuesday's election. The BBC's Analysis Editor Ros Atkins takes a look at the situation on the ground in Ukraine. The BBC's analysis editor takes a look at President Trump's history with Ukraine - and how it set the stage for this week's events. The BBC's Analysis editor takes a look back at this week - and what it tells us about how the US sees Europe. The BBC's Analysis Editor Ros Atkins looks at why the US wants access to Ukraine's minerals. The BBC's Analysis Editor takes a look at the latest round of tariffs announced by President Trump - and what the US has got in return. BBC Verify has looked into several claims made by Trump during his speech to Congress. US President Donald Trump claims the US has outspent Europe on aid to Ukraine by over $200bn. BBC Verify's Nick Eardley fact-checks Trump's claims. President Donald Trump appeared to accuse Ukraine of being responsible for the war with Russia. President Trump has blamed China for its opioid crisis and imposed sweeping tariffs. What are Rachel Reeves's rules for the economy? How much will the UK be hit by US tariffs and what happens next? The Chancellor has earmarked \\\"several billion pounds\\\" in draft spending cuts to welfare. The government has pledged to reduce energy bills by using more renewables, but bills are currently rising. Keir Starmer is going to announce measurable targets to judge his government's progress on its key missions. What are Rachel Reeves's rules for the economy? An air strike on a hospital in Gaza is reported to have killed a senior Hamas leader Just over 30,000 projects got the go ahead, the lowest yearly figure since records started in 1979. How many new homes have been added in your area and what is the government's target? An analysis of verified footage reveals Moscow is taking back territory in Kursk, the area of Russia that Ukraine attacked in 2024. Ship tracking data sheds light on what happened before the two vessels, the Solong and Stena Immaculate, collided in the North Sea. BBC Verify examines how a ship carrying a highly-toxic chemical hit a tanker in the North Sea transporting jet fuel. Wind and wave power is set to be included in calculations of the size of countries' economies for the first time, as part of changes approved at the United Nations.\",\n          \"For two years, Jeannie Dillard has saved what she can on her fixed income to replace the vehicle that was stolen from her home and found totalled a few miles away. She looked around a used car dealership in Virginia on Thursday, peering at sticker prices with a newfound worry: blanket tariffs on foreign cars and car parts that experts warn could drive up prices in the US, which kick in next week. She'd like to buy a car now, she said, but \\\"I have to wait until my finances improve\\\". Ms Dillard is among the plethora of Americans bracing for expected economic turbulence under President Donald Trump's sweeping auto tariffs - an unprecedented US trade policy manoeuvre. \\\"It took me a long time to save up for the last car,\\\" she said. \\\"If prices get too high, I'm obviously not going to buy something that I can't afford.\\\" She added: \\\"We'll just have to wait and see.\\\" On Wednesday, Trump announced new import taxes of 25% on cars and car parts entering the US from overseas, which go into effect on 2 April. Charges on businesses importing vehicles are expected on 3 April, and taxes on parts are set to start in May or later. Trump and members of his administration have argued that the tariffs will lead to \\\"tremendous growth\\\" and increase jobs in the US. But experts and automakers have warned in dire terms that tariffs could raise prices for US consumers, amplifying the stress of an already sluggish economy. Mohamad Husseini, co-owner of a used car dealership in Maryland, said that he expects the additional tariff costs to get passed on to the consumer. \\\"The prices in the wholesale market have skyrocketed already,\\\" he told the BBC. \\\"It's going to get worse.\\\" A car that would sell for $13,000 (\\u00a310,000) might rise to $14,500 (\\u00a311,200) because of the tariffs, Mr Husseini said. He predicted that consumers will see prices increase in the next three to six weeks. The auto tariffs will likely force car dealers like Mr Husseini to raise prices. \\\"We all still have bills to pay, mouths to feed and employees to pay,\\\" he said. At another car dealership, Robin Sloan was hoping to get a deal before prices increased. She said she probably would have waited until the summer to go car shopping, but \\\"with the tariffs, I decided I should go out and look now\\\". She rejected the Trump administration's claim that tariffs will cause Americans to buy US cars instead of foreign ones. \\\"I don't think I would buy a car made in the United States just because of the tariffs, I think I would probably wait a few years until things settle down,\\\" Ms Sloan said. From buyers to dealers, the effects of the tariffs will be widespread, for better or for worse, experts say. In the US, there are 908 motor vehicles per 1,000 people. About 92% of households own a vehicle. Car ownership is typically higher in the US than in Europe, surveys suggest, partly because, in the absence of extensive public transport, many Americans have no other choice of how to get around. Cars are also more than just a means of transportation. As symbols of both freedom and success, cars have a unique place in the national identity, from the show Pimp My Ride to Janice Joplin singing \\\"Oh Lord, won't you buy me a Mercedes Benz\\\". John Heitmann, a University of Dayton professor and automobile historian, who in his free time likes to polish his 1982 Mercedes SL, said that tariffs will have an existential, as well as an economic, impact. \\\"New cars are really out of the reach of a good number of Americans to begin with,\\\" he told the BBC. \\\"Consumers will not benefit, prices will go up,\\\" particularly amongst more affordable vehicles made in Korea, like Hyundais, he said. As a vintage-car enthusiast, he said tariffs have added a layer of uncertainty to his hobby. \\\"About 50 minutes ago, I got an email from a part supplier in the UK saying, 'Don't worry... they're not going to go up, probably',\\\" he said. \\\"'We haven't seen anything in writing yet.' That's what they said.\\\" Higher-end imported vehicles, such as Audis, BMWs and Mercedes, will increase in price, too, Prof Heitmann said, though many of those who buy from such brands might be able to absorb a heftier price tag. A2024 study by the US International Trade Commissionpredicted that a 25% tariff on imports would reduce imports by almost 75%, while increasing average prices in the US by about 5%. The US imported about eight million cars last year - accounting for about $240bn (\\u00a3186bn) in trade and roughly half of overall sales. Despite efforts from some car makers - including Ford and General Motors - to discourage Trump enacting auto tariffs, the president is forging ahead. Some car makers are embracing Trump's tariffs, however. On Tuesday, Hyundai, the South Korean car-marker, announced it would invest $21bn (\\u00a316.3bn) in the US by building a new steel plant in Louisiana. Trump said the move is a \\\"clear demonstration that tariffs very strongly work\\\". But the tariffs are likely to impact the domestic car industry as well. US auto manufacturing has been deeply intertwined with industries in Canada and Mexico for decades. Parts criss-cross the borders several times before they are assembled, which means that even a vehicle as iconically American as a Ford pickup truck could see a sticker price increase. Ultimately, Trump's tariff strategy will thrust the US auto industry into uncharted territory, leaving uncertainty hanging over consumers, dealers and automakers until they go into effect on Wednesday. \\\"Everything's topsy turvy now, you know, and it's also terribly filled with uncertainty, because no one exactly knows what kind of game is really being played by the Trump administration related to all the bluster of these tariffs,\\\" Prof Heitmann said. Some, like Mya Fountain-Bunch, just want to get through the unease. She took her car into a dealership this week to avoid needing a replacement after the tariffs hit. \\\"[I'm] making sure that my car is working and hopefully I won't have to buy another car in the next few years, or at least the next four years until this administration is done with.\\\" Additional reporting by Meiying Wu\",\n          \"The worst part is the mental torture, Patricia Joseph says. The \\\"gut-wrenching\\\" flashes of wondering what her mother's last moments were. The infinite state of limbo. Six years after her mother's mysterious disappearance, Patricia still catches herself looking out for the distinctive orange-lined raincoat that Hyacinth Gage, 74, was wearing the day she vanished, in the hope it may hold a clue. Tragically, Hyacinth is just one of an ever-increasing number of people on the tiny Caribbean island of Antigua to disappear without trace in what some have dubbed an epidemic, others a crisis. At least nine have vanished in the last two years alone. That day back in May 2019 started out ordinarily enough. Hyacinth, described as sprightly and self-sufficient, had gone for a routine check-up at the public hospital, but failed to return. She has never been seen since.  It was to trigger an excruciating series of fruitless, island-wide searches and desperate appeals for help. \\\"We became detectives. My sister and I teamed up to look for leads. I went back to the hospital asking questions,\\\" Patricia explains. She was able to verify that while her mother had completed scheduled blood tests, she had not shown up for an electrocardiogram. Further investigations revealed she had apparently handed her handbag briefly to another patient to keep an eye on, but never returned. The bag was found by security staff the next day. The family were also able to track down a motorist who said she had given Hyacinth a lift to a location a short distance from the hospital. \\\"The police got angry at us for investigating and told us to stop,\\\" Patricia recalls. \\\"Then they became annoyed at our constant questions, so eventually we had to back off and just pray.\\\" Anniversaries are particularly painful: 6 March would have been Hyacinth's 80th birthday, a milestone for which the family had long planned a big celebration. Instead, Patricia took the day off work to spend in quiet reflection. The number of people to vanish in Antigua appears to be disproportionately high compared with neighbouring islands, Patricia says, a notion supported by sources in several of the islands who spoke to the BBC. In St Kitts, for example, which has a population of 48,000, official police stats provided show that of the total 54 people reported missing in 2023 and 2024, all but two are accounted for. The remaining two are believed to be Haitian migrants who have since left the country. Antigua's small size of just 108 sq miles, home to fewer than 100,000 people, makes the phenomenon particularly perplexing. Speculation is rife. Theories range from the banal - a lack of will to investigate by an under-resourced and under-paid police force - to the sinister. \\\"Other islands find bodies eventually,\\\" Patricia says. \\\"My mind goes all over the place wondering what happened. People suggest organ trafficking. I've even thought of gang activity. Is it something they're required to do as an initiation?\\\" The disappearance of a nine-year-old girl on 12 March sent the nation reeling and sparked extensive searches. Chantel Crump's body was found two days later in a case that has caused widespread public outrage and protests - and sent rumours into overdrive. A woman has been charged with Chantel's murder. Antigua's Acting Police Commissioner Everton Jeffers acknowledges there is \\\"room for improvement\\\" when it comes to the force's public relations, but rejects the idea that it is uncaring. He also says he is keeping an open mind on the reason for the high number of disappearances, including a possible organ trade operating on the island. \\\"It's something we've been hearing and something we will look into. There's no evidence to support it, but it's very important we don't dismiss anything,\\\" he explains. Patricia has found some solace in connecting with families of other missing people and now plans to set up an action group to ask for international help. \\\"This isn't a random thing any more, this is serious, there's a crisis,\\\" she adds. Aaron (not his real name) has collated a list of almost 60 people missing in Antigua \\u2013 more than a third in the last decade alone \\u2013 and believes there are several more. Men account for roughly two in three of the disappearances, ranging from teenagers to people in their 70s. \\\"I've personally experienced this pain. One of my family members went missing and another was murdered,\\\" he says, speaking on condition of anonymity because of threats he says he has received for highlighting the issue. \\\"Families are suffering. Many have gone to their graves without ever seeing justice for their loved ones. \\\"While some may have disappeared due to their involvement in criminal activities, there's growing concern that an organised organ harvesting ring could be operating behind the scenes,\\\" Aaron adds. Police say they are collating official figures for missing people covering the last two decades but by the time of publication had not provided any figures. This year has already seen two more. In late January, Orden David did not return home after a night out at a local casino. Orden's burnt-out car has since been recovered, but there have been few other clues. Alline Henry recalls Orden as her \\\"best friend of 23 years\\\". \\\"The worst part is not knowing if he's being held against his will,\\\" Alline says. \\\"Is someone abusing him, torturing him? Every day my thoughts run wild. If, God forbid, it's the worst case scenario, we need closure,\\\" she adds. Orden, 39, is well known in Antigua as a key litigant ina landmark 2022 case that overturned legislation criminalising same-sex acts. \\\"I can't explain how much it hurts that instead of focussing on the fact he's missing, some people focus on him being gay. \\\"I believe the case may have made him a target,\\\" Alline says sadly. With swathes of bushland and ocean all around, the ostensible ease of concealing a body in Antigua may partly explain the absence of answers many families suffer. \\\"Clearly the local police can't solve these disappearances. They need to bring in outside help. How many more people have to go missing before they do something. Who's next?\\\" Alline adds. Keon Richards, 38, who works for the national school meals programme, was last seen leaving work on 26 February. His mother Dian Clarke says she is \\\"trying to stay positive\\\", adding: \\\"You hear about people going missing in the news and then it creeps up on you.\\\" With the exception of a 43-year-old woman, all those to vanish without trace in the last two years are men, aged between 18 and 76. Hindering investigations is the lack of a local forensic lab which means crucial DNA samples must be sent overseas for analysis, equating to lengthy waits for results. Director of Forensic Services Michael Murrell tells the BBC that a new lab capable of analysing trace evidence such as hair, blood and semen will become operational within months, but admits DNA capabilities are some way off because of meagre finances. Updated technology cannot come soon enough for some. Gregory Bailey's son Kevorn, 26, has not been seen since he received a phone call from an unknown person who he apparently left his home to meet in August 2022. Gregory says the telecoms firm claims to have given the caller's name to police long ago, but \\\"up to now the police can't tell me who it was\\\". His frustration and despair are evident. \\\"It's like a part of me is missing. Some people talk about closure, but I couldn't handle seeing him in a coffin; I prefer to picture him alive,\\\" he says. \\\"It's emotionally aggravating to pursue the police. If I don't call them I don't hear anything; if I do, I get sweet nothings,\\\" he adds. \\\"I want the government to know people are grieving; I don't know if they appreciate that. \\\"I put up missing posters everywhere, but I couldn't put up any around my home; I couldn't bear it. It's the most painful experience of my life.\\\" Gregory believes the high number of disappearances is largely due to the extent with which criminal factions get away with murder. Aaron has also collated a list of more than 100 unsolved killings. \\\"People don't trust the police; corruption is rampant in law enforcement,\\\" Gregory says. Aaron agrees: \\\"There've been cases where perpetrators have retaliated against the families of victims when reports were made.\\\" Police Chief Jeffers says \\\"no police force in the world is perfect\\\". But adds: \\\"I can guarantee 90% of our officers are good.\\\" He also admits limited finances impede investigations. \\\"There's no police force in the Caribbean that has enough resources to do everything we have to do. \\\"We do a lot to look for people, get leads from the public and matter and pledged a raft of new measures including the establishment of a designated missing persons' task force and the acquisition of dogs trained to detect bodies. But that may not be enough to appease those desperately awaiting answers. \\\"It's time to take serious action,\\\" Patricia urges. \\\"I hope this doesn't happen to someone close to them before they take a good fresh look at these disappearances.\\\"\"\n        ],\n        \"semantic_type\": \"\",\n        \"description\": \"\"\n      }\n    }\n  ]\n}"
            }
          },
          "metadata": {},
          "execution_count": 13
        }
      ]
    },
    {
      "cell_type": "code",
      "source": [
        "df.shape"
      ],
      "metadata": {
        "colab": {
          "base_uri": "https://localhost:8080/"
        },
        "id": "Ba4BJY51m1J_",
        "outputId": "1ce0153d-42a8-4b58-eaef-3b397767e586"
      },
      "execution_count": 14,
      "outputs": [
        {
          "output_type": "execute_result",
          "data": {
            "text/plain": [
              "(89, 3)"
            ]
          },
          "metadata": {},
          "execution_count": 14
        }
      ]
    },
    {
      "cell_type": "code",
      "source": [
        "# prompt: change name of csv file..dont rewrite complete code...just change the name\n",
        "\n",
        "# Convert to DataFrame and save\n",
        "df = pd.DataFrame(news_data)\n",
        "df.to_csv(\"web_scraping_news_articles.csv\", index=False) # Change filename here\n"
      ],
      "metadata": {
        "id": "87DrgBSum1_8"
      },
      "execution_count": 16,
      "outputs": []
    },
    {
      "cell_type": "markdown",
      "source": [
        "#Reuters\n"
      ],
      "metadata": {
        "id": "M09JYpEUoSRk"
      }
    },
    {
      "cell_type": "code",
      "source": [
        "!pip install requests pandas\n"
      ],
      "metadata": {
        "colab": {
          "base_uri": "https://localhost:8080/"
        },
        "id": "eJxuB9ASoZVi",
        "outputId": "4a3586fd-cf66-415c-8ca4-c0632b77ce35"
      },
      "execution_count": 21,
      "outputs": [
        {
          "output_type": "stream",
          "name": "stdout",
          "text": [
            "Requirement already satisfied: requests in /usr/local/lib/python3.11/dist-packages (2.32.3)\n",
            "Requirement already satisfied: pandas in /usr/local/lib/python3.11/dist-packages (2.2.2)\n",
            "Requirement already satisfied: charset-normalizer<4,>=2 in /usr/local/lib/python3.11/dist-packages (from requests) (3.4.1)\n",
            "Requirement already satisfied: idna<4,>=2.5 in /usr/local/lib/python3.11/dist-packages (from requests) (3.10)\n",
            "Requirement already satisfied: urllib3<3,>=1.21.1 in /usr/local/lib/python3.11/dist-packages (from requests) (2.3.0)\n",
            "Requirement already satisfied: certifi>=2017.4.17 in /usr/local/lib/python3.11/dist-packages (from requests) (2025.1.31)\n",
            "Requirement already satisfied: numpy>=1.23.2 in /usr/local/lib/python3.11/dist-packages (from pandas) (2.0.2)\n",
            "Requirement already satisfied: python-dateutil>=2.8.2 in /usr/local/lib/python3.11/dist-packages (from pandas) (2.8.2)\n",
            "Requirement already satisfied: pytz>=2020.1 in /usr/local/lib/python3.11/dist-packages (from pandas) (2025.1)\n",
            "Requirement already satisfied: tzdata>=2022.7 in /usr/local/lib/python3.11/dist-packages (from pandas) (2025.1)\n",
            "Requirement already satisfied: six>=1.5 in /usr/local/lib/python3.11/dist-packages (from python-dateutil>=2.8.2->pandas) (1.17.0)\n"
          ]
        }
      ]
    },
    {
      "cell_type": "code",
      "source": [
        "import requests\n",
        "import pandas as pd\n",
        "import time\n",
        "\n",
        "# 🔑 Replace this with your actual ScraperAPI key\n",
        "SCRAPER_API_KEY = \"370d187c33f48cba4e3d4783d0a28d50\"\n",
        "\n",
        "# Reuters World News URL\n",
        "REUTERS_URL = \"https://www.reuters.com/world/\"\n",
        "\n",
        "# Format the ScraperAPI request\n",
        "proxy_url = f\"http://api.scraperapi.com/?api_key={SCRAPER_API_KEY}&url={REUTERS_URL}\"\n",
        "\n",
        "# Send the request through ScraperAPI\n",
        "response = requests.get(proxy_url)\n",
        "\n",
        "if response.status_code == 200:\n",
        "    from bs4 import BeautifulSoup\n",
        "\n",
        "    soup = BeautifulSoup(response.text, \"html.parser\")\n",
        "\n",
        "    # Find all article links\n",
        "    articles = soup.select(\"a[href^='/world/']\")\n",
        "\n",
        "    news_data = []\n",
        "    for article in articles[:100]:  # Adjust this to scrape more\n",
        "        headline = article.get_text(strip=True)\n",
        "        link = \"https://www.reuters.com\" + article[\"href\"]\n",
        "\n",
        "        # Fetch full article content using ScraperAPI\n",
        "        try:\n",
        "            article_proxy_url = f\"http://api.scraperapi.com/?api_key={SCRAPER_API_KEY}&url={link}\"\n",
        "            article_response = requests.get(article_proxy_url)\n",
        "            article_soup = BeautifulSoup(article_response.text, \"html.parser\")\n",
        "            paragraphs = article_soup.select(\"article p\")\n",
        "            content = \" \".join([p.get_text(strip=True) for p in paragraphs])\n",
        "        except:\n",
        "            content = \"Content not available\"\n",
        "\n",
        "        news_data.append({\"headline\": headline, \"link\": link, \"content\": content})\n",
        "        time.sleep(1)  # Prevent rate-limiting\n",
        "\n",
        "    # Save to CSV\n",
        "    df = pd.DataFrame(news_data)\n",
        "    df.to_csv(\"reuters_news.csv\", index=False)\n",
        "\n",
        "    print(\"✅ Scraping completed! Data saved to 'reuters_news.csv'.\")\n",
        "else:\n",
        "    print(f\"❌ Failed to retrieve page. Status code: {response.status_code}\")\n"
      ],
      "metadata": {
        "colab": {
          "base_uri": "https://localhost:8080/"
        },
        "id": "vFDfmdLRosMT",
        "outputId": "162b0c94-5681-4106-84d5-bfac3816cfc3"
      },
      "execution_count": 23,
      "outputs": [
        {
          "output_type": "stream",
          "name": "stdout",
          "text": [
            "✅ Scraping completed! Data saved to 'reuters_news.csv'.\n"
          ]
        }
      ]
    },
    {
      "cell_type": "code",
      "source": [
        "df.shape"
      ],
      "metadata": {
        "colab": {
          "base_uri": "https://localhost:8080/"
        },
        "id": "alRdAkLapJz2",
        "outputId": "d93984d1-a13b-4b39-a9e3-b7b81d3a0e30"
      },
      "execution_count": 24,
      "outputs": [
        {
          "output_type": "execute_result",
          "data": {
            "text/plain": [
              "(77, 3)"
            ]
          },
          "metadata": {},
          "execution_count": 24
        }
      ]
    },
    {
      "cell_type": "code",
      "source": [
        "df"
      ],
      "metadata": {
        "colab": {
          "base_uri": "https://localhost:8080/",
          "height": 649
        },
        "id": "xbfeYkbIuYsz",
        "outputId": "ae20fcd3-4b99-4e82-9208-2be9dd177a61"
      },
      "execution_count": 25,
      "outputs": [
        {
          "output_type": "execute_result",
          "data": {
            "text/plain": [
              "                                             headline  \\\n",
              "0                                               World   \n",
              "1                                        Browse World   \n",
              "2                                              Africa   \n",
              "3                                            Americas   \n",
              "4                                        Asia Pacific   \n",
              "..                                                ...   \n",
              "72  Nepal investigates deadly violence in pro-mona...   \n",
              "73                                                      \n",
              "74                                   Americascategory   \n",
              "75  Haitian ex-mayor guilty of US visa fraud linke...   \n",
              "76                                              World   \n",
              "\n",
              "                                                 link  \\\n",
              "0                      https://www.reuters.com/world/   \n",
              "1                      https://www.reuters.com/world/   \n",
              "2               https://www.reuters.com/world/africa/   \n",
              "3             https://www.reuters.com/world/americas/   \n",
              "4         https://www.reuters.com/world/asia-pacific/   \n",
              "..                                                ...   \n",
              "72  https://www.reuters.com/world/asia-pacific/nep...   \n",
              "73  https://www.reuters.com/world/americas/haitian...   \n",
              "74            https://www.reuters.com/world/americas/   \n",
              "75  https://www.reuters.com/world/americas/haitian...   \n",
              "76                     https://www.reuters.com/world/   \n",
              "\n",
              "                                              content  \n",
              "0                                                      \n",
              "1                                                      \n",
              "2                                                      \n",
              "3                                                      \n",
              "4                                                      \n",
              "..                                                ...  \n",
              "72  Sign uphere. Reporting by Gopal Sharma; Editin...  \n",
              "73  Sign uphere. Reporting by Nate Raymond in Bost...  \n",
              "74                                                     \n",
              "75  Sign uphere. Reporting by Nate Raymond in Bost...  \n",
              "76                                                     \n",
              "\n",
              "[77 rows x 3 columns]"
            ],
            "text/html": [
              "\n",
              "  <div id=\"df-85d3842c-36fb-44e7-82a0-8217ec25dce6\" class=\"colab-df-container\">\n",
              "    <div>\n",
              "<style scoped>\n",
              "    .dataframe tbody tr th:only-of-type {\n",
              "        vertical-align: middle;\n",
              "    }\n",
              "\n",
              "    .dataframe tbody tr th {\n",
              "        vertical-align: top;\n",
              "    }\n",
              "\n",
              "    .dataframe thead th {\n",
              "        text-align: right;\n",
              "    }\n",
              "</style>\n",
              "<table border=\"1\" class=\"dataframe\">\n",
              "  <thead>\n",
              "    <tr style=\"text-align: right;\">\n",
              "      <th></th>\n",
              "      <th>headline</th>\n",
              "      <th>link</th>\n",
              "      <th>content</th>\n",
              "    </tr>\n",
              "  </thead>\n",
              "  <tbody>\n",
              "    <tr>\n",
              "      <th>0</th>\n",
              "      <td>World</td>\n",
              "      <td>https://www.reuters.com/world/</td>\n",
              "      <td></td>\n",
              "    </tr>\n",
              "    <tr>\n",
              "      <th>1</th>\n",
              "      <td>Browse World</td>\n",
              "      <td>https://www.reuters.com/world/</td>\n",
              "      <td></td>\n",
              "    </tr>\n",
              "    <tr>\n",
              "      <th>2</th>\n",
              "      <td>Africa</td>\n",
              "      <td>https://www.reuters.com/world/africa/</td>\n",
              "      <td></td>\n",
              "    </tr>\n",
              "    <tr>\n",
              "      <th>3</th>\n",
              "      <td>Americas</td>\n",
              "      <td>https://www.reuters.com/world/americas/</td>\n",
              "      <td></td>\n",
              "    </tr>\n",
              "    <tr>\n",
              "      <th>4</th>\n",
              "      <td>Asia Pacific</td>\n",
              "      <td>https://www.reuters.com/world/asia-pacific/</td>\n",
              "      <td></td>\n",
              "    </tr>\n",
              "    <tr>\n",
              "      <th>...</th>\n",
              "      <td>...</td>\n",
              "      <td>...</td>\n",
              "      <td>...</td>\n",
              "    </tr>\n",
              "    <tr>\n",
              "      <th>72</th>\n",
              "      <td>Nepal investigates deadly violence in pro-mona...</td>\n",
              "      <td>https://www.reuters.com/world/asia-pacific/nep...</td>\n",
              "      <td>Sign uphere. Reporting by Gopal Sharma; Editin...</td>\n",
              "    </tr>\n",
              "    <tr>\n",
              "      <th>73</th>\n",
              "      <td></td>\n",
              "      <td>https://www.reuters.com/world/americas/haitian...</td>\n",
              "      <td>Sign uphere. Reporting by Nate Raymond in Bost...</td>\n",
              "    </tr>\n",
              "    <tr>\n",
              "      <th>74</th>\n",
              "      <td>Americascategory</td>\n",
              "      <td>https://www.reuters.com/world/americas/</td>\n",
              "      <td></td>\n",
              "    </tr>\n",
              "    <tr>\n",
              "      <th>75</th>\n",
              "      <td>Haitian ex-mayor guilty of US visa fraud linke...</td>\n",
              "      <td>https://www.reuters.com/world/americas/haitian...</td>\n",
              "      <td>Sign uphere. Reporting by Nate Raymond in Bost...</td>\n",
              "    </tr>\n",
              "    <tr>\n",
              "      <th>76</th>\n",
              "      <td>World</td>\n",
              "      <td>https://www.reuters.com/world/</td>\n",
              "      <td></td>\n",
              "    </tr>\n",
              "  </tbody>\n",
              "</table>\n",
              "<p>77 rows × 3 columns</p>\n",
              "</div>\n",
              "    <div class=\"colab-df-buttons\">\n",
              "\n",
              "  <div class=\"colab-df-container\">\n",
              "    <button class=\"colab-df-convert\" onclick=\"convertToInteractive('df-85d3842c-36fb-44e7-82a0-8217ec25dce6')\"\n",
              "            title=\"Convert this dataframe to an interactive table.\"\n",
              "            style=\"display:none;\">\n",
              "\n",
              "  <svg xmlns=\"http://www.w3.org/2000/svg\" height=\"24px\" viewBox=\"0 -960 960 960\">\n",
              "    <path d=\"M120-120v-720h720v720H120Zm60-500h600v-160H180v160Zm220 220h160v-160H400v160Zm0 220h160v-160H400v160ZM180-400h160v-160H180v160Zm440 0h160v-160H620v160ZM180-180h160v-160H180v160Zm440 0h160v-160H620v160Z\"/>\n",
              "  </svg>\n",
              "    </button>\n",
              "\n",
              "  <style>\n",
              "    .colab-df-container {\n",
              "      display:flex;\n",
              "      gap: 12px;\n",
              "    }\n",
              "\n",
              "    .colab-df-convert {\n",
              "      background-color: #E8F0FE;\n",
              "      border: none;\n",
              "      border-radius: 50%;\n",
              "      cursor: pointer;\n",
              "      display: none;\n",
              "      fill: #1967D2;\n",
              "      height: 32px;\n",
              "      padding: 0 0 0 0;\n",
              "      width: 32px;\n",
              "    }\n",
              "\n",
              "    .colab-df-convert:hover {\n",
              "      background-color: #E2EBFA;\n",
              "      box-shadow: 0px 1px 2px rgba(60, 64, 67, 0.3), 0px 1px 3px 1px rgba(60, 64, 67, 0.15);\n",
              "      fill: #174EA6;\n",
              "    }\n",
              "\n",
              "    .colab-df-buttons div {\n",
              "      margin-bottom: 4px;\n",
              "    }\n",
              "\n",
              "    [theme=dark] .colab-df-convert {\n",
              "      background-color: #3B4455;\n",
              "      fill: #D2E3FC;\n",
              "    }\n",
              "\n",
              "    [theme=dark] .colab-df-convert:hover {\n",
              "      background-color: #434B5C;\n",
              "      box-shadow: 0px 1px 3px 1px rgba(0, 0, 0, 0.15);\n",
              "      filter: drop-shadow(0px 1px 2px rgba(0, 0, 0, 0.3));\n",
              "      fill: #FFFFFF;\n",
              "    }\n",
              "  </style>\n",
              "\n",
              "    <script>\n",
              "      const buttonEl =\n",
              "        document.querySelector('#df-85d3842c-36fb-44e7-82a0-8217ec25dce6 button.colab-df-convert');\n",
              "      buttonEl.style.display =\n",
              "        google.colab.kernel.accessAllowed ? 'block' : 'none';\n",
              "\n",
              "      async function convertToInteractive(key) {\n",
              "        const element = document.querySelector('#df-85d3842c-36fb-44e7-82a0-8217ec25dce6');\n",
              "        const dataTable =\n",
              "          await google.colab.kernel.invokeFunction('convertToInteractive',\n",
              "                                                    [key], {});\n",
              "        if (!dataTable) return;\n",
              "\n",
              "        const docLinkHtml = 'Like what you see? Visit the ' +\n",
              "          '<a target=\"_blank\" href=https://colab.research.google.com/notebooks/data_table.ipynb>data table notebook</a>'\n",
              "          + ' to learn more about interactive tables.';\n",
              "        element.innerHTML = '';\n",
              "        dataTable['output_type'] = 'display_data';\n",
              "        await google.colab.output.renderOutput(dataTable, element);\n",
              "        const docLink = document.createElement('div');\n",
              "        docLink.innerHTML = docLinkHtml;\n",
              "        element.appendChild(docLink);\n",
              "      }\n",
              "    </script>\n",
              "  </div>\n",
              "\n",
              "\n",
              "<div id=\"df-9eac5615-d7bb-417d-93e7-1413fb6c0db7\">\n",
              "  <button class=\"colab-df-quickchart\" onclick=\"quickchart('df-9eac5615-d7bb-417d-93e7-1413fb6c0db7')\"\n",
              "            title=\"Suggest charts\"\n",
              "            style=\"display:none;\">\n",
              "\n",
              "<svg xmlns=\"http://www.w3.org/2000/svg\" height=\"24px\"viewBox=\"0 0 24 24\"\n",
              "     width=\"24px\">\n",
              "    <g>\n",
              "        <path d=\"M19 3H5c-1.1 0-2 .9-2 2v14c0 1.1.9 2 2 2h14c1.1 0 2-.9 2-2V5c0-1.1-.9-2-2-2zM9 17H7v-7h2v7zm4 0h-2V7h2v10zm4 0h-2v-4h2v4z\"/>\n",
              "    </g>\n",
              "</svg>\n",
              "  </button>\n",
              "\n",
              "<style>\n",
              "  .colab-df-quickchart {\n",
              "      --bg-color: #E8F0FE;\n",
              "      --fill-color: #1967D2;\n",
              "      --hover-bg-color: #E2EBFA;\n",
              "      --hover-fill-color: #174EA6;\n",
              "      --disabled-fill-color: #AAA;\n",
              "      --disabled-bg-color: #DDD;\n",
              "  }\n",
              "\n",
              "  [theme=dark] .colab-df-quickchart {\n",
              "      --bg-color: #3B4455;\n",
              "      --fill-color: #D2E3FC;\n",
              "      --hover-bg-color: #434B5C;\n",
              "      --hover-fill-color: #FFFFFF;\n",
              "      --disabled-bg-color: #3B4455;\n",
              "      --disabled-fill-color: #666;\n",
              "  }\n",
              "\n",
              "  .colab-df-quickchart {\n",
              "    background-color: var(--bg-color);\n",
              "    border: none;\n",
              "    border-radius: 50%;\n",
              "    cursor: pointer;\n",
              "    display: none;\n",
              "    fill: var(--fill-color);\n",
              "    height: 32px;\n",
              "    padding: 0;\n",
              "    width: 32px;\n",
              "  }\n",
              "\n",
              "  .colab-df-quickchart:hover {\n",
              "    background-color: var(--hover-bg-color);\n",
              "    box-shadow: 0 1px 2px rgba(60, 64, 67, 0.3), 0 1px 3px 1px rgba(60, 64, 67, 0.15);\n",
              "    fill: var(--button-hover-fill-color);\n",
              "  }\n",
              "\n",
              "  .colab-df-quickchart-complete:disabled,\n",
              "  .colab-df-quickchart-complete:disabled:hover {\n",
              "    background-color: var(--disabled-bg-color);\n",
              "    fill: var(--disabled-fill-color);\n",
              "    box-shadow: none;\n",
              "  }\n",
              "\n",
              "  .colab-df-spinner {\n",
              "    border: 2px solid var(--fill-color);\n",
              "    border-color: transparent;\n",
              "    border-bottom-color: var(--fill-color);\n",
              "    animation:\n",
              "      spin 1s steps(1) infinite;\n",
              "  }\n",
              "\n",
              "  @keyframes spin {\n",
              "    0% {\n",
              "      border-color: transparent;\n",
              "      border-bottom-color: var(--fill-color);\n",
              "      border-left-color: var(--fill-color);\n",
              "    }\n",
              "    20% {\n",
              "      border-color: transparent;\n",
              "      border-left-color: var(--fill-color);\n",
              "      border-top-color: var(--fill-color);\n",
              "    }\n",
              "    30% {\n",
              "      border-color: transparent;\n",
              "      border-left-color: var(--fill-color);\n",
              "      border-top-color: var(--fill-color);\n",
              "      border-right-color: var(--fill-color);\n",
              "    }\n",
              "    40% {\n",
              "      border-color: transparent;\n",
              "      border-right-color: var(--fill-color);\n",
              "      border-top-color: var(--fill-color);\n",
              "    }\n",
              "    60% {\n",
              "      border-color: transparent;\n",
              "      border-right-color: var(--fill-color);\n",
              "    }\n",
              "    80% {\n",
              "      border-color: transparent;\n",
              "      border-right-color: var(--fill-color);\n",
              "      border-bottom-color: var(--fill-color);\n",
              "    }\n",
              "    90% {\n",
              "      border-color: transparent;\n",
              "      border-bottom-color: var(--fill-color);\n",
              "    }\n",
              "  }\n",
              "</style>\n",
              "\n",
              "  <script>\n",
              "    async function quickchart(key) {\n",
              "      const quickchartButtonEl =\n",
              "        document.querySelector('#' + key + ' button');\n",
              "      quickchartButtonEl.disabled = true;  // To prevent multiple clicks.\n",
              "      quickchartButtonEl.classList.add('colab-df-spinner');\n",
              "      try {\n",
              "        const charts = await google.colab.kernel.invokeFunction(\n",
              "            'suggestCharts', [key], {});\n",
              "      } catch (error) {\n",
              "        console.error('Error during call to suggestCharts:', error);\n",
              "      }\n",
              "      quickchartButtonEl.classList.remove('colab-df-spinner');\n",
              "      quickchartButtonEl.classList.add('colab-df-quickchart-complete');\n",
              "    }\n",
              "    (() => {\n",
              "      let quickchartButtonEl =\n",
              "        document.querySelector('#df-9eac5615-d7bb-417d-93e7-1413fb6c0db7 button');\n",
              "      quickchartButtonEl.style.display =\n",
              "        google.colab.kernel.accessAllowed ? 'block' : 'none';\n",
              "    })();\n",
              "  </script>\n",
              "</div>\n",
              "\n",
              "  <div id=\"id_2d3e8f28-9968-46fa-bec3-cbae3bcdf23d\">\n",
              "    <style>\n",
              "      .colab-df-generate {\n",
              "        background-color: #E8F0FE;\n",
              "        border: none;\n",
              "        border-radius: 50%;\n",
              "        cursor: pointer;\n",
              "        display: none;\n",
              "        fill: #1967D2;\n",
              "        height: 32px;\n",
              "        padding: 0 0 0 0;\n",
              "        width: 32px;\n",
              "      }\n",
              "\n",
              "      .colab-df-generate:hover {\n",
              "        background-color: #E2EBFA;\n",
              "        box-shadow: 0px 1px 2px rgba(60, 64, 67, 0.3), 0px 1px 3px 1px rgba(60, 64, 67, 0.15);\n",
              "        fill: #174EA6;\n",
              "      }\n",
              "\n",
              "      [theme=dark] .colab-df-generate {\n",
              "        background-color: #3B4455;\n",
              "        fill: #D2E3FC;\n",
              "      }\n",
              "\n",
              "      [theme=dark] .colab-df-generate:hover {\n",
              "        background-color: #434B5C;\n",
              "        box-shadow: 0px 1px 3px 1px rgba(0, 0, 0, 0.15);\n",
              "        filter: drop-shadow(0px 1px 2px rgba(0, 0, 0, 0.3));\n",
              "        fill: #FFFFFF;\n",
              "      }\n",
              "    </style>\n",
              "    <button class=\"colab-df-generate\" onclick=\"generateWithVariable('df')\"\n",
              "            title=\"Generate code using this dataframe.\"\n",
              "            style=\"display:none;\">\n",
              "\n",
              "  <svg xmlns=\"http://www.w3.org/2000/svg\" height=\"24px\"viewBox=\"0 0 24 24\"\n",
              "       width=\"24px\">\n",
              "    <path d=\"M7,19H8.4L18.45,9,17,7.55,7,17.6ZM5,21V16.75L18.45,3.32a2,2,0,0,1,2.83,0l1.4,1.43a1.91,1.91,0,0,1,.58,1.4,1.91,1.91,0,0,1-.58,1.4L9.25,21ZM18.45,9,17,7.55Zm-12,3A5.31,5.31,0,0,0,4.9,8.1,5.31,5.31,0,0,0,1,6.5,5.31,5.31,0,0,0,4.9,4.9,5.31,5.31,0,0,0,6.5,1,5.31,5.31,0,0,0,8.1,4.9,5.31,5.31,0,0,0,12,6.5,5.46,5.46,0,0,0,6.5,12Z\"/>\n",
              "  </svg>\n",
              "    </button>\n",
              "    <script>\n",
              "      (() => {\n",
              "      const buttonEl =\n",
              "        document.querySelector('#id_2d3e8f28-9968-46fa-bec3-cbae3bcdf23d button.colab-df-generate');\n",
              "      buttonEl.style.display =\n",
              "        google.colab.kernel.accessAllowed ? 'block' : 'none';\n",
              "\n",
              "      buttonEl.onclick = () => {\n",
              "        google.colab.notebook.generateWithVariable('df');\n",
              "      }\n",
              "      })();\n",
              "    </script>\n",
              "  </div>\n",
              "\n",
              "    </div>\n",
              "  </div>\n"
            ],
            "application/vnd.google.colaboratory.intrinsic+json": {
              "type": "dataframe",
              "variable_name": "df",
              "summary": "{\n  \"name\": \"df\",\n  \"rows\": 77,\n  \"fields\": [\n    {\n      \"column\": \"headline\",\n      \"properties\": {\n        \"dtype\": \"string\",\n        \"num_unique_values\": 39,\n        \"samples\": [\n          \"Zelenskiy cautious on new minerals deal but says past U.S. aid was not a loan\",\n          \"Australia's Albanese starts election campaign touting healthcare credentials\",\n          \"Asia Pacific\"\n        ],\n        \"semantic_type\": \"\",\n        \"description\": \"\"\n      }\n    },\n    {\n      \"column\": \"link\",\n      \"properties\": {\n        \"dtype\": \"category\",\n        \"num_unique_values\": 30,\n        \"samples\": [\n          \"https://www.reuters.com/world/asia-pacific/australias-albanese-starts-election-campaign-touting-healthcare-credentials-2025-03-29/\",\n          \"https://www.reuters.com/world/middle-east/large-crowds-rally-istanbul-over-jailing-citys-mayor-2025-03-29/\",\n          \"https://www.reuters.com/world/americas/trump-says-he-had-productive-call-with-canadian-pm-carney-2025-03-28/\"\n        ],\n        \"semantic_type\": \"\",\n        \"description\": \"\"\n      }\n    },\n    {\n      \"column\": \"content\",\n      \"properties\": {\n        \"dtype\": \"category\",\n        \"num_unique_values\": 17,\n        \"samples\": [\n          \"\",\n          \"Sign uphere. Reporting by Bangkok Bureau, Shoon Naing, Wa Lone and Heather Timmons; Writing by John Mair and Devjyot Ghoshal; Editing by William Mallard Our Standards:The Thomson Reuters Trust Principles., opens new tab\",\n          \"Sign uphere. Reporting by Jack Kim; Editing by William Mallard Our Standards:The Thomson Reuters Trust Principles., opens new tab\"\n        ],\n        \"semantic_type\": \"\",\n        \"description\": \"\"\n      }\n    }\n  ]\n}"
            }
          },
          "metadata": {},
          "execution_count": 25
        }
      ]
    },
    {
      "cell_type": "code",
      "source": [
        "# prompt: add these new 77 rows to web_scraping_news_articles.csv by reading from reuters_news.csv\n",
        "\n",
        "import pandas as pd\n",
        "\n",
        "try:\n",
        "    # Read the existing CSV file\n",
        "    existing_df = pd.read_csv(\"web_scraping_news_articles.csv\")\n",
        "\n",
        "    # Read the new data from reuters_news.csv\n",
        "    new_data_df = pd.read_csv(\"reuters_news.csv\")\n",
        "\n",
        "    # Concatenate the DataFrames\n",
        "    combined_df = pd.concat([existing_df, new_data_df], ignore_index=True)\n",
        "\n",
        "    # Save the combined DataFrame back to the CSV file\n",
        "    combined_df.to_csv(\"web_scraping_news_articles.csv\", index=False)\n",
        "    print(\"Successfully added new data to web_scraping_news_articles.csv\")\n",
        "\n",
        "except FileNotFoundError:\n",
        "    print(\"Error: One or both of the CSV files not found.\")\n",
        "except Exception as e:\n",
        "    print(f\"An error occurred: {e}\")\n"
      ],
      "metadata": {
        "colab": {
          "base_uri": "https://localhost:8080/"
        },
        "id": "SZiXq3a6uLU3",
        "outputId": "01045f31-1d28-4065-c0eb-bfc25dfe794b"
      },
      "execution_count": 26,
      "outputs": [
        {
          "output_type": "stream",
          "name": "stdout",
          "text": [
            "Successfully added new data to web_scraping_news_articles.csv\n"
          ]
        }
      ]
    },
    {
      "cell_type": "code",
      "source": [
        "combined_df.shape"
      ],
      "metadata": {
        "colab": {
          "base_uri": "https://localhost:8080/"
        },
        "id": "PK_aw_cLujlh",
        "outputId": "71e27007-eeb3-403e-f467-b6d623191b75"
      },
      "execution_count": 27,
      "outputs": [
        {
          "output_type": "execute_result",
          "data": {
            "text/plain": [
              "(166, 3)"
            ]
          },
          "metadata": {},
          "execution_count": 27
        }
      ]
    },
    {
      "cell_type": "markdown",
      "source": [
        "#CNN"
      ],
      "metadata": {
        "id": "L2xR2TA8Z_zA"
      }
    },
    {
      "cell_type": "code",
      "source": [
        "import requests\n",
        "import pandas as pd\n",
        "from bs4 import BeautifulSoup\n",
        "import time\n",
        "\n",
        "# 🔑 Replace this with your actual ScraperAPI key\n",
        "SCRAPER_API_KEY = \"370d187c33f48cba4e3d4783d0a28d50\"\n",
        "\n",
        "# CNN World News URL\n",
        "CNN_URL = \"https://edition.cnn.com/world\"\n",
        "\n",
        "# Use ScraperAPI to bypass CNN blocks\n",
        "proxy_url = f\"http://api.scraperapi.com/?api_key={SCRAPER_API_KEY}&url={CNN_URL}\"\n",
        "response = requests.get(proxy_url)\n",
        "\n",
        "if response.status_code == 200:\n",
        "    soup = BeautifulSoup(response.text, \"html.parser\")\n",
        "\n",
        "    # Find all article links\n",
        "    articles = soup.select(\"a[href^='/']\")  # CNN articles have relative URLs\n",
        "\n",
        "    news_data = []\n",
        "    for article in articles[:200]:  # Increase if needed\n",
        "        headline = article.get_text(strip=True)\n",
        "        link = \"https://edition.cnn.com\" + article[\"href\"]\n",
        "\n",
        "        # Fetch full article content\n",
        "        try:\n",
        "            article_proxy_url = f\"http://api.scraperapi.com/?api_key={SCRAPER_API_KEY}&url={link}\"\n",
        "            article_response = requests.get(article_proxy_url)\n",
        "            article_soup = BeautifulSoup(article_response.text, \"html.parser\")\n",
        "            paragraphs = article_soup.select(\"p\")\n",
        "            content = \" \".join([p.get_text(strip=True) for p in paragraphs])\n",
        "        except:\n",
        "            content = \"Content not available\"\n",
        "\n",
        "        news_data.append({\"headline\": headline, \"link\": link, \"content\": content})\n",
        "        time.sleep(1)  # Prevent rate-limiting\n",
        "\n",
        "    # Save to CSV\n",
        "    df = pd.DataFrame(news_data)\n",
        "    df.to_csv(\"cnn_news.csv\", index=False)\n",
        "\n",
        "    print(\"✅ Scraping completed! Data saved to 'cnn_news.csv'.\")\n",
        "else:\n",
        "    print(f\"❌ Failed to retrieve page. Status code: {response.status_code}\")\n"
      ],
      "metadata": {
        "colab": {
          "base_uri": "https://localhost:8080/"
        },
        "id": "B9L3rsp1umR8",
        "outputId": "2376fbd6-6ffc-44df-ccf2-475168821b04"
      },
      "execution_count": 31,
      "outputs": [
        {
          "output_type": "stream",
          "name": "stdout",
          "text": [
            "✅ Scraping completed! Data saved to 'cnn_news.csv'.\n"
          ]
        }
      ]
    },
    {
      "cell_type": "code",
      "source": [
        "df"
      ],
      "metadata": {
        "colab": {
          "base_uri": "https://localhost:8080/",
          "height": 597
        },
        "id": "VleWWQqSvALN",
        "outputId": "df0eafdd-7b4f-4d58-8c0e-16ebd4dff499"
      },
      "execution_count": 32,
      "outputs": [
        {
          "output_type": "execute_result",
          "data": {
            "text/plain": [
              "              headline                                           link  \\\n",
              "0             Settings       https://edition.cnn.com/account/settings   \n",
              "1          Newsletters            https://edition.cnn.com/newsletters   \n",
              "2    Topics You Follow  https://edition.cnn.com/follow?iid=fw_var-nav   \n",
              "3             Settings       https://edition.cnn.com/account/settings   \n",
              "4          Newsletters            https://edition.cnn.com/newsletters   \n",
              "..                 ...                                            ...   \n",
              "127        Newsletters            https://edition.cnn.com/newsletters   \n",
              "128  Topics You Follow  https://edition.cnn.com/follow?iid=fw_var-nav   \n",
              "129           Settings       https://edition.cnn.com/account/settings   \n",
              "130        Newsletters            https://edition.cnn.com/newsletters   \n",
              "131  Topics You Follow  https://edition.cnn.com/follow?iid=fw_var-nav   \n",
              "\n",
              "                                               content  \n",
              "0    Your account is not verified.To ensure you're ...  \n",
              "1    CNN News, delivered. Select from our newslette...  \n",
              "2    Unlock your personalized feed and get email up...  \n",
              "3    Your account is not verified.To ensure you're ...  \n",
              "4    CNN News, delivered. Select from our newslette...  \n",
              "..                                                 ...  \n",
              "127  CNN News, delivered. Select from our newslette...  \n",
              "128  Unlock your personalized feed and get email up...  \n",
              "129  Your account is not verified.To ensure you're ...  \n",
              "130  CNN News, delivered. Select from our newslette...  \n",
              "131  Unlock your personalized feed and get email up...  \n",
              "\n",
              "[132 rows x 3 columns]"
            ],
            "text/html": [
              "\n",
              "  <div id=\"df-22195553-c9aa-4def-91d4-8c85ede3d381\" class=\"colab-df-container\">\n",
              "    <div>\n",
              "<style scoped>\n",
              "    .dataframe tbody tr th:only-of-type {\n",
              "        vertical-align: middle;\n",
              "    }\n",
              "\n",
              "    .dataframe tbody tr th {\n",
              "        vertical-align: top;\n",
              "    }\n",
              "\n",
              "    .dataframe thead th {\n",
              "        text-align: right;\n",
              "    }\n",
              "</style>\n",
              "<table border=\"1\" class=\"dataframe\">\n",
              "  <thead>\n",
              "    <tr style=\"text-align: right;\">\n",
              "      <th></th>\n",
              "      <th>headline</th>\n",
              "      <th>link</th>\n",
              "      <th>content</th>\n",
              "    </tr>\n",
              "  </thead>\n",
              "  <tbody>\n",
              "    <tr>\n",
              "      <th>0</th>\n",
              "      <td>Settings</td>\n",
              "      <td>https://edition.cnn.com/account/settings</td>\n",
              "      <td>Your account is not verified.To ensure you're ...</td>\n",
              "    </tr>\n",
              "    <tr>\n",
              "      <th>1</th>\n",
              "      <td>Newsletters</td>\n",
              "      <td>https://edition.cnn.com/newsletters</td>\n",
              "      <td>CNN News, delivered. Select from our newslette...</td>\n",
              "    </tr>\n",
              "    <tr>\n",
              "      <th>2</th>\n",
              "      <td>Topics You Follow</td>\n",
              "      <td>https://edition.cnn.com/follow?iid=fw_var-nav</td>\n",
              "      <td>Unlock your personalized feed and get email up...</td>\n",
              "    </tr>\n",
              "    <tr>\n",
              "      <th>3</th>\n",
              "      <td>Settings</td>\n",
              "      <td>https://edition.cnn.com/account/settings</td>\n",
              "      <td>Your account is not verified.To ensure you're ...</td>\n",
              "    </tr>\n",
              "    <tr>\n",
              "      <th>4</th>\n",
              "      <td>Newsletters</td>\n",
              "      <td>https://edition.cnn.com/newsletters</td>\n",
              "      <td>CNN News, delivered. Select from our newslette...</td>\n",
              "    </tr>\n",
              "    <tr>\n",
              "      <th>...</th>\n",
              "      <td>...</td>\n",
              "      <td>...</td>\n",
              "      <td>...</td>\n",
              "    </tr>\n",
              "    <tr>\n",
              "      <th>127</th>\n",
              "      <td>Newsletters</td>\n",
              "      <td>https://edition.cnn.com/newsletters</td>\n",
              "      <td>CNN News, delivered. Select from our newslette...</td>\n",
              "    </tr>\n",
              "    <tr>\n",
              "      <th>128</th>\n",
              "      <td>Topics You Follow</td>\n",
              "      <td>https://edition.cnn.com/follow?iid=fw_var-nav</td>\n",
              "      <td>Unlock your personalized feed and get email up...</td>\n",
              "    </tr>\n",
              "    <tr>\n",
              "      <th>129</th>\n",
              "      <td>Settings</td>\n",
              "      <td>https://edition.cnn.com/account/settings</td>\n",
              "      <td>Your account is not verified.To ensure you're ...</td>\n",
              "    </tr>\n",
              "    <tr>\n",
              "      <th>130</th>\n",
              "      <td>Newsletters</td>\n",
              "      <td>https://edition.cnn.com/newsletters</td>\n",
              "      <td>CNN News, delivered. Select from our newslette...</td>\n",
              "    </tr>\n",
              "    <tr>\n",
              "      <th>131</th>\n",
              "      <td>Topics You Follow</td>\n",
              "      <td>https://edition.cnn.com/follow?iid=fw_var-nav</td>\n",
              "      <td>Unlock your personalized feed and get email up...</td>\n",
              "    </tr>\n",
              "  </tbody>\n",
              "</table>\n",
              "<p>132 rows × 3 columns</p>\n",
              "</div>\n",
              "    <div class=\"colab-df-buttons\">\n",
              "\n",
              "  <div class=\"colab-df-container\">\n",
              "    <button class=\"colab-df-convert\" onclick=\"convertToInteractive('df-22195553-c9aa-4def-91d4-8c85ede3d381')\"\n",
              "            title=\"Convert this dataframe to an interactive table.\"\n",
              "            style=\"display:none;\">\n",
              "\n",
              "  <svg xmlns=\"http://www.w3.org/2000/svg\" height=\"24px\" viewBox=\"0 -960 960 960\">\n",
              "    <path d=\"M120-120v-720h720v720H120Zm60-500h600v-160H180v160Zm220 220h160v-160H400v160Zm0 220h160v-160H400v160ZM180-400h160v-160H180v160Zm440 0h160v-160H620v160ZM180-180h160v-160H180v160Zm440 0h160v-160H620v160Z\"/>\n",
              "  </svg>\n",
              "    </button>\n",
              "\n",
              "  <style>\n",
              "    .colab-df-container {\n",
              "      display:flex;\n",
              "      gap: 12px;\n",
              "    }\n",
              "\n",
              "    .colab-df-convert {\n",
              "      background-color: #E8F0FE;\n",
              "      border: none;\n",
              "      border-radius: 50%;\n",
              "      cursor: pointer;\n",
              "      display: none;\n",
              "      fill: #1967D2;\n",
              "      height: 32px;\n",
              "      padding: 0 0 0 0;\n",
              "      width: 32px;\n",
              "    }\n",
              "\n",
              "    .colab-df-convert:hover {\n",
              "      background-color: #E2EBFA;\n",
              "      box-shadow: 0px 1px 2px rgba(60, 64, 67, 0.3), 0px 1px 3px 1px rgba(60, 64, 67, 0.15);\n",
              "      fill: #174EA6;\n",
              "    }\n",
              "\n",
              "    .colab-df-buttons div {\n",
              "      margin-bottom: 4px;\n",
              "    }\n",
              "\n",
              "    [theme=dark] .colab-df-convert {\n",
              "      background-color: #3B4455;\n",
              "      fill: #D2E3FC;\n",
              "    }\n",
              "\n",
              "    [theme=dark] .colab-df-convert:hover {\n",
              "      background-color: #434B5C;\n",
              "      box-shadow: 0px 1px 3px 1px rgba(0, 0, 0, 0.15);\n",
              "      filter: drop-shadow(0px 1px 2px rgba(0, 0, 0, 0.3));\n",
              "      fill: #FFFFFF;\n",
              "    }\n",
              "  </style>\n",
              "\n",
              "    <script>\n",
              "      const buttonEl =\n",
              "        document.querySelector('#df-22195553-c9aa-4def-91d4-8c85ede3d381 button.colab-df-convert');\n",
              "      buttonEl.style.display =\n",
              "        google.colab.kernel.accessAllowed ? 'block' : 'none';\n",
              "\n",
              "      async function convertToInteractive(key) {\n",
              "        const element = document.querySelector('#df-22195553-c9aa-4def-91d4-8c85ede3d381');\n",
              "        const dataTable =\n",
              "          await google.colab.kernel.invokeFunction('convertToInteractive',\n",
              "                                                    [key], {});\n",
              "        if (!dataTable) return;\n",
              "\n",
              "        const docLinkHtml = 'Like what you see? Visit the ' +\n",
              "          '<a target=\"_blank\" href=https://colab.research.google.com/notebooks/data_table.ipynb>data table notebook</a>'\n",
              "          + ' to learn more about interactive tables.';\n",
              "        element.innerHTML = '';\n",
              "        dataTable['output_type'] = 'display_data';\n",
              "        await google.colab.output.renderOutput(dataTable, element);\n",
              "        const docLink = document.createElement('div');\n",
              "        docLink.innerHTML = docLinkHtml;\n",
              "        element.appendChild(docLink);\n",
              "      }\n",
              "    </script>\n",
              "  </div>\n",
              "\n",
              "\n",
              "<div id=\"df-041420b3-6c11-4df9-b51d-7278be1cf592\">\n",
              "  <button class=\"colab-df-quickchart\" onclick=\"quickchart('df-041420b3-6c11-4df9-b51d-7278be1cf592')\"\n",
              "            title=\"Suggest charts\"\n",
              "            style=\"display:none;\">\n",
              "\n",
              "<svg xmlns=\"http://www.w3.org/2000/svg\" height=\"24px\"viewBox=\"0 0 24 24\"\n",
              "     width=\"24px\">\n",
              "    <g>\n",
              "        <path d=\"M19 3H5c-1.1 0-2 .9-2 2v14c0 1.1.9 2 2 2h14c1.1 0 2-.9 2-2V5c0-1.1-.9-2-2-2zM9 17H7v-7h2v7zm4 0h-2V7h2v10zm4 0h-2v-4h2v4z\"/>\n",
              "    </g>\n",
              "</svg>\n",
              "  </button>\n",
              "\n",
              "<style>\n",
              "  .colab-df-quickchart {\n",
              "      --bg-color: #E8F0FE;\n",
              "      --fill-color: #1967D2;\n",
              "      --hover-bg-color: #E2EBFA;\n",
              "      --hover-fill-color: #174EA6;\n",
              "      --disabled-fill-color: #AAA;\n",
              "      --disabled-bg-color: #DDD;\n",
              "  }\n",
              "\n",
              "  [theme=dark] .colab-df-quickchart {\n",
              "      --bg-color: #3B4455;\n",
              "      --fill-color: #D2E3FC;\n",
              "      --hover-bg-color: #434B5C;\n",
              "      --hover-fill-color: #FFFFFF;\n",
              "      --disabled-bg-color: #3B4455;\n",
              "      --disabled-fill-color: #666;\n",
              "  }\n",
              "\n",
              "  .colab-df-quickchart {\n",
              "    background-color: var(--bg-color);\n",
              "    border: none;\n",
              "    border-radius: 50%;\n",
              "    cursor: pointer;\n",
              "    display: none;\n",
              "    fill: var(--fill-color);\n",
              "    height: 32px;\n",
              "    padding: 0;\n",
              "    width: 32px;\n",
              "  }\n",
              "\n",
              "  .colab-df-quickchart:hover {\n",
              "    background-color: var(--hover-bg-color);\n",
              "    box-shadow: 0 1px 2px rgba(60, 64, 67, 0.3), 0 1px 3px 1px rgba(60, 64, 67, 0.15);\n",
              "    fill: var(--button-hover-fill-color);\n",
              "  }\n",
              "\n",
              "  .colab-df-quickchart-complete:disabled,\n",
              "  .colab-df-quickchart-complete:disabled:hover {\n",
              "    background-color: var(--disabled-bg-color);\n",
              "    fill: var(--disabled-fill-color);\n",
              "    box-shadow: none;\n",
              "  }\n",
              "\n",
              "  .colab-df-spinner {\n",
              "    border: 2px solid var(--fill-color);\n",
              "    border-color: transparent;\n",
              "    border-bottom-color: var(--fill-color);\n",
              "    animation:\n",
              "      spin 1s steps(1) infinite;\n",
              "  }\n",
              "\n",
              "  @keyframes spin {\n",
              "    0% {\n",
              "      border-color: transparent;\n",
              "      border-bottom-color: var(--fill-color);\n",
              "      border-left-color: var(--fill-color);\n",
              "    }\n",
              "    20% {\n",
              "      border-color: transparent;\n",
              "      border-left-color: var(--fill-color);\n",
              "      border-top-color: var(--fill-color);\n",
              "    }\n",
              "    30% {\n",
              "      border-color: transparent;\n",
              "      border-left-color: var(--fill-color);\n",
              "      border-top-color: var(--fill-color);\n",
              "      border-right-color: var(--fill-color);\n",
              "    }\n",
              "    40% {\n",
              "      border-color: transparent;\n",
              "      border-right-color: var(--fill-color);\n",
              "      border-top-color: var(--fill-color);\n",
              "    }\n",
              "    60% {\n",
              "      border-color: transparent;\n",
              "      border-right-color: var(--fill-color);\n",
              "    }\n",
              "    80% {\n",
              "      border-color: transparent;\n",
              "      border-right-color: var(--fill-color);\n",
              "      border-bottom-color: var(--fill-color);\n",
              "    }\n",
              "    90% {\n",
              "      border-color: transparent;\n",
              "      border-bottom-color: var(--fill-color);\n",
              "    }\n",
              "  }\n",
              "</style>\n",
              "\n",
              "  <script>\n",
              "    async function quickchart(key) {\n",
              "      const quickchartButtonEl =\n",
              "        document.querySelector('#' + key + ' button');\n",
              "      quickchartButtonEl.disabled = true;  // To prevent multiple clicks.\n",
              "      quickchartButtonEl.classList.add('colab-df-spinner');\n",
              "      try {\n",
              "        const charts = await google.colab.kernel.invokeFunction(\n",
              "            'suggestCharts', [key], {});\n",
              "      } catch (error) {\n",
              "        console.error('Error during call to suggestCharts:', error);\n",
              "      }\n",
              "      quickchartButtonEl.classList.remove('colab-df-spinner');\n",
              "      quickchartButtonEl.classList.add('colab-df-quickchart-complete');\n",
              "    }\n",
              "    (() => {\n",
              "      let quickchartButtonEl =\n",
              "        document.querySelector('#df-041420b3-6c11-4df9-b51d-7278be1cf592 button');\n",
              "      quickchartButtonEl.style.display =\n",
              "        google.colab.kernel.accessAllowed ? 'block' : 'none';\n",
              "    })();\n",
              "  </script>\n",
              "</div>\n",
              "\n",
              "  <div id=\"id_27f86676-a3e7-4bbc-bf22-ff000b446386\">\n",
              "    <style>\n",
              "      .colab-df-generate {\n",
              "        background-color: #E8F0FE;\n",
              "        border: none;\n",
              "        border-radius: 50%;\n",
              "        cursor: pointer;\n",
              "        display: none;\n",
              "        fill: #1967D2;\n",
              "        height: 32px;\n",
              "        padding: 0 0 0 0;\n",
              "        width: 32px;\n",
              "      }\n",
              "\n",
              "      .colab-df-generate:hover {\n",
              "        background-color: #E2EBFA;\n",
              "        box-shadow: 0px 1px 2px rgba(60, 64, 67, 0.3), 0px 1px 3px 1px rgba(60, 64, 67, 0.15);\n",
              "        fill: #174EA6;\n",
              "      }\n",
              "\n",
              "      [theme=dark] .colab-df-generate {\n",
              "        background-color: #3B4455;\n",
              "        fill: #D2E3FC;\n",
              "      }\n",
              "\n",
              "      [theme=dark] .colab-df-generate:hover {\n",
              "        background-color: #434B5C;\n",
              "        box-shadow: 0px 1px 3px 1px rgba(0, 0, 0, 0.15);\n",
              "        filter: drop-shadow(0px 1px 2px rgba(0, 0, 0, 0.3));\n",
              "        fill: #FFFFFF;\n",
              "      }\n",
              "    </style>\n",
              "    <button class=\"colab-df-generate\" onclick=\"generateWithVariable('df')\"\n",
              "            title=\"Generate code using this dataframe.\"\n",
              "            style=\"display:none;\">\n",
              "\n",
              "  <svg xmlns=\"http://www.w3.org/2000/svg\" height=\"24px\"viewBox=\"0 0 24 24\"\n",
              "       width=\"24px\">\n",
              "    <path d=\"M7,19H8.4L18.45,9,17,7.55,7,17.6ZM5,21V16.75L18.45,3.32a2,2,0,0,1,2.83,0l1.4,1.43a1.91,1.91,0,0,1,.58,1.4,1.91,1.91,0,0,1-.58,1.4L9.25,21ZM18.45,9,17,7.55Zm-12,3A5.31,5.31,0,0,0,4.9,8.1,5.31,5.31,0,0,0,1,6.5,5.31,5.31,0,0,0,4.9,4.9,5.31,5.31,0,0,0,6.5,1,5.31,5.31,0,0,0,8.1,4.9,5.31,5.31,0,0,0,12,6.5,5.46,5.46,0,0,0,6.5,12Z\"/>\n",
              "  </svg>\n",
              "    </button>\n",
              "    <script>\n",
              "      (() => {\n",
              "      const buttonEl =\n",
              "        document.querySelector('#id_27f86676-a3e7-4bbc-bf22-ff000b446386 button.colab-df-generate');\n",
              "      buttonEl.style.display =\n",
              "        google.colab.kernel.accessAllowed ? 'block' : 'none';\n",
              "\n",
              "      buttonEl.onclick = () => {\n",
              "        google.colab.notebook.generateWithVariable('df');\n",
              "      }\n",
              "      })();\n",
              "    </script>\n",
              "  </div>\n",
              "\n",
              "    </div>\n",
              "  </div>\n"
            ],
            "application/vnd.google.colaboratory.intrinsic+json": {
              "type": "dataframe",
              "variable_name": "df",
              "summary": "{\n  \"name\": \"df\",\n  \"rows\": 132,\n  \"fields\": [\n    {\n      \"column\": \"headline\",\n      \"properties\": {\n        \"dtype\": \"string\",\n        \"num_unique_values\": 122,\n        \"samples\": [\n          \"\\u2022Video1:07CNN\",\n          \"GalleryPeople we\\u2019ve lost in 2025\",\n          \"Sindbad Submarines\"\n        ],\n        \"semantic_type\": \"\",\n        \"description\": \"\"\n      }\n    },\n    {\n      \"column\": \"link\",\n      \"properties\": {\n        \"dtype\": \"string\",\n        \"num_unique_values\": 88,\n        \"samples\": [\n          \"https://edition.cnn.com/2025/03/17/style/panorama-new-york-city-queens-museum/index.html\",\n          \"https://edition.cnn.com/account/settings\",\n          \"https://edition.cnn.com/2025/03/27/middleeast/aid-workers-killed-missing-gaza-israel-intl-latam/index.html\"\n        ],\n        \"semantic_type\": \"\",\n        \"description\": \"\"\n      }\n    },\n    {\n      \"column\": \"content\",\n      \"properties\": {\n        \"dtype\": \"string\",\n        \"num_unique_values\": 88,\n        \"samples\": [\n          \"The Empire State building stands approximately 15 inches tall, whereas the Statue of Liberty measures at just under two inches without its base. At this scale, even ants would be too big to represent people in the streets below. These lifelike miniatures of iconic landmarks can be found on the Panorama \\u2014 which, at 9,335 square feet, is the largest model of New York City, meticulously hand-built at a scale of 1:1,200. The sprawling model sits in its own room at the Queens Museum, where it was first installed in the 1960s, softly rotating between day and night lighting as visitors on glass walkways are given a bird\\u2019s eye view of all five boroughs of the city. To mark the model\\u2019s 60th anniversary, which was celebrated last year, the museum has published a new book offering a behind-the-scenes look at how the Panorama was made. Original footage of the last major update to the model, completed in 1992, has also gone on show at the museum as part of a 12-minute video that featuresinterviews with some of the renovators. The Queens Museum\\u2019s assistant director of archives and collections, Lynn Maliszewski, who took CNN on a visit of the Panorama in early March, said she hopes the book and video will help to draw more visitors and attention to the copious amount of labor \\u2014 over 100 full-time workers, from July 1961 to April 1964 \\u2014 that went into building the model. \\u201cSometimes when I walk in here, I get goosebumps, because this is so representative of dreams and hopes and family and struggle and despair and excitement\\u2026 every piece of the spectrum of human emotion is here(in New York) happening at the same time,\\u201d said Maliszewski. \\u201cIt shows us things that you can\\u2019t get when you\\u2019re on the ground.\\u201d The Panorama was originally built for the 1964 New York World\\u2019s Fair, then the largest international exhibition in the US, aimed at spotlighting the city\\u2019s innovation. The fair was overseen by Robert Moses, the influential and notorious urban planner whose highway projectsdisplaced hundreds of thousandsNew Yorkers. When Moses commissioned the Panorama, which had parts that could be removed and redesigned to determine new traffic patterns and neighborhood designs, he saw an opportunity to use it as a city planning tool. Originally built and revised with a margin of error under 1%, the model was updated multiple times before the 1990s, though it is now frozen in time. According to Maliszewski, it cost over $672,000 to make in 1964 ($6.8 million in today\\u2019s money) and nearly $2 million (about $4.5 million today) was spent when it was last revised in 1992. As to why the Panorama hasn\\u2019t had another update since, Maliszewski believes that the labor and financial resources required to capture three decades of new buildings would be \\u201cunparalleled.\\u201d Additionally, the unique nature of modelmaking requires specialists that are hard to come by. While the craft was once utilized by many architects, city planners and designers, it has largely been replaced by digital modeling, Maliszewski explained. Nonetheless, the model\\u2019s historical accuracy adds to its charm. \\u201cWhat we\\u2019re looking at is January 1, 1992, which is bonkers, as far as thinking about how much has changed (and) how many whole neighborhoods would not even be recognizable if you shrunk yourself down and were on this model,\\u201d Maliszewski said. \\u201cThe world continues to evolve so quickly, right? But in (New York) city, infrastructurally, it\\u2019s at an even faster clip.\\u201d The Panorama is supported by 497 steel legs, with layers of wood and foam that were sculpted to resemble the topography of New York City, according to the book. Tiny bridges made of brass and several acrylic cars, buses, trains and subway cars adorn the model, which was originally designed to be walked across by visitors \\u2014 at least for the areas with flatter and smaller buildings and large waterways and parks. The model contains around 895,000 replica buildings, including brownstones and private homes, made through acrylic injection molding, and distinctive structures, such as skyscrapers, museums and churches, made from hand-painted wood and paper. From the five updates that took place between its original construction and the last renovation, the most prominent additions include the gigantic World Trade Center complex \\u2014 the twin towers are still represented on the model \\u2014 as well as Battery Park City, a former landfill that was redeveloped in the 1970s, and the Lincoln Center, the city\\u2019s cornerstone for arts and culture. Among the notably missing new landmarks, however, is the Hudson Yards neighborhood (also home to one of CNN\\u2019s headquarters), the High Line, a 1.45-mile-long walkway converted from a freight railroad in the late 2000s, and the numerous \\u201csuper-skinny\\u201d skyscrapers now dominating parts of the city\\u2019s skyline. Related articleRicardo Scofidio, architect of New York\\u2019s High Line, dies age 89 One of the crew members involved in the 1992 revision, Tom Jarrow, remembers seeing the model during the 1964-1965 World Fair, when he was about seven years old. At the time, there was a plastic tracked car \\u201chelicopter\\u201d ride that circled around its perimeter, allowing riders to view the model city at a simulated 20,000 foot elevation. \\u201cLooking at (the model), it\\u2019s daunting to think that any set of human beings could create something so massive and large (with) so much detail,\\u201d Jarrow told CNN on a phone call. Jarrow, who had worked for Lester & Associates, the origin architectural modelmakers of the Panorama, for 15 years before starting his own exhibit specialist company, S-Tech Associates, recalled some of the meticulous tasks carried out during the renovation, which marked the only time the model, weighing about 45,000 pounds, had ever been removed from the room it currently sits in. Some of the labor included acid etching the finer details of the windows and doorways, casting hundreds of new shapes for additional buildings, and producing tiny trees and shrubbery from painted sponges. \\u201cIf we had 3D printers back then, it would have been fantastic \\u2014 we could have 3D printed everything, but everything was done by hand,\\u201d Jarrow said. Jarrow\\u2019s main work was electrical \\u2014 the Panorama used to be lit up by over 3,000 tiny colored light bulbs that needed to be manually unscrewed each time one needed to be replaced. As part of the renovation, Jarrow updated the model with brighter lights, although he had to use technology that even at the time was considered outdated because of price restrictions, he recalled. \\u201cThere\\u2019s miles and miles of wires underneath that model, and it\\u2019s all low voltage lighting,\\u201d he said. Most of the bulbs, which originally served to color code different municipal facilities around the city, are no longer functioning today. Both Jarrow and Maliszewski agree that the current model would benefit from a more modernized lighting system that would be easier to manage, and also be more interactive for guests, which the museum is working to achieve by 2027 through a grant funded by the Institute of Museum and Library Services. Additionally, the museum would like to digitally add subway lines, which do not currently feature on the model but plays a key role in the average New Yorker\\u2019s experience, said Maliszewski. Related articleThe skyscrapers where nobody lives To maintain the model\\u2019s appearance, it is cleaned by the museum in its entirety at least twice a year. From dusting its intricate features with brushes of different sizes to using a low intensity vacuum to carefully suck up the dust, it\\u2019s a process that can take up to two weeks, Maliszewski said. To finance the museum\\u2019s efforts, along-runningprogramallows visitors to \\u201cadopt\\u201d a piece of the model, whether that is their apartment building, a restaurant, a park or any other feature that speaks to them. By payinga yearly \\u201crent\\u201d or donation to the museum, they can receive a deed to owning a property on the model. \\u201cThis model brings out so much for people, as far as their history and nostalgia and memory,\\u201d Maliszewski said, adding it shows that \\u201cwe\\u2019re really not that far apart from each other, even if you never leave your neighborhood, or if you never leave your borough\\u2026 there\\u2019s still millions of people just a few miles away from you.\\u201d Editor\\u2019s Note: \\u201cThe Panorama of The City of New York,\\u201d published by Scala Arts and Heritage, is available now. \\u00a9 2025 Cable News Network. A Warner Bros. Discovery Company. All Rights Reserved.CNN Sans \\u2122 & \\u00a9 2016 Cable News Network.\",\n          \"Your account is not verified.To ensure you're able to receive important\\n                account information, please check your email to\\n                verify your address.Resend verification link. Manage your personal information You connected these accounts when you logged into CNN. Manage your location information Your current plan and payment method Your newsletter subscriptions You are not subscribed to any\\n                newsletters. For help, please see ourFAQ page.   You are changing to monthly billing, and will be charged the monthly subscription price at the end of your current yearly billing cycle.This change takes effect immediately. You will be charged a discounted annual subscription price (plus tax) based on the number of days left in your monthly plan. If you cancel now you'll still have access to your subscription until {endDate}. After that you'll still have a free CNN account but you'll no longer be able to use paid features or services. Your paid subscription will end on {endDate}. After that you'll still have access to your free CNN account and can subscribe again at any time. \\u00a9 2025 Cable News Network. A Warner Bros. Discovery Company. All Rights Reserved.CNN Sans \\u2122 & \\u00a9 2016 Cable News Network.\",\n          \"Follow: More than a dozen aid workers have been killed or gone missing in Gaza over the past few days, several groups say, as Israel\\u2019s complete blockade of humanitarian aid neared the one-month mark amid its renewed military assault on the Palestinian enclave. The United Nations\\u2019 agency for Palestinian refugees, UNRWA, said Thursday eight of its staff had been killed in Gaza over the past week, while the Palestine Red Crescent Society (PRCS) said nine of its emergency medical technicians (EMTs) have been missing since Sunday following an incident in which Israeli forces fired on ambulances and fire trucks in the southern Gaza governorate of Rafah. The Israel Defense Forces (IDF) has said that it fired on the ambulances and fire trucks in Rafah because they were being used as cover by Hamas and Palestinian Islamic Jihad fighters. In a separate incident, Israeli strikes near a community kitchen in Gaza on Thursday killed a World Central Kitchen (WCK) volunteer and injured six others \\u201cas meals were being distributed,\\u201d according to the US-based non-profit. In response, the IDF told CNN that the WCK incident is under review. \\u201cThe IDF is in contact with the organization to verify the details thoroughly,\\u201d it added in a statement. The attacks come after Israel resumed its military campaign in Gaza on March 18, breaking a temporary ceasefire that had been in place since January. Israeli attacks have since killed at least 855 people and injured 1,869, according to the Palestinian Ministry of Health in the strip. The ministry reported on Friday afternoon that Israeli attacks had killed 41 people and injured 115 across the enclave over the past 24 hours. The news also follows Israel\\u2019s decision before the ceasefire collapsed to block humanitarian aid from entering the enclave, in what it described as a move to pressure Hamas into accepting new terms for an extension of the ceasefire rather than proceed with phase two of the truce. The UN and aid groups accuse Israel of violating international law by blocking the flow of aid into Gaza and of using starvation as a weapon of war. The same organizations have accused Israel of restricting or creating hurdles to the entry of aid throughout the war. Related videoLargest anti-Hamas protests since start of war break out in northern Gaza Noting the deaths of the UNRWA staff, the agency\\u2019s Commissioner-General Philippe Lazzarini called Thursday for the ceasefire to resume and for Israel to lift its blockade on aid. \\u201cNo humanitarian aid has entered Gaza for more than three weeks now,\\u201d Lazzarini said, noting that before the ceasefire collapsed between 500 and 600 aid trucks had been entering the strip on a daily basis. \\u201cThis is longest that Gaza has been without any supplies since the war began,\\u201d Lazzarini said. Israel launched its war in Gaza following Hamas\\u2019 October 2023 attack in which militants killed 1,200 people and took 251 hostage. Since then, Israel\\u2019s military campaign has killed more than 50,000 Palestinians. With the return to hostilities, hundreds of thousands of Palestinians in Gaza are once again at risk of \\u201csevere hunger and malnutrition,\\u201d the World Food Programme (WFP) warned in astatementon Thursday, stressing that its food stocks are enough to support its operations for a maximum of two weeks. About 10 community kitchens were forced to close in Gaza since the ceasefire collapsed \\u201cdue to hostilities and energy shortages,\\u201d according to the UN Office for the Coordination of Humanitarian Affairs (OCHA) on Tuesday. The office also warned that supplies of cooking gas were available \\u201conly in extremely limited quantities at exorbitant prices,\\u201d leaving families with few options aside from the community kitchens. UNRWA\\u2019s Lazzarini said parents are unable to find food for their children, hunger is increasing and the risk of disease is spreading. \\u201cThe siege must be lifted and crossings must re-open for a standard flow of humanitarian aid and commercial supplies,\\u201d Lazzarini said. About 400 aid workers, including teachers, doctors and nurses, have been killed in Israeli attacks in the enclave since October 7, 2023, OCHA said in anupdateearlier this week. The death toll includes 289 UN staff and 34 PRCS workers as well as 76 from other NGOs. According to the Palestine Red Crescent Society, its EMTs went missing in the Tel Sultan area of Rafah \\u201cafter being besieged and targeted by Israeli forces\\u201d on Sunday. It said its teams were only able to start searching for the missing staff on Thursday as it had previously been denied access to the area. Gaza\\u2019s Civil Defense said that six of its staff also went missing after being dispatched to the same area last weekend following what it described as a \\u201csudden incursion by the Israeli occupation forces, the killing and injuring of dozens, and the besieging\\u201d of PRCS vehicles. Related article\\u2018I would prefer this over killing children:\\u2019 Why some Israeli teens are choosing jail over the army The PRCS said they had recovered the body of one of the Civil Defense team members on Thursday. The Gaza Civil Defense said it had encountered scenes of devastation in Rafah while searching for a team of missing emergency workers. Civil Defense spokesperson Mahmoud Basal said Friday that the body of one emergency worker who was among a nine-strong team that went to Rafah on Sunday had been found. Basal said that when Civil Defense and Red Crescent teams were finally granted access to the area they found \\u201cmassive destruction\\u201d and widespread bulldozing. \\u201cWe found our vehicles and the Red Crescent vehicles destroyed,\\u201d and subsequently the body of one worker that had been buried by bulldozers was retrieved, Basal said. The Israeli military told CNN its forces had opened fire at \\u201csuspicious vehicles\\u201d advancing toward troops without prior coordination, headlights or emergency signals during an operation against Hamas and Palestinian Islamic Jihad militants in southern Gaza  last Sunday. It said that it had \\u201celiminated a number of Hamas and Islamic Jihad terrorists\\u201d by firing on the vehicles and condemned what it claimed was \\u201cthe repeated use of civilian infrastructure by the terrorist organizations in the Gaza Strip, including the use of medical  facilities and ambulances for terrorist purposes.\\u201d Since the start of Israel\\u2019s war in Gaza in October 2023, 19 PRCS members have been killed while on duty, according to the society. \\u201cWe cannot bear to add more names to this tragic list,\\u201d a spokesperson for the society said Thursday. \\u201c(We call) on the international community to take serious measures to protect our medical teams.\\u201d The society said the search and rescue operation would resume Friday. The World Central Kitchen said Israeli strikes near a community kitchen in Gaza on Thursday killed one of its volunteers and injured six others \\u201cas meals were being distributed.\\u201d \\u201cOur hearts are heavy today as we mourn the loss of one of our volunteers in Gaza,\\u201d WCK said in astatement. In April 2024, a series of Israeli military strikes killed seven WCK staffers in Gaza, drawing international condemnation and prompting a rare public acknowledgment from Israeli Prime Minister Benjamin Netanyahu and a promise to investigate the \\u201ctragic incident.\\u201d The US-based non-profit that focuses on fighting hunger around the world vowed Thursday to continue its work in the strip. \\u201cWe will continue to support community kitchens throughout the region and operate our field kitchens where possible, based on daily assessments,\\u201d it said in a statement. \\u201cWe hope for peace for all and a lasting ceasefire.\\u201d This story has been updated with additional information. \\u00a9 2025 Cable News Network. A Warner Bros. Discovery Company. All Rights Reserved.CNN Sans \\u2122 & \\u00a9 2016 Cable News Network.\"\n        ],\n        \"semantic_type\": \"\",\n        \"description\": \"\"\n      }\n    }\n  ]\n}"
            }
          },
          "metadata": {},
          "execution_count": 32
        }
      ]
    },
    {
      "cell_type": "code",
      "source": [
        "df.shape"
      ],
      "metadata": {
        "colab": {
          "base_uri": "https://localhost:8080/"
        },
        "id": "IxTqCsh4y430",
        "outputId": "bada6b72-1214-4607-e659-f3441686fb12"
      },
      "execution_count": 33,
      "outputs": [
        {
          "output_type": "execute_result",
          "data": {
            "text/plain": [
              "(132, 3)"
            ]
          },
          "metadata": {},
          "execution_count": 33
        }
      ]
    },
    {
      "cell_type": "code",
      "source": [
        "import pandas as pd\n",
        "\n",
        "try:\n",
        "    # Read the existing CSV file\n",
        "    existing_df = pd.read_csv(\"web_scraping_news_articles.csv\")\n",
        "\n",
        "    # Read the new data from reuters_news.csv\n",
        "    new_data_df = pd.read_csv(\"cnn_news.csv\")\n",
        "\n",
        "    # Concatenate the DataFrames\n",
        "    combined_df = pd.concat([existing_df, new_data_df], ignore_index=True)\n",
        "\n",
        "    # Save the combined DataFrame back to the CSV file\n",
        "    combined_df.to_csv(\"web_scraping_news_articles.csv\", index=False)\n",
        "    print(\"Successfully added new data to web_scraping_news_articles.csv\")\n",
        "\n",
        "except FileNotFoundError:\n",
        "    print(\"Error: One or both of the CSV files not found.\")\n",
        "except Exception as e:\n",
        "    print(f\"An error occurred: {e}\")"
      ],
      "metadata": {
        "colab": {
          "base_uri": "https://localhost:8080/"
        },
        "id": "TSp6Cqn-BDfK",
        "outputId": "482c057f-2631-4ca5-ca98-f9ff3664a8eb"
      },
      "execution_count": 34,
      "outputs": [
        {
          "output_type": "stream",
          "name": "stdout",
          "text": [
            "Successfully added new data to web_scraping_news_articles.csv\n"
          ]
        }
      ]
    },
    {
      "cell_type": "code",
      "source": [
        " combined_df.shape"
      ],
      "metadata": {
        "colab": {
          "base_uri": "https://localhost:8080/"
        },
        "id": "NrlWptoKBR0Q",
        "outputId": "c38bec56-53e7-40e5-a317-0c1abe42978c"
      },
      "execution_count": 36,
      "outputs": [
        {
          "output_type": "execute_result",
          "data": {
            "text/plain": [
              "(298, 3)"
            ]
          },
          "metadata": {},
          "execution_count": 36
        }
      ]
    },
    {
      "cell_type": "markdown",
      "source": [
        "#The Guardian"
      ],
      "metadata": {
        "id": "v5XnH9T7Z7fW"
      }
    },
    {
      "cell_type": "code",
      "source": [
        "!pip install requests beautifulsoup4 pandas\n"
      ],
      "metadata": {
        "colab": {
          "base_uri": "https://localhost:8080/"
        },
        "id": "zWcQkzAcBU8H",
        "outputId": "b4755f0f-fccc-4530-b6f2-4f721a41c4db"
      },
      "execution_count": 37,
      "outputs": [
        {
          "output_type": "stream",
          "name": "stdout",
          "text": [
            "Requirement already satisfied: requests in /usr/local/lib/python3.11/dist-packages (2.32.3)\n",
            "Requirement already satisfied: beautifulsoup4 in /usr/local/lib/python3.11/dist-packages (4.13.3)\n",
            "Requirement already satisfied: pandas in /usr/local/lib/python3.11/dist-packages (2.2.2)\n",
            "Requirement already satisfied: charset-normalizer<4,>=2 in /usr/local/lib/python3.11/dist-packages (from requests) (3.4.1)\n",
            "Requirement already satisfied: idna<4,>=2.5 in /usr/local/lib/python3.11/dist-packages (from requests) (3.10)\n",
            "Requirement already satisfied: urllib3<3,>=1.21.1 in /usr/local/lib/python3.11/dist-packages (from requests) (2.3.0)\n",
            "Requirement already satisfied: certifi>=2017.4.17 in /usr/local/lib/python3.11/dist-packages (from requests) (2025.1.31)\n",
            "Requirement already satisfied: soupsieve>1.2 in /usr/local/lib/python3.11/dist-packages (from beautifulsoup4) (2.6)\n",
            "Requirement already satisfied: typing-extensions>=4.0.0 in /usr/local/lib/python3.11/dist-packages (from beautifulsoup4) (4.12.2)\n",
            "Requirement already satisfied: numpy>=1.23.2 in /usr/local/lib/python3.11/dist-packages (from pandas) (2.0.2)\n",
            "Requirement already satisfied: python-dateutil>=2.8.2 in /usr/local/lib/python3.11/dist-packages (from pandas) (2.8.2)\n",
            "Requirement already satisfied: pytz>=2020.1 in /usr/local/lib/python3.11/dist-packages (from pandas) (2025.1)\n",
            "Requirement already satisfied: tzdata>=2022.7 in /usr/local/lib/python3.11/dist-packages (from pandas) (2025.1)\n",
            "Requirement already satisfied: six>=1.5 in /usr/local/lib/python3.11/dist-packages (from python-dateutil>=2.8.2->pandas) (1.17.0)\n"
          ]
        }
      ]
    },
    {
      "cell_type": "code",
      "source": [
        "import requests\n",
        "import pandas as pd\n",
        "from bs4 import BeautifulSoup\n",
        "import time\n",
        "\n",
        "# 🔑 Replace with your ScraperAPI key\n",
        "SCRAPER_API_KEY = \"370d187c33f48cba4e3d4783d0a28d50\"\n",
        "\n",
        "# The Guardian World News URL\n",
        "GUARDIAN_URL = \"https://www.theguardian.com/world\"\n",
        "\n",
        "# Use ScraperAPI to bypass restrictions\n",
        "proxy_url = f\"http://api.scraperapi.com/?api_key={SCRAPER_API_KEY}&url={GUARDIAN_URL}\"\n",
        "response = requests.get(proxy_url)\n",
        "\n",
        "if response.status_code == 200:\n",
        "    soup = BeautifulSoup(response.text, \"html.parser\")\n",
        "\n",
        "    # Find all article links\n",
        "    articles = soup.select(\"a[href^='/world/']\")  # Guardian articles start with '/world/'\n",
        "\n",
        "    news_data = []\n",
        "    for article in articles[:300]:  # Adjust as needed\n",
        "        headline = article.get_text(strip=True)\n",
        "        link = \"https://www.theguardian.com\" + article[\"href\"]\n",
        "\n",
        "        # Fetch full article content\n",
        "        try:\n",
        "            article_proxy_url = f\"http://api.scraperapi.com/?api_key={SCRAPER_API_KEY}&url={link}\"\n",
        "            article_response = requests.get(article_proxy_url)\n",
        "            article_soup = BeautifulSoup(article_response.text, \"html.parser\")\n",
        "            paragraphs = article_soup.select(\"p\")\n",
        "            content = \" \".join([p.get_text(strip=True) for p in paragraphs])\n",
        "        except:\n",
        "            content = \"Content not available\"\n",
        "\n",
        "        news_data.append({\"headline\": headline, \"link\": link, \"content\": content})\n",
        "        time.sleep(1)  # Prevent rate-limiting\n",
        "\n",
        "    # Save to CSV\n",
        "    df = pd.DataFrame(news_data)\n",
        "    df.to_csv(\"guardian_news.csv\", index=False)\n",
        "\n",
        "    print(\"✅ Scraping completed! Data saved to 'guardian_news.csv'.\")\n",
        "else:\n",
        "    print(f\"❌ Failed to retrieve page. Status code: {response.status_code}\")\n"
      ],
      "metadata": {
        "colab": {
          "base_uri": "https://localhost:8080/"
        },
        "id": "Rths69QlMOZD",
        "outputId": "821eca94-6c08-4ac6-9b10-a91ab7a779e8"
      },
      "execution_count": 40,
      "outputs": [
        {
          "output_type": "stream",
          "name": "stdout",
          "text": [
            "✅ Scraping completed! Data saved to 'guardian_news.csv'.\n"
          ]
        }
      ]
    },
    {
      "cell_type": "code",
      "source": [
        "df"
      ],
      "metadata": {
        "colab": {
          "base_uri": "https://localhost:8080/",
          "height": 1000
        },
        "id": "bAFOgORrMXgI",
        "outputId": "9ee9a424-644e-4bb4-dc4f-28981b99dbba"
      },
      "execution_count": 41,
      "outputs": [
        {
          "output_type": "execute_result",
          "data": {
            "text/plain": [
              "                                             headline  \\\n",
              "0                                         Middle East   \n",
              "1                                             Ukraine   \n",
              "2                                              Europe   \n",
              "3                                            Americas   \n",
              "4                                                Asia   \n",
              "5                                         Middle East   \n",
              "6                                              Africa   \n",
              "7                                                       \n",
              "8                                                       \n",
              "9                                                       \n",
              "10                                                      \n",
              "11                                 All Africa stories   \n",
              "12                                                      \n",
              "13                               All Americas stories   \n",
              "14                                                      \n",
              "15                                                      \n",
              "16                                                      \n",
              "17                                                      \n",
              "18                                                      \n",
              "19                                                      \n",
              "20                           All Asia Pacific stories   \n",
              "21                                                      \n",
              "22                                                      \n",
              "23                                                      \n",
              "24                                                      \n",
              "25                                                      \n",
              "26                                 All Europe stories   \n",
              "27                                                      \n",
              "28                                                      \n",
              "29                                                      \n",
              "30                                                      \n",
              "31           All Middle East and north Africa stories   \n",
              "32                                                      \n",
              "33                                                      \n",
              "34                                                      \n",
              "35                                                      \n",
              "36                 All South and Central Asia stories   \n",
              "37  Denmark hits back at ‘tone’ of US vice-preside...   \n",
              "38  LiveMyanmar earthquake death toll rises to 1,6...   \n",
              "39  Israel admits firing at ambulances in Gaza aft...   \n",
              "40  Putin’s endorsement of Trump’s Greenland takeo...   \n",
              "41  ‘Our town looks like a collapsed city’: Myanma...   \n",
              "42  What caused Myanmar and Thailand earthquake an...   \n",
              "43  JD Vance says US needs control of Greenland to...   \n",
              "44  ‘A great big nuisance’: Venetians divided over...   \n",
              "45  Ukraine war briefing: Russian drone attack kil...   \n",
              "46  Myanmar earthquake: death toll rises to more t...   \n",
              "47                                             Europe   \n",
              "48                                           Americas   \n",
              "49                                               Asia   \n",
              "50                                        Middle East   \n",
              "51                                             Africa   \n",
              "\n",
              "                                                 link  \\\n",
              "0        https://www.theguardian.com/world/middleeast   \n",
              "1           https://www.theguardian.com/world/ukraine   \n",
              "2       https://www.theguardian.com/world/europe-news   \n",
              "3          https://www.theguardian.com/world/americas   \n",
              "4              https://www.theguardian.com/world/asia   \n",
              "5        https://www.theguardian.com/world/middleeast   \n",
              "6            https://www.theguardian.com/world/africa   \n",
              "7   https://www.theguardian.com/world/live/2025/ma...   \n",
              "8   https://www.theguardian.com/world/2025/mar/27/...   \n",
              "9   https://www.theguardian.com/world/2025/mar/27/...   \n",
              "10  https://www.theguardian.com/world/2025/mar/26/...   \n",
              "11           https://www.theguardian.com/world/africa   \n",
              "12  https://www.theguardian.com/world/2025/mar/28/...   \n",
              "13         https://www.theguardian.com/world/americas   \n",
              "14  https://www.theguardian.com/world/2025/mar/29/...   \n",
              "15  https://www.theguardian.com/world/live/2025/ma...   \n",
              "16  https://www.theguardian.com/world/2025/mar/28/...   \n",
              "17  https://www.theguardian.com/world/2025/mar/28/...   \n",
              "18  https://www.theguardian.com/world/2025/mar/28/...   \n",
              "19  https://www.theguardian.com/world/2025/mar/27/...   \n",
              "20             https://www.theguardian.com/world/asia   \n",
              "21  https://www.theguardian.com/world/2025/mar/29/...   \n",
              "22  https://www.theguardian.com/world/2025/mar/29/...   \n",
              "23  https://www.theguardian.com/world/2025/mar/29/...   \n",
              "24  https://www.theguardian.com/world/live/2025/ma...   \n",
              "25  https://www.theguardian.com/world/2025/mar/28/...   \n",
              "26      https://www.theguardian.com/world/europe-news   \n",
              "27  https://www.theguardian.com/world/2025/mar/29/...   \n",
              "28  https://www.theguardian.com/world/2025/mar/28/...   \n",
              "29  https://www.theguardian.com/world/2025/mar/28/...   \n",
              "30  https://www.theguardian.com/world/2025/mar/27/...   \n",
              "31       https://www.theguardian.com/world/middleeast   \n",
              "32  https://www.theguardian.com/world/live/2025/ma...   \n",
              "33  https://www.theguardian.com/world/2025/mar/28/...   \n",
              "34  https://www.theguardian.com/world/2025/mar/26/...   \n",
              "35  https://www.theguardian.com/world/2025/mar/24/...   \n",
              "36  https://www.theguardian.com/world/south-and-ce...   \n",
              "37  https://www.theguardian.com/world/2025/mar/29/...   \n",
              "38  https://www.theguardian.com/world/live/2025/ma...   \n",
              "39  https://www.theguardian.com/world/2025/mar/29/...   \n",
              "40  https://www.theguardian.com/world/2025/mar/28/...   \n",
              "41  https://www.theguardian.com/world/gallery/2025...   \n",
              "42  https://www.theguardian.com/world/2025/mar/28/...   \n",
              "43  https://www.theguardian.com/world/2025/mar/28/...   \n",
              "44  https://www.theguardian.com/world/2025/mar/28/...   \n",
              "45  https://www.theguardian.com/world/2025/mar/29/...   \n",
              "46  https://www.theguardian.com/world/2025/mar/29/...   \n",
              "47      https://www.theguardian.com/world/europe-news   \n",
              "48         https://www.theguardian.com/world/americas   \n",
              "49             https://www.theguardian.com/world/asia   \n",
              "50       https://www.theguardian.com/world/middleeast   \n",
              "51           https://www.theguardian.com/world/africa   \n",
              "\n",
              "                                              content  \n",
              "0                                                      \n",
              "1                                                      \n",
              "2   A series that takes a pan-European lens to exp...  \n",
              "3                                                      \n",
              "4                                                      \n",
              "5                                                      \n",
              "6                                                      \n",
              "7   Incident took place near the popular Egyptian ...  \n",
              "8   Another 39 people rescued and brought to shore...  \n",
              "9   Riek Machar’s house arrest and armed clashes s...  \n",
              "10  Leo Brent Bozell III, founder of a conservativ...  \n",
              "11                                                     \n",
              "12  US president says he and Canadian prime minist...  \n",
              "13                                                     \n",
              "14  Aid agencies warn of ‘extremely difficult’ res...  \n",
              "15  United States Geological Survey said the quake...  \n",
              "16  Junta makes rare call for aid as hundreds inju...  \n",
              "17  Defence secretary’s Philippines visit, aimed a...  \n",
              "18  China wants to protect against the volatility ...  \n",
              "19  Officials point to ultra-dry conditions as dea...  \n",
              "20                                                     \n",
              "21  Hundreds of thousands turn out for Ekrem İmamo...  \n",
              "22  ‘This is not how you talk to your close allies...  \n",
              "23  Drone raid sparks blaze in Dnipro hotel and re...  \n",
              "24  This live blog is now closed. You can read our...  \n",
              "25  Vice-president criticises Denmark’s treatment ...  \n",
              "26  A series that takes a pan-European lens to exp...  \n",
              "27  Body of team leader found almost a week after ...  \n",
              "28  Plumes of smoke rise from suburb of Dahiyeh in...  \n",
              "29  In today’s newsletter: Media workers in Gaza a...  \n",
              "30  Opposition parties say political control of ap...  \n",
              "31                                                     \n",
              "32  Myanmar’s military rulers have called for ‘any...  \n",
              "33  Dozens of royalists injured in clashes with po...  \n",
              "34  Award-winning film set in fictional town has a...  \n",
              "35  Shiv Sena party supporters tore apart the Habi...  \n",
              "36                                                     \n",
              "37  ‘This is not how you talk to your close allies...  \n",
              "38  Myanmar’s military rulers have called for ‘any...  \n",
              "39  Body of team leader found almost a week after ...  \n",
              "40  As US pivots toward territorial ambitions in t...  \n",
              "41  The death toll is expected to rise after a 7.7...  \n",
              "42  Death toll rises in both countries after tecto...  \n",
              "43  Vice-president criticises Denmark’s treatment ...  \n",
              "44  Concerns over three-day nuptials with Lauren S...  \n",
              "45  Drone raid sparks blaze in Dnipro hotel and re...  \n",
              "46  Aid agencies warn of ‘extremely difficult’ res...  \n",
              "47  A series that takes a pan-European lens to exp...  \n",
              "48                                                     \n",
              "49                                                     \n",
              "50                                                     \n",
              "51                                                     "
            ],
            "text/html": [
              "\n",
              "  <div id=\"df-47d8a408-b9bb-4d41-9a3b-65dac7a13252\" class=\"colab-df-container\">\n",
              "    <div>\n",
              "<style scoped>\n",
              "    .dataframe tbody tr th:only-of-type {\n",
              "        vertical-align: middle;\n",
              "    }\n",
              "\n",
              "    .dataframe tbody tr th {\n",
              "        vertical-align: top;\n",
              "    }\n",
              "\n",
              "    .dataframe thead th {\n",
              "        text-align: right;\n",
              "    }\n",
              "</style>\n",
              "<table border=\"1\" class=\"dataframe\">\n",
              "  <thead>\n",
              "    <tr style=\"text-align: right;\">\n",
              "      <th></th>\n",
              "      <th>headline</th>\n",
              "      <th>link</th>\n",
              "      <th>content</th>\n",
              "    </tr>\n",
              "  </thead>\n",
              "  <tbody>\n",
              "    <tr>\n",
              "      <th>0</th>\n",
              "      <td>Middle East</td>\n",
              "      <td>https://www.theguardian.com/world/middleeast</td>\n",
              "      <td></td>\n",
              "    </tr>\n",
              "    <tr>\n",
              "      <th>1</th>\n",
              "      <td>Ukraine</td>\n",
              "      <td>https://www.theguardian.com/world/ukraine</td>\n",
              "      <td></td>\n",
              "    </tr>\n",
              "    <tr>\n",
              "      <th>2</th>\n",
              "      <td>Europe</td>\n",
              "      <td>https://www.theguardian.com/world/europe-news</td>\n",
              "      <td>A series that takes a pan-European lens to exp...</td>\n",
              "    </tr>\n",
              "    <tr>\n",
              "      <th>3</th>\n",
              "      <td>Americas</td>\n",
              "      <td>https://www.theguardian.com/world/americas</td>\n",
              "      <td></td>\n",
              "    </tr>\n",
              "    <tr>\n",
              "      <th>4</th>\n",
              "      <td>Asia</td>\n",
              "      <td>https://www.theguardian.com/world/asia</td>\n",
              "      <td></td>\n",
              "    </tr>\n",
              "    <tr>\n",
              "      <th>5</th>\n",
              "      <td>Middle East</td>\n",
              "      <td>https://www.theguardian.com/world/middleeast</td>\n",
              "      <td></td>\n",
              "    </tr>\n",
              "    <tr>\n",
              "      <th>6</th>\n",
              "      <td>Africa</td>\n",
              "      <td>https://www.theguardian.com/world/africa</td>\n",
              "      <td></td>\n",
              "    </tr>\n",
              "    <tr>\n",
              "      <th>7</th>\n",
              "      <td></td>\n",
              "      <td>https://www.theguardian.com/world/live/2025/ma...</td>\n",
              "      <td>Incident took place near the popular Egyptian ...</td>\n",
              "    </tr>\n",
              "    <tr>\n",
              "      <th>8</th>\n",
              "      <td></td>\n",
              "      <td>https://www.theguardian.com/world/2025/mar/27/...</td>\n",
              "      <td>Another 39 people rescued and brought to shore...</td>\n",
              "    </tr>\n",
              "    <tr>\n",
              "      <th>9</th>\n",
              "      <td></td>\n",
              "      <td>https://www.theguardian.com/world/2025/mar/27/...</td>\n",
              "      <td>Riek Machar’s house arrest and armed clashes s...</td>\n",
              "    </tr>\n",
              "    <tr>\n",
              "      <th>10</th>\n",
              "      <td></td>\n",
              "      <td>https://www.theguardian.com/world/2025/mar/26/...</td>\n",
              "      <td>Leo Brent Bozell III, founder of a conservativ...</td>\n",
              "    </tr>\n",
              "    <tr>\n",
              "      <th>11</th>\n",
              "      <td>All Africa stories</td>\n",
              "      <td>https://www.theguardian.com/world/africa</td>\n",
              "      <td></td>\n",
              "    </tr>\n",
              "    <tr>\n",
              "      <th>12</th>\n",
              "      <td></td>\n",
              "      <td>https://www.theguardian.com/world/2025/mar/28/...</td>\n",
              "      <td>US president says he and Canadian prime minist...</td>\n",
              "    </tr>\n",
              "    <tr>\n",
              "      <th>13</th>\n",
              "      <td>All Americas stories</td>\n",
              "      <td>https://www.theguardian.com/world/americas</td>\n",
              "      <td></td>\n",
              "    </tr>\n",
              "    <tr>\n",
              "      <th>14</th>\n",
              "      <td></td>\n",
              "      <td>https://www.theguardian.com/world/2025/mar/29/...</td>\n",
              "      <td>Aid agencies warn of ‘extremely difficult’ res...</td>\n",
              "    </tr>\n",
              "    <tr>\n",
              "      <th>15</th>\n",
              "      <td></td>\n",
              "      <td>https://www.theguardian.com/world/live/2025/ma...</td>\n",
              "      <td>United States Geological Survey said the quake...</td>\n",
              "    </tr>\n",
              "    <tr>\n",
              "      <th>16</th>\n",
              "      <td></td>\n",
              "      <td>https://www.theguardian.com/world/2025/mar/28/...</td>\n",
              "      <td>Junta makes rare call for aid as hundreds inju...</td>\n",
              "    </tr>\n",
              "    <tr>\n",
              "      <th>17</th>\n",
              "      <td></td>\n",
              "      <td>https://www.theguardian.com/world/2025/mar/28/...</td>\n",
              "      <td>Defence secretary’s Philippines visit, aimed a...</td>\n",
              "    </tr>\n",
              "    <tr>\n",
              "      <th>18</th>\n",
              "      <td></td>\n",
              "      <td>https://www.theguardian.com/world/2025/mar/28/...</td>\n",
              "      <td>China wants to protect against the volatility ...</td>\n",
              "    </tr>\n",
              "    <tr>\n",
              "      <th>19</th>\n",
              "      <td></td>\n",
              "      <td>https://www.theguardian.com/world/2025/mar/27/...</td>\n",
              "      <td>Officials point to ultra-dry conditions as dea...</td>\n",
              "    </tr>\n",
              "    <tr>\n",
              "      <th>20</th>\n",
              "      <td>All Asia Pacific stories</td>\n",
              "      <td>https://www.theguardian.com/world/asia</td>\n",
              "      <td></td>\n",
              "    </tr>\n",
              "    <tr>\n",
              "      <th>21</th>\n",
              "      <td></td>\n",
              "      <td>https://www.theguardian.com/world/2025/mar/29/...</td>\n",
              "      <td>Hundreds of thousands turn out for Ekrem İmamo...</td>\n",
              "    </tr>\n",
              "    <tr>\n",
              "      <th>22</th>\n",
              "      <td></td>\n",
              "      <td>https://www.theguardian.com/world/2025/mar/29/...</td>\n",
              "      <td>‘This is not how you talk to your close allies...</td>\n",
              "    </tr>\n",
              "    <tr>\n",
              "      <th>23</th>\n",
              "      <td></td>\n",
              "      <td>https://www.theguardian.com/world/2025/mar/29/...</td>\n",
              "      <td>Drone raid sparks blaze in Dnipro hotel and re...</td>\n",
              "    </tr>\n",
              "    <tr>\n",
              "      <th>24</th>\n",
              "      <td></td>\n",
              "      <td>https://www.theguardian.com/world/live/2025/ma...</td>\n",
              "      <td>This live blog is now closed. You can read our...</td>\n",
              "    </tr>\n",
              "    <tr>\n",
              "      <th>25</th>\n",
              "      <td></td>\n",
              "      <td>https://www.theguardian.com/world/2025/mar/28/...</td>\n",
              "      <td>Vice-president criticises Denmark’s treatment ...</td>\n",
              "    </tr>\n",
              "    <tr>\n",
              "      <th>26</th>\n",
              "      <td>All Europe stories</td>\n",
              "      <td>https://www.theguardian.com/world/europe-news</td>\n",
              "      <td>A series that takes a pan-European lens to exp...</td>\n",
              "    </tr>\n",
              "    <tr>\n",
              "      <th>27</th>\n",
              "      <td></td>\n",
              "      <td>https://www.theguardian.com/world/2025/mar/29/...</td>\n",
              "      <td>Body of team leader found almost a week after ...</td>\n",
              "    </tr>\n",
              "    <tr>\n",
              "      <th>28</th>\n",
              "      <td></td>\n",
              "      <td>https://www.theguardian.com/world/2025/mar/28/...</td>\n",
              "      <td>Plumes of smoke rise from suburb of Dahiyeh in...</td>\n",
              "    </tr>\n",
              "    <tr>\n",
              "      <th>29</th>\n",
              "      <td></td>\n",
              "      <td>https://www.theguardian.com/world/2025/mar/28/...</td>\n",
              "      <td>In today’s newsletter: Media workers in Gaza a...</td>\n",
              "    </tr>\n",
              "    <tr>\n",
              "      <th>30</th>\n",
              "      <td></td>\n",
              "      <td>https://www.theguardian.com/world/2025/mar/27/...</td>\n",
              "      <td>Opposition parties say political control of ap...</td>\n",
              "    </tr>\n",
              "    <tr>\n",
              "      <th>31</th>\n",
              "      <td>All Middle East and north Africa stories</td>\n",
              "      <td>https://www.theguardian.com/world/middleeast</td>\n",
              "      <td></td>\n",
              "    </tr>\n",
              "    <tr>\n",
              "      <th>32</th>\n",
              "      <td></td>\n",
              "      <td>https://www.theguardian.com/world/live/2025/ma...</td>\n",
              "      <td>Myanmar’s military rulers have called for ‘any...</td>\n",
              "    </tr>\n",
              "    <tr>\n",
              "      <th>33</th>\n",
              "      <td></td>\n",
              "      <td>https://www.theguardian.com/world/2025/mar/28/...</td>\n",
              "      <td>Dozens of royalists injured in clashes with po...</td>\n",
              "    </tr>\n",
              "    <tr>\n",
              "      <th>34</th>\n",
              "      <td></td>\n",
              "      <td>https://www.theguardian.com/world/2025/mar/26/...</td>\n",
              "      <td>Award-winning film set in fictional town has a...</td>\n",
              "    </tr>\n",
              "    <tr>\n",
              "      <th>35</th>\n",
              "      <td></td>\n",
              "      <td>https://www.theguardian.com/world/2025/mar/24/...</td>\n",
              "      <td>Shiv Sena party supporters tore apart the Habi...</td>\n",
              "    </tr>\n",
              "    <tr>\n",
              "      <th>36</th>\n",
              "      <td>All South and Central Asia stories</td>\n",
              "      <td>https://www.theguardian.com/world/south-and-ce...</td>\n",
              "      <td></td>\n",
              "    </tr>\n",
              "    <tr>\n",
              "      <th>37</th>\n",
              "      <td>Denmark hits back at ‘tone’ of US vice-preside...</td>\n",
              "      <td>https://www.theguardian.com/world/2025/mar/29/...</td>\n",
              "      <td>‘This is not how you talk to your close allies...</td>\n",
              "    </tr>\n",
              "    <tr>\n",
              "      <th>38</th>\n",
              "      <td>LiveMyanmar earthquake death toll rises to 1,6...</td>\n",
              "      <td>https://www.theguardian.com/world/live/2025/ma...</td>\n",
              "      <td>Myanmar’s military rulers have called for ‘any...</td>\n",
              "    </tr>\n",
              "    <tr>\n",
              "      <th>39</th>\n",
              "      <td>Israel admits firing at ambulances in Gaza aft...</td>\n",
              "      <td>https://www.theguardian.com/world/2025/mar/29/...</td>\n",
              "      <td>Body of team leader found almost a week after ...</td>\n",
              "    </tr>\n",
              "    <tr>\n",
              "      <th>40</th>\n",
              "      <td>Putin’s endorsement of Trump’s Greenland takeo...</td>\n",
              "      <td>https://www.theguardian.com/world/2025/mar/28/...</td>\n",
              "      <td>As US pivots toward territorial ambitions in t...</td>\n",
              "    </tr>\n",
              "    <tr>\n",
              "      <th>41</th>\n",
              "      <td>‘Our town looks like a collapsed city’: Myanma...</td>\n",
              "      <td>https://www.theguardian.com/world/gallery/2025...</td>\n",
              "      <td>The death toll is expected to rise after a 7.7...</td>\n",
              "    </tr>\n",
              "    <tr>\n",
              "      <th>42</th>\n",
              "      <td>What caused Myanmar and Thailand earthquake an...</td>\n",
              "      <td>https://www.theguardian.com/world/2025/mar/28/...</td>\n",
              "      <td>Death toll rises in both countries after tecto...</td>\n",
              "    </tr>\n",
              "    <tr>\n",
              "      <th>43</th>\n",
              "      <td>JD Vance says US needs control of Greenland to...</td>\n",
              "      <td>https://www.theguardian.com/world/2025/mar/28/...</td>\n",
              "      <td>Vice-president criticises Denmark’s treatment ...</td>\n",
              "    </tr>\n",
              "    <tr>\n",
              "      <th>44</th>\n",
              "      <td>‘A great big nuisance’: Venetians divided over...</td>\n",
              "      <td>https://www.theguardian.com/world/2025/mar/28/...</td>\n",
              "      <td>Concerns over three-day nuptials with Lauren S...</td>\n",
              "    </tr>\n",
              "    <tr>\n",
              "      <th>45</th>\n",
              "      <td>Ukraine war briefing: Russian drone attack kil...</td>\n",
              "      <td>https://www.theguardian.com/world/2025/mar/29/...</td>\n",
              "      <td>Drone raid sparks blaze in Dnipro hotel and re...</td>\n",
              "    </tr>\n",
              "    <tr>\n",
              "      <th>46</th>\n",
              "      <td>Myanmar earthquake: death toll rises to more t...</td>\n",
              "      <td>https://www.theguardian.com/world/2025/mar/29/...</td>\n",
              "      <td>Aid agencies warn of ‘extremely difficult’ res...</td>\n",
              "    </tr>\n",
              "    <tr>\n",
              "      <th>47</th>\n",
              "      <td>Europe</td>\n",
              "      <td>https://www.theguardian.com/world/europe-news</td>\n",
              "      <td>A series that takes a pan-European lens to exp...</td>\n",
              "    </tr>\n",
              "    <tr>\n",
              "      <th>48</th>\n",
              "      <td>Americas</td>\n",
              "      <td>https://www.theguardian.com/world/americas</td>\n",
              "      <td></td>\n",
              "    </tr>\n",
              "    <tr>\n",
              "      <th>49</th>\n",
              "      <td>Asia</td>\n",
              "      <td>https://www.theguardian.com/world/asia</td>\n",
              "      <td></td>\n",
              "    </tr>\n",
              "    <tr>\n",
              "      <th>50</th>\n",
              "      <td>Middle East</td>\n",
              "      <td>https://www.theguardian.com/world/middleeast</td>\n",
              "      <td></td>\n",
              "    </tr>\n",
              "    <tr>\n",
              "      <th>51</th>\n",
              "      <td>Africa</td>\n",
              "      <td>https://www.theguardian.com/world/africa</td>\n",
              "      <td></td>\n",
              "    </tr>\n",
              "  </tbody>\n",
              "</table>\n",
              "</div>\n",
              "    <div class=\"colab-df-buttons\">\n",
              "\n",
              "  <div class=\"colab-df-container\">\n",
              "    <button class=\"colab-df-convert\" onclick=\"convertToInteractive('df-47d8a408-b9bb-4d41-9a3b-65dac7a13252')\"\n",
              "            title=\"Convert this dataframe to an interactive table.\"\n",
              "            style=\"display:none;\">\n",
              "\n",
              "  <svg xmlns=\"http://www.w3.org/2000/svg\" height=\"24px\" viewBox=\"0 -960 960 960\">\n",
              "    <path d=\"M120-120v-720h720v720H120Zm60-500h600v-160H180v160Zm220 220h160v-160H400v160Zm0 220h160v-160H400v160ZM180-400h160v-160H180v160Zm440 0h160v-160H620v160ZM180-180h160v-160H180v160Zm440 0h160v-160H620v160Z\"/>\n",
              "  </svg>\n",
              "    </button>\n",
              "\n",
              "  <style>\n",
              "    .colab-df-container {\n",
              "      display:flex;\n",
              "      gap: 12px;\n",
              "    }\n",
              "\n",
              "    .colab-df-convert {\n",
              "      background-color: #E8F0FE;\n",
              "      border: none;\n",
              "      border-radius: 50%;\n",
              "      cursor: pointer;\n",
              "      display: none;\n",
              "      fill: #1967D2;\n",
              "      height: 32px;\n",
              "      padding: 0 0 0 0;\n",
              "      width: 32px;\n",
              "    }\n",
              "\n",
              "    .colab-df-convert:hover {\n",
              "      background-color: #E2EBFA;\n",
              "      box-shadow: 0px 1px 2px rgba(60, 64, 67, 0.3), 0px 1px 3px 1px rgba(60, 64, 67, 0.15);\n",
              "      fill: #174EA6;\n",
              "    }\n",
              "\n",
              "    .colab-df-buttons div {\n",
              "      margin-bottom: 4px;\n",
              "    }\n",
              "\n",
              "    [theme=dark] .colab-df-convert {\n",
              "      background-color: #3B4455;\n",
              "      fill: #D2E3FC;\n",
              "    }\n",
              "\n",
              "    [theme=dark] .colab-df-convert:hover {\n",
              "      background-color: #434B5C;\n",
              "      box-shadow: 0px 1px 3px 1px rgba(0, 0, 0, 0.15);\n",
              "      filter: drop-shadow(0px 1px 2px rgba(0, 0, 0, 0.3));\n",
              "      fill: #FFFFFF;\n",
              "    }\n",
              "  </style>\n",
              "\n",
              "    <script>\n",
              "      const buttonEl =\n",
              "        document.querySelector('#df-47d8a408-b9bb-4d41-9a3b-65dac7a13252 button.colab-df-convert');\n",
              "      buttonEl.style.display =\n",
              "        google.colab.kernel.accessAllowed ? 'block' : 'none';\n",
              "\n",
              "      async function convertToInteractive(key) {\n",
              "        const element = document.querySelector('#df-47d8a408-b9bb-4d41-9a3b-65dac7a13252');\n",
              "        const dataTable =\n",
              "          await google.colab.kernel.invokeFunction('convertToInteractive',\n",
              "                                                    [key], {});\n",
              "        if (!dataTable) return;\n",
              "\n",
              "        const docLinkHtml = 'Like what you see? Visit the ' +\n",
              "          '<a target=\"_blank\" href=https://colab.research.google.com/notebooks/data_table.ipynb>data table notebook</a>'\n",
              "          + ' to learn more about interactive tables.';\n",
              "        element.innerHTML = '';\n",
              "        dataTable['output_type'] = 'display_data';\n",
              "        await google.colab.output.renderOutput(dataTable, element);\n",
              "        const docLink = document.createElement('div');\n",
              "        docLink.innerHTML = docLinkHtml;\n",
              "        element.appendChild(docLink);\n",
              "      }\n",
              "    </script>\n",
              "  </div>\n",
              "\n",
              "\n",
              "<div id=\"df-c39e46d0-86e2-4e71-b690-4f97a64c98be\">\n",
              "  <button class=\"colab-df-quickchart\" onclick=\"quickchart('df-c39e46d0-86e2-4e71-b690-4f97a64c98be')\"\n",
              "            title=\"Suggest charts\"\n",
              "            style=\"display:none;\">\n",
              "\n",
              "<svg xmlns=\"http://www.w3.org/2000/svg\" height=\"24px\"viewBox=\"0 0 24 24\"\n",
              "     width=\"24px\">\n",
              "    <g>\n",
              "        <path d=\"M19 3H5c-1.1 0-2 .9-2 2v14c0 1.1.9 2 2 2h14c1.1 0 2-.9 2-2V5c0-1.1-.9-2-2-2zM9 17H7v-7h2v7zm4 0h-2V7h2v10zm4 0h-2v-4h2v4z\"/>\n",
              "    </g>\n",
              "</svg>\n",
              "  </button>\n",
              "\n",
              "<style>\n",
              "  .colab-df-quickchart {\n",
              "      --bg-color: #E8F0FE;\n",
              "      --fill-color: #1967D2;\n",
              "      --hover-bg-color: #E2EBFA;\n",
              "      --hover-fill-color: #174EA6;\n",
              "      --disabled-fill-color: #AAA;\n",
              "      --disabled-bg-color: #DDD;\n",
              "  }\n",
              "\n",
              "  [theme=dark] .colab-df-quickchart {\n",
              "      --bg-color: #3B4455;\n",
              "      --fill-color: #D2E3FC;\n",
              "      --hover-bg-color: #434B5C;\n",
              "      --hover-fill-color: #FFFFFF;\n",
              "      --disabled-bg-color: #3B4455;\n",
              "      --disabled-fill-color: #666;\n",
              "  }\n",
              "\n",
              "  .colab-df-quickchart {\n",
              "    background-color: var(--bg-color);\n",
              "    border: none;\n",
              "    border-radius: 50%;\n",
              "    cursor: pointer;\n",
              "    display: none;\n",
              "    fill: var(--fill-color);\n",
              "    height: 32px;\n",
              "    padding: 0;\n",
              "    width: 32px;\n",
              "  }\n",
              "\n",
              "  .colab-df-quickchart:hover {\n",
              "    background-color: var(--hover-bg-color);\n",
              "    box-shadow: 0 1px 2px rgba(60, 64, 67, 0.3), 0 1px 3px 1px rgba(60, 64, 67, 0.15);\n",
              "    fill: var(--button-hover-fill-color);\n",
              "  }\n",
              "\n",
              "  .colab-df-quickchart-complete:disabled,\n",
              "  .colab-df-quickchart-complete:disabled:hover {\n",
              "    background-color: var(--disabled-bg-color);\n",
              "    fill: var(--disabled-fill-color);\n",
              "    box-shadow: none;\n",
              "  }\n",
              "\n",
              "  .colab-df-spinner {\n",
              "    border: 2px solid var(--fill-color);\n",
              "    border-color: transparent;\n",
              "    border-bottom-color: var(--fill-color);\n",
              "    animation:\n",
              "      spin 1s steps(1) infinite;\n",
              "  }\n",
              "\n",
              "  @keyframes spin {\n",
              "    0% {\n",
              "      border-color: transparent;\n",
              "      border-bottom-color: var(--fill-color);\n",
              "      border-left-color: var(--fill-color);\n",
              "    }\n",
              "    20% {\n",
              "      border-color: transparent;\n",
              "      border-left-color: var(--fill-color);\n",
              "      border-top-color: var(--fill-color);\n",
              "    }\n",
              "    30% {\n",
              "      border-color: transparent;\n",
              "      border-left-color: var(--fill-color);\n",
              "      border-top-color: var(--fill-color);\n",
              "      border-right-color: var(--fill-color);\n",
              "    }\n",
              "    40% {\n",
              "      border-color: transparent;\n",
              "      border-right-color: var(--fill-color);\n",
              "      border-top-color: var(--fill-color);\n",
              "    }\n",
              "    60% {\n",
              "      border-color: transparent;\n",
              "      border-right-color: var(--fill-color);\n",
              "    }\n",
              "    80% {\n",
              "      border-color: transparent;\n",
              "      border-right-color: var(--fill-color);\n",
              "      border-bottom-color: var(--fill-color);\n",
              "    }\n",
              "    90% {\n",
              "      border-color: transparent;\n",
              "      border-bottom-color: var(--fill-color);\n",
              "    }\n",
              "  }\n",
              "</style>\n",
              "\n",
              "  <script>\n",
              "    async function quickchart(key) {\n",
              "      const quickchartButtonEl =\n",
              "        document.querySelector('#' + key + ' button');\n",
              "      quickchartButtonEl.disabled = true;  // To prevent multiple clicks.\n",
              "      quickchartButtonEl.classList.add('colab-df-spinner');\n",
              "      try {\n",
              "        const charts = await google.colab.kernel.invokeFunction(\n",
              "            'suggestCharts', [key], {});\n",
              "      } catch (error) {\n",
              "        console.error('Error during call to suggestCharts:', error);\n",
              "      }\n",
              "      quickchartButtonEl.classList.remove('colab-df-spinner');\n",
              "      quickchartButtonEl.classList.add('colab-df-quickchart-complete');\n",
              "    }\n",
              "    (() => {\n",
              "      let quickchartButtonEl =\n",
              "        document.querySelector('#df-c39e46d0-86e2-4e71-b690-4f97a64c98be button');\n",
              "      quickchartButtonEl.style.display =\n",
              "        google.colab.kernel.accessAllowed ? 'block' : 'none';\n",
              "    })();\n",
              "  </script>\n",
              "</div>\n",
              "\n",
              "  <div id=\"id_db3051e3-e167-44d3-83e7-288eac637efa\">\n",
              "    <style>\n",
              "      .colab-df-generate {\n",
              "        background-color: #E8F0FE;\n",
              "        border: none;\n",
              "        border-radius: 50%;\n",
              "        cursor: pointer;\n",
              "        display: none;\n",
              "        fill: #1967D2;\n",
              "        height: 32px;\n",
              "        padding: 0 0 0 0;\n",
              "        width: 32px;\n",
              "      }\n",
              "\n",
              "      .colab-df-generate:hover {\n",
              "        background-color: #E2EBFA;\n",
              "        box-shadow: 0px 1px 2px rgba(60, 64, 67, 0.3), 0px 1px 3px 1px rgba(60, 64, 67, 0.15);\n",
              "        fill: #174EA6;\n",
              "      }\n",
              "\n",
              "      [theme=dark] .colab-df-generate {\n",
              "        background-color: #3B4455;\n",
              "        fill: #D2E3FC;\n",
              "      }\n",
              "\n",
              "      [theme=dark] .colab-df-generate:hover {\n",
              "        background-color: #434B5C;\n",
              "        box-shadow: 0px 1px 3px 1px rgba(0, 0, 0, 0.15);\n",
              "        filter: drop-shadow(0px 1px 2px rgba(0, 0, 0, 0.3));\n",
              "        fill: #FFFFFF;\n",
              "      }\n",
              "    </style>\n",
              "    <button class=\"colab-df-generate\" onclick=\"generateWithVariable('df')\"\n",
              "            title=\"Generate code using this dataframe.\"\n",
              "            style=\"display:none;\">\n",
              "\n",
              "  <svg xmlns=\"http://www.w3.org/2000/svg\" height=\"24px\"viewBox=\"0 0 24 24\"\n",
              "       width=\"24px\">\n",
              "    <path d=\"M7,19H8.4L18.45,9,17,7.55,7,17.6ZM5,21V16.75L18.45,3.32a2,2,0,0,1,2.83,0l1.4,1.43a1.91,1.91,0,0,1,.58,1.4,1.91,1.91,0,0,1-.58,1.4L9.25,21ZM18.45,9,17,7.55Zm-12,3A5.31,5.31,0,0,0,4.9,8.1,5.31,5.31,0,0,0,1,6.5,5.31,5.31,0,0,0,4.9,4.9,5.31,5.31,0,0,0,6.5,1,5.31,5.31,0,0,0,8.1,4.9,5.31,5.31,0,0,0,12,6.5,5.46,5.46,0,0,0,6.5,12Z\"/>\n",
              "  </svg>\n",
              "    </button>\n",
              "    <script>\n",
              "      (() => {\n",
              "      const buttonEl =\n",
              "        document.querySelector('#id_db3051e3-e167-44d3-83e7-288eac637efa button.colab-df-generate');\n",
              "      buttonEl.style.display =\n",
              "        google.colab.kernel.accessAllowed ? 'block' : 'none';\n",
              "\n",
              "      buttonEl.onclick = () => {\n",
              "        google.colab.notebook.generateWithVariable('df');\n",
              "      }\n",
              "      })();\n",
              "    </script>\n",
              "  </div>\n",
              "\n",
              "    </div>\n",
              "  </div>\n"
            ],
            "application/vnd.google.colaboratory.intrinsic+json": {
              "type": "dataframe",
              "variable_name": "df",
              "summary": "{\n  \"name\": \"df\",\n  \"rows\": 52,\n  \"fields\": [\n    {\n      \"column\": \"headline\",\n      \"properties\": {\n        \"dtype\": \"category\",\n        \"num_unique_values\": 23,\n        \"samples\": [\n          \"Israel admits firing at ambulances in Gaza after Palestinians say rescuers missing in Rafah\",\n          \"All Asia Pacific stories\",\n          \"Middle East\"\n        ],\n        \"semantic_type\": \"\",\n        \"description\": \"\"\n      }\n    },\n    {\n      \"column\": \"link\",\n      \"properties\": {\n        \"dtype\": \"string\",\n        \"num_unique_values\": 35,\n        \"samples\": [\n          \"https://www.theguardian.com/world/live/2025/mar/29/myanmar-earthquake-race-to-find-survivors-as-junta-confirms-huge-rise-in-death-toll\",\n          \"https://www.theguardian.com/world/2025/mar/28/myanmar-earthquake-thailand-magnitude-thailand-tremors-bangkok\",\n          \"https://www.theguardian.com/world/2025/mar/28/friday-briefing-how-gaza-is-becoming-the-deadliest-conflict-zone-for-journalists\"\n        ],\n        \"semantic_type\": \"\",\n        \"description\": \"\"\n      }\n    },\n    {\n      \"column\": \"content\",\n      \"properties\": {\n        \"dtype\": \"string\",\n        \"num_unique_values\": 30,\n        \"samples\": [\n          \"The death toll is expected to rise after a 7.7-magnitude earthquake devastated Myanmar and brought down a high rise building in the capital of Thailand. Its epicentre was about 11 miles (17.2km) from Mandalay, Myanmar\\u2019s second-largest city Mike Hohnen Sat 29 Mar 202502.55\\u00a0GMTLast modified on Sat 29 Mar 202507.24\\u00a0GMT Photograph: Nyein Chan Naing/EPA Photograph: Sai Aung Main/AFP/Getty Images Photograph: AFP/Getty Images Photograph: Sai Aung Main/AFP/Getty Images Photograph: AFP/Getty Images Photograph: Sebastien Berger/AFP/Getty Images Photograph: Reuters Photograph: AFP/Getty Images Photograph: Reuters Photograph: Sai Aung Main/AFP/Getty Images Photograph: Athit Perawongmetha/Reuters Photograph: Athit Perawongmetha/Reuters Photograph: Sai Aung Main/AFP/Getty Images Photograph: Sai Aung Main/AFP/Getty Images Photograph: Sai Aung Main/AFP/Getty Images\",\n          \"Drone raid sparks blaze in Dnipro hotel and restaurant complex and injures 19; Ukrainian president says too early to judge Washington\\u2019s expanded proposal. What we know on day 1,130 A mass Russian drone attack killed four people, injured 19 and sparked a large fire in a hotel and restaurant complex and other buildingsin the south-eastern Ukrainian city of Dnipro late on Friday, the regional governor said. A high-rise apartment block and nearly 10 homes caught fire, Serhiy Lysak said on Telegram. Firefighting crews had brought the blaze in the hotel complex under control. The casualty toll was likely to rise, with three of the injured in serious condition, Lysak said in an earlier post. \\u201cIt is also now known that the enemy directed more than 20 drones toward the city. Most of them were downed.\\u201d Volodymyr Zelenskyy said Ukraine would not accept any mineral rights deal that threatened its integration with the European Union but that it was too early to pass judgment on a dramatically expanded minerals deal proposed by Washington. The Ukrainian president said Kyiv\\u2019s lawyers needed to review the draft before he could say more about the US offer, a summary of which suggested the US was demanding all Ukraine\\u2019s natural resources income for years. He also said Kyiv would not recognise billions of dollars of past US aid as loans, though he did not say whether such a demand featured in the latest draft version received by a top government official. Zelenskyy said the text was \\u201centirely different\\u201d from an earlier framework agreement that he had been set to sign with the US president, Donald Trump, before their talks descended into atelevised clash at the White Houselast month. Ukrainian forces have staged a little-publicised incursion into Russia\\u2019s Belgorod region, according to Russian military bloggers,just as Kyiv\\u2019s troops are losing their grip on the pocket of Russia\\u2019s adjacent Kursk region they captured last year. Several Russian military correspondents said on Friday that Ukrainian troops were inside Belgorod and fighting battles with Russian forces there. Neither Kyiv nor Moscow has confirmed the reports, though Russia\\u2019s defence ministry said 10 days ago its forces had thwarted five Ukrainian attempts to push across the border in Belgorod. Meanwhile, Ukraine\\u2019s military said on Friday its air force had struck a border post in Russia\\u2019s Bryansk region, destroying military infrastructure in an area it had identified as the site of drone launches. Vladimir Putin renewed his callfor a \\u201ctransitional administration\\u201d to be put in place in Ukraineto allow for new elections \\u2013 essentially urging the toppling of Volodymyr Zelenskyy \\u2013 and vowed Russia\\u2019s army would \\u201cfinish off\\u201d Ukrainian troops. However, Zelenskyy dismissed Putin\\u2019s call as his latest ploy to delay a peace deal. And the UN secretary general, Ant\\u00f3nio Guterres, said Ukraine had a legitimate government that must be respected. It was not clear how far Putin\\u2019s idea for a UN-led temporary administration was meant to be taken seriously, reportsDan Sabbagh,given that the Kremlin clarified that he had not raised this idea in recentphone calls with Donald Trump. The UN rights chief called for an end to the \\u201chorrific suffering\\u201d caused by attacks on civilians in Ukraine.\\u201cRecent weeks have seen intense activity around a possible ceasefire in Ukraine, which would be very welcome,\\u201d Volker Turk told the UN Human Rights Council on Friday. \\u201cLimited ceasefires that protect shipping lanes and infrastructure are a welcome step forward. What is most needed now is an end to the horrific suffering being inflicted daily in Ukraine.\\u201d Donald Trump has pushed for a ceasefire since returning to office in January, \\u201cand yet, in parallel with these talks, fighting in Ukraine has intensified, and is killing and injuring even more civilians\\u201d, Turk said. \\u201cCasualty figures in the first three months of this year were 30% higher than the same period last year.\\u201d Ukraine said Friday it had received back the bodies of 909 of its soldiers killed during battles with Russia, in the largest such repatriation in more than three years of war. The Coordination Headquarters for the Treatment of Prisoners of War, a government agency, said it was \\u201cgrateful for the assistance of the International Committee of the Red Cross\\u201d and that the remains had been returned from the Donetsk, Luhansk and Zaporizhzhia regions. The EU\\u2019s commissioner for agriculture said the bloc expects to reduce farm imports from Ukrainewhen it renegotiates a trade deal with Kyiv set to expire in June. \\u201cImport quotas won\\u2019t remain the same as in this temporary liberalisation. So, indeed, there will be fewer imports,\\u201d Christophe Hansen told Agence France-Presse on Friday, referring to a deal struck after Russia\\u2019s 2022 invasion granting duty-free access to the bloc for Ukrainian agricultural goods. The International Monetary Fund said on Friday its board completed a review that would enable disbursing $400m to Ukraine to be channelled for budget support. Ukraine\\u2019s economy remained resilient despite challenging conditions, the IMF said, while adding that Ukraine\\u2019s economic growth \\u2013 which slowed in the second half of last year \\u2013 would see a continued slowdown in 2025 due to a tight labour market and attacks on energy infrastructure.\",\n          \"Dozens of royalists injured in clashes with police fuelled by political instability and economic discontent Two people have been killed and dozens injured after protests in Kathmandu calling for the restoration of Nepal\\u2019s monarchy ended in clashes with police. Thousands of protesters rallied in Nepal\\u2019s capital on Friday to demand a return to the Hindu monarchy,which was abolished in 2008, and the re-establishment of the country as a Hindu rather than secular state. Pro-democracy and republican groups held a counter-protest that passed peacefully. The pro-royalist movement is calling for the return of Gyanendra Shah, who was Nepal\\u2019s last reigning monarch and still has a loyal following in the country. Support for the pro-monarchy movement has surged recently as Nepal grapples with ongoing political and economic instability that has led to widespread dissatisfaction with the government. Friday\\u2019s protests took a violent turn after pro-royalists broke through police barricades and began throwing stones at officers. The police responded by firing teargas into the crowds and shooting rubber bullets and live ammunition into the air. Chaos engulfed the streets as the royalist protesters began to vandalise homes and shops and torched buildings. Several political party headquarters were vandalised, as were the offices of a prominent newspaper and a TV news channel. The police spokesperson Shekhar Khanal said 17 people had been arrested so far. \\u201cWhen the protesters tried to force their way past the restricted area, the police had no choice but to use teargas. Following this, the protesters then resorted to vandalism and arson,\\u201d he said. One protester was killed in the clashes and pronounced dead on arrival at hospital. A journalist was killed when a building was set alight. The government declared a curfew in areas of the capital and security personnel were deployed on the streets. Nepal\\u2019s prime minister, KP Sharma Oli, called an emergency cabinet meeting to discuss the security situation. Royalist protesters claimed the police had acted first against the protesters. \\u201cRight now, we are not demanding the return of the monarchy, we are advocating for the institution of the monarchy,\\u201d said Ravi Shrestha, who was among the protesters. \\u201cThe situation escalated beyond control because of police suppression.\\u201d The protests were the largest since 2023 and demonstrated the growing base of support for the return of the king in Nepal. Earlier this month, upwards of 10,000 supporters gathered at Kathmandu airport to celebrate Gyanendra\\u2019s arrival in the capital, with cries of \\u201cbring back our monarch\\u201d. In a statement before the protests, the committee for the restoration of monarchy emphasised they were calling for the return of a \\u201cconstitutional monarchy\\u201d that would coexist with the democratic government and would have a \\u201cparental role above politics\\u201d. Sign up toFirst Edition Our morning email breaks down the key stories of the day, telling you what\\u2019s happening and why it matters after newsletter promotion Gyanendra remains a controversial figure. He was crowned in 2001 after most of his family were killed in a mass shooting at their home, and initially ruled as more of a ceremonial head of state, with no executive powers. But, in 2005,he seized absolute power, dissolving the government and jailing politicians. He declared a state of emergency and deployed the army to run the country. After massive protests rocked the country,he was forced to hand over the governing of the countryto a democratically elected government in 2006. In 2008, the parliament voted to abolish the monarchy altogether. In the years since, Nepal has experienced continuing political instability, with weak coalition governments regularly only lasting a matter of months before being toppled, and senior politicians being engulfed in corruption scandals. Anger at the political system has been steadily rising, and this has been capitalised on by the pro-monarchy movement. Sunita Chudal, from Jhapa, was among those who protested for the abolition of the monarchy in 2006, and recalled shouting slogans in the streets calling Gyanendra a thief. Now she is among those calling for his return. \\u201cI have joined this movement, not because I believe the king will return and make things better, but because of the way corruption and degradation have increased in the country, and how our children are being forced to migrate abroad,\\u201d she said. \\u201cI am so disillusioned that I had no choice but to take to the streets.\\u201d\"\n        ],\n        \"semantic_type\": \"\",\n        \"description\": \"\"\n      }\n    }\n  ]\n}"
            }
          },
          "metadata": {},
          "execution_count": 41
        }
      ]
    },
    {
      "cell_type": "code",
      "source": [
        "df.shape"
      ],
      "metadata": {
        "colab": {
          "base_uri": "https://localhost:8080/"
        },
        "id": "yYIRjq39SRts",
        "outputId": "9b7c5f32-08f4-47a0-92d4-7e0ce0e7e017"
      },
      "execution_count": 42,
      "outputs": [
        {
          "output_type": "execute_result",
          "data": {
            "text/plain": [
              "(52, 3)"
            ]
          },
          "metadata": {},
          "execution_count": 42
        }
      ]
    },
    {
      "cell_type": "code",
      "source": [
        "try:\n",
        "    # Read the existing CSV file\n",
        "    existing_df = pd.read_csv(\"web_scraping_news_articles.csv\")\n",
        "\n",
        "    # Read the new data from reuters_news.csv\n",
        "    new_data_df = pd.read_csv(\"guardian_news.csv\")\n",
        "\n",
        "    # Concatenate the DataFrames\n",
        "    combined_df = pd.concat([existing_df, new_data_df], ignore_index=True)\n",
        "\n",
        "    # Save the combined DataFrame back to the CSV file\n",
        "    combined_df.to_csv(\"web_scraping_news_articles.csv\", index=False)\n",
        "    print(\"Successfully added new data to web_scraping_news_articles.csv\")\n",
        "\n",
        "except FileNotFoundError:\n",
        "    print(\"Error: One or both of the CSV files not found.\")\n",
        "except Exception as e:\n",
        "    print(f\"An error occurred: {e}\")"
      ],
      "metadata": {
        "colab": {
          "base_uri": "https://localhost:8080/"
        },
        "id": "vOba9pL4SfBR",
        "outputId": "92e990a6-8562-43c1-cb9a-00c312cda72f"
      },
      "execution_count": 43,
      "outputs": [
        {
          "output_type": "stream",
          "name": "stdout",
          "text": [
            "Successfully added new data to web_scraping_news_articles.csv\n"
          ]
        }
      ]
    },
    {
      "cell_type": "code",
      "source": [
        "combined_df.shape"
      ],
      "metadata": {
        "colab": {
          "base_uri": "https://localhost:8080/"
        },
        "id": "RFQHKUx5Ww5u",
        "outputId": "89feeb57-1488-458a-bef4-a25a873e503a"
      },
      "execution_count": 44,
      "outputs": [
        {
          "output_type": "execute_result",
          "data": {
            "text/plain": [
              "(350, 3)"
            ]
          },
          "metadata": {},
          "execution_count": 44
        }
      ]
    },
    {
      "cell_type": "markdown",
      "source": [
        "#Times of India"
      ],
      "metadata": {
        "id": "87CCloNcaIm5"
      }
    },
    {
      "cell_type": "code",
      "source": [
        "!pip install requests pandas\n"
      ],
      "metadata": {
        "colab": {
          "base_uri": "https://localhost:8080/"
        },
        "id": "0ga-W6g-YZ5f",
        "outputId": "0ddc4eae-7dba-43e7-82d2-4e45a44c8bd5"
      },
      "execution_count": 50,
      "outputs": [
        {
          "output_type": "stream",
          "name": "stdout",
          "text": [
            "Requirement already satisfied: requests in /usr/local/lib/python3.11/dist-packages (2.32.3)\n",
            "Requirement already satisfied: pandas in /usr/local/lib/python3.11/dist-packages (2.2.2)\n",
            "Requirement already satisfied: charset-normalizer<4,>=2 in /usr/local/lib/python3.11/dist-packages (from requests) (3.4.1)\n",
            "Requirement already satisfied: idna<4,>=2.5 in /usr/local/lib/python3.11/dist-packages (from requests) (3.10)\n",
            "Requirement already satisfied: urllib3<3,>=1.21.1 in /usr/local/lib/python3.11/dist-packages (from requests) (2.3.0)\n",
            "Requirement already satisfied: certifi>=2017.4.17 in /usr/local/lib/python3.11/dist-packages (from requests) (2025.1.31)\n",
            "Requirement already satisfied: numpy>=1.23.2 in /usr/local/lib/python3.11/dist-packages (from pandas) (2.0.2)\n",
            "Requirement already satisfied: python-dateutil>=2.8.2 in /usr/local/lib/python3.11/dist-packages (from pandas) (2.8.2)\n",
            "Requirement already satisfied: pytz>=2020.1 in /usr/local/lib/python3.11/dist-packages (from pandas) (2025.1)\n",
            "Requirement already satisfied: tzdata>=2022.7 in /usr/local/lib/python3.11/dist-packages (from pandas) (2025.1)\n",
            "Requirement already satisfied: six>=1.5 in /usr/local/lib/python3.11/dist-packages (from python-dateutil>=2.8.2->pandas) (1.17.0)\n"
          ]
        }
      ]
    },
    {
      "cell_type": "code",
      "source": [
        "import requests\n",
        "import pandas as pd\n",
        "\n",
        "# 🔑 Replace with your NewsAPI key\n",
        "NEWS_API_KEY = \"ade36383ae334bf0ad161f299f3c940d\"\n",
        "\n",
        "# TOI source ID in NewsAPI\n",
        "NEWS_API_URL = f\"https://newsapi.org/v2/top-headlines?sources=the-times-of-india&apiKey={NEWS_API_KEY}\"\n",
        "\n",
        "# Fetch data\n",
        "response = requests.get(NEWS_API_URL)\n",
        "data = response.json()\n",
        "\n",
        "if \"articles\" in data:\n",
        "    articles = data[\"articles\"]\n",
        "    news_data = [{\"headline\": a[\"title\"], \"link\": a[\"url\"], \"content\": a[\"description\"]} for a in articles]\n",
        "\n",
        "    # Save to CSV\n",
        "    df = pd.DataFrame(news_data)\n",
        "    df.to_csv(\"toi_news.csv\", index=False)\n",
        "\n",
        "    print(\"✅ Scraping completed! Data saved to 'toi_news.csv'.\")\n",
        "else:\n",
        "    print(\"❌ Failed to retrieve TOI news. Check your API key or request limits.\")\n"
      ],
      "metadata": {
        "colab": {
          "base_uri": "https://localhost:8080/"
        },
        "id": "QltvikkjaSL5",
        "outputId": "ed1d780e-8704-4bda-9124-e876b5652335"
      },
      "execution_count": 51,
      "outputs": [
        {
          "output_type": "stream",
          "name": "stdout",
          "text": [
            "✅ Scraping completed! Data saved to 'toi_news.csv'.\n"
          ]
        }
      ]
    },
    {
      "cell_type": "code",
      "source": [
        "df.shape"
      ],
      "metadata": {
        "colab": {
          "base_uri": "https://localhost:8080/"
        },
        "id": "In_9LAxaaaxb",
        "outputId": "64a776cf-dc8a-4417-f28d-e0737ba5f826"
      },
      "execution_count": 52,
      "outputs": [
        {
          "output_type": "execute_result",
          "data": {
            "text/plain": [
              "(7, 3)"
            ]
          },
          "metadata": {},
          "execution_count": 52
        }
      ]
    },
    {
      "cell_type": "code",
      "source": [
        "try:\n",
        "    # Read the existing CSV file\n",
        "    existing_df = pd.read_csv(\"web_scraping_news_articles.csv\")\n",
        "\n",
        "    # Read the new data from reuters_news.csv\n",
        "    new_data_df = pd.read_csv(\"toi_news.csv\")\n",
        "\n",
        "    # Concatenate the DataFrames\n",
        "    combined_df = pd.concat([existing_df, new_data_df], ignore_index=True)\n",
        "\n",
        "    # Save the combined DataFrame back to the CSV file\n",
        "    combined_df.to_csv(\"web_scraping_news_articles.csv\", index=False)\n",
        "    print(\"Successfully added new data to web_scraping_news_articles.csv\")\n",
        "\n",
        "except FileNotFoundError:\n",
        "    print(\"Error: One or both of the CSV files not found.\")\n",
        "except Exception as e:\n",
        "    print(f\"An error occurred: {e}\")"
      ],
      "metadata": {
        "colab": {
          "base_uri": "https://localhost:8080/"
        },
        "id": "XHvi86fgacsC",
        "outputId": "e5115591-ca06-43f9-8272-eaad16289208"
      },
      "execution_count": 53,
      "outputs": [
        {
          "output_type": "stream",
          "name": "stdout",
          "text": [
            "Successfully added new data to web_scraping_news_articles.csv\n"
          ]
        }
      ]
    },
    {
      "cell_type": "code",
      "source": [
        "combined_df.shape"
      ],
      "metadata": {
        "colab": {
          "base_uri": "https://localhost:8080/"
        },
        "id": "xm5Vgbt7aohH",
        "outputId": "e08714cd-315d-4516-a346-e93717c53573"
      },
      "execution_count": 54,
      "outputs": [
        {
          "output_type": "execute_result",
          "data": {
            "text/plain": [
              "(357, 3)"
            ]
          },
          "metadata": {},
          "execution_count": 54
        }
      ]
    },
    {
      "cell_type": "markdown",
      "source": [
        "#Alzajeera\n",
        "\n"
      ],
      "metadata": {
        "id": "EcpNZTYkcDPD"
      }
    },
    {
      "cell_type": "code",
      "source": [
        "!pip install requests pandas\n"
      ],
      "metadata": {
        "colab": {
          "base_uri": "https://localhost:8080/"
        },
        "id": "F3Z0yzikeMo7",
        "outputId": "ed5abf9a-ef73-4431-9726-f954b5563c9e"
      },
      "execution_count": 1,
      "outputs": [
        {
          "output_type": "stream",
          "name": "stdout",
          "text": [
            "Requirement already satisfied: requests in /usr/local/lib/python3.11/dist-packages (2.32.3)\n",
            "Requirement already satisfied: pandas in /usr/local/lib/python3.11/dist-packages (2.2.2)\n",
            "Requirement already satisfied: charset-normalizer<4,>=2 in /usr/local/lib/python3.11/dist-packages (from requests) (3.4.1)\n",
            "Requirement already satisfied: idna<4,>=2.5 in /usr/local/lib/python3.11/dist-packages (from requests) (3.10)\n",
            "Requirement already satisfied: urllib3<3,>=1.21.1 in /usr/local/lib/python3.11/dist-packages (from requests) (2.3.0)\n",
            "Requirement already satisfied: certifi>=2017.4.17 in /usr/local/lib/python3.11/dist-packages (from requests) (2025.1.31)\n",
            "Requirement already satisfied: numpy>=1.23.2 in /usr/local/lib/python3.11/dist-packages (from pandas) (2.0.2)\n",
            "Requirement already satisfied: python-dateutil>=2.8.2 in /usr/local/lib/python3.11/dist-packages (from pandas) (2.8.2)\n",
            "Requirement already satisfied: pytz>=2020.1 in /usr/local/lib/python3.11/dist-packages (from pandas) (2025.1)\n",
            "Requirement already satisfied: tzdata>=2022.7 in /usr/local/lib/python3.11/dist-packages (from pandas) (2025.1)\n",
            "Requirement already satisfied: six>=1.5 in /usr/local/lib/python3.11/dist-packages (from python-dateutil>=2.8.2->pandas) (1.17.0)\n"
          ]
        }
      ]
    },
    {
      "cell_type": "code",
      "source": [
        "import requests\n",
        "import pandas as pd\n",
        "from bs4 import BeautifulSoup\n",
        "\n",
        "# Your ScraperAPI Key\n",
        "API_KEY = \"0af76188e537118374fd0cedba951b77\"  # 🔴 Replace with your actual ScraperAPI key\n",
        "\n",
        "# Al Jazeera News URL\n",
        "url = f\"http://api.scraperapi.com?api_key={API_KEY}&url=https://www.aljazeera.com/news/\"\n",
        "\n",
        "# Send request via ScraperAPI\n",
        "response = requests.get(url)\n",
        "\n",
        "if response.status_code == 200:\n",
        "    soup = BeautifulSoup(response.text, \"html.parser\")\n",
        "\n",
        "    # Extract articles\n",
        "    articles = soup.select(\"article a\")  # Select article links\n",
        "\n",
        "    news_data = []\n",
        "    for article in articles[:50]:  # Adjust limit\n",
        "        headline = article.get_text(strip=True)\n",
        "        link = article[\"href\"]\n",
        "        if not link.startswith(\"https\"):\n",
        "            link = \"https://www.aljazeera.com\" + link  # Fix relative links\n",
        "\n",
        "        # Fetch article content via ScraperAPI\n",
        "        article_url = f\"http://api.scraperapi.com?api_key={API_KEY}&url={link}\"\n",
        "        article_response = requests.get(article_url)\n",
        "\n",
        "        if article_response.status_code == 200:\n",
        "            article_soup = BeautifulSoup(article_response.text, \"html.parser\")\n",
        "            paragraphs = article_soup.select(\"div.article-body p\")\n",
        "            content = \" \".join([p.get_text(strip=True) for p in paragraphs])\n",
        "\n",
        "            news_data.append({\"headline\": headline, \"link\": link, \"content\": content})\n",
        "\n",
        "    # Save to CSV\n",
        "    df = pd.DataFrame(news_data)\n",
        "    df.to_csv(\"aljazeera_news.csv\", index=False)\n",
        "\n",
        "    print(\"✅ Scraping completed! Data saved to 'aljazeera_news.csv'.\")\n",
        "else:\n",
        "    print(f\"❌ Failed to retrieve page. Status code: {response.status_code}\")\n"
      ],
      "metadata": {
        "colab": {
          "base_uri": "https://localhost:8080/"
        },
        "id": "Okl8r9_hLfYF",
        "outputId": "c9d46f46-f574-457f-8ea9-951b7d6e94e7"
      },
      "execution_count": 60,
      "outputs": [
        {
          "output_type": "stream",
          "name": "stdout",
          "text": [
            "✅ Scraping completed! Data saved to 'aljazeera_news.csv'.\n"
          ]
        }
      ]
    },
    {
      "cell_type": "code",
      "source": [
        "df.shape"
      ],
      "metadata": {
        "colab": {
          "base_uri": "https://localhost:8080/"
        },
        "id": "rSPt6LA9NQP2",
        "outputId": "ee394051-c2e0-4f27-e4fa-4f25dfd9743a"
      },
      "execution_count": 61,
      "outputs": [
        {
          "output_type": "execute_result",
          "data": {
            "text/plain": [
              "(14, 3)"
            ]
          },
          "metadata": {},
          "execution_count": 61
        }
      ]
    },
    {
      "cell_type": "code",
      "source": [
        "try:\n",
        "    # Read the existing CSV file\n",
        "    existing_df = pd.read_csv(\"web_scraping_news_articles.csv\")\n",
        "\n",
        "    # Read the new data from reuters_news.csv\n",
        "    new_data_df = pd.read_csv(\"aljazeera_news.csv\")\n",
        "\n",
        "    # Concatenate the DataFrames\n",
        "    combined_df = pd.concat([existing_df, new_data_df], ignore_index=True)\n",
        "\n",
        "    # Save the combined DataFrame back to the CSV file\n",
        "    combined_df.to_csv(\"web_scraping_news_articles.csv\", index=False)\n",
        "    print(\"Successfully added new data to web_scraping_news_articles.csv\")\n",
        "\n",
        "except FileNotFoundError:\n",
        "    print(\"Error: One or both of the CSV files not found.\")\n",
        "except Exception as e:\n",
        "    print(f\"An error occurred: {e}\")"
      ],
      "metadata": {
        "colab": {
          "base_uri": "https://localhost:8080/"
        },
        "id": "GNnjLysQNR_V",
        "outputId": "3689f218-943b-4ce7-96b0-2b7bd3c00aa4"
      },
      "execution_count": 8,
      "outputs": [
        {
          "output_type": "stream",
          "name": "stdout",
          "text": [
            "Successfully added new data to web_scraping_news_articles.csv\n"
          ]
        }
      ]
    },
    {
      "cell_type": "code",
      "source": [
        "combined_df.shape"
      ],
      "metadata": {
        "colab": {
          "base_uri": "https://localhost:8080/"
        },
        "id": "l49OSm84Nctd",
        "outputId": "cdc1442e-1c78-4265-dbd7-7793671f1984"
      },
      "execution_count": 5,
      "outputs": [
        {
          "output_type": "execute_result",
          "data": {
            "text/plain": [
              "(371, 3)"
            ]
          },
          "metadata": {},
          "execution_count": 5
        }
      ]
    },
    {
      "cell_type": "markdown",
      "source": [
        "#Financial Times"
      ],
      "metadata": {
        "id": "wo1i96ZIP0fb"
      }
    },
    {
      "cell_type": "code",
      "source": [
        "!pip install requests pandas beautifulsoup4\n"
      ],
      "metadata": {
        "colab": {
          "base_uri": "https://localhost:8080/"
        },
        "id": "sHCICMlVPztx",
        "outputId": "48ecd035-33b4-4b2f-819f-c5b5ae6cd180"
      },
      "execution_count": 10,
      "outputs": [
        {
          "output_type": "stream",
          "name": "stdout",
          "text": [
            "Requirement already satisfied: requests in /usr/local/lib/python3.11/dist-packages (2.32.3)\n",
            "Requirement already satisfied: pandas in /usr/local/lib/python3.11/dist-packages (2.2.2)\n",
            "Requirement already satisfied: beautifulsoup4 in /usr/local/lib/python3.11/dist-packages (4.13.3)\n",
            "Requirement already satisfied: charset-normalizer<4,>=2 in /usr/local/lib/python3.11/dist-packages (from requests) (3.4.1)\n",
            "Requirement already satisfied: idna<4,>=2.5 in /usr/local/lib/python3.11/dist-packages (from requests) (3.10)\n",
            "Requirement already satisfied: urllib3<3,>=1.21.1 in /usr/local/lib/python3.11/dist-packages (from requests) (2.3.0)\n",
            "Requirement already satisfied: certifi>=2017.4.17 in /usr/local/lib/python3.11/dist-packages (from requests) (2025.1.31)\n",
            "Requirement already satisfied: numpy>=1.23.2 in /usr/local/lib/python3.11/dist-packages (from pandas) (2.0.2)\n",
            "Requirement already satisfied: python-dateutil>=2.8.2 in /usr/local/lib/python3.11/dist-packages (from pandas) (2.8.2)\n",
            "Requirement already satisfied: pytz>=2020.1 in /usr/local/lib/python3.11/dist-packages (from pandas) (2025.1)\n",
            "Requirement already satisfied: tzdata>=2022.7 in /usr/local/lib/python3.11/dist-packages (from pandas) (2025.1)\n",
            "Requirement already satisfied: soupsieve>1.2 in /usr/local/lib/python3.11/dist-packages (from beautifulsoup4) (2.6)\n",
            "Requirement already satisfied: typing-extensions>=4.0.0 in /usr/local/lib/python3.11/dist-packages (from beautifulsoup4) (4.12.2)\n",
            "Requirement already satisfied: six>=1.5 in /usr/local/lib/python3.11/dist-packages (from python-dateutil>=2.8.2->pandas) (1.17.0)\n"
          ]
        }
      ]
    },
    {
      "cell_type": "code",
      "source": [
        "import requests\n",
        "import pandas as pd\n",
        "from bs4 import BeautifulSoup\n",
        "\n",
        "# Your ScraperAPI Key\n",
        "API_KEY = \"0af76188e537118374fd0cedba951b77\"  # 🔴 Replace with your actual ScraperAPI key\n",
        "\n",
        "# Financial Times URL\n",
        "url = f\"http://api.scraperapi.com?api_key={API_KEY}&url=https://www.ft.com/world\"\n",
        "\n",
        "# Send request via ScraperAPI\n",
        "response = requests.get(url)\n",
        "\n",
        "if response.status_code == 200:\n",
        "    soup = BeautifulSoup(response.text, \"html.parser\")\n",
        "\n",
        "    # Extract articles\n",
        "    articles = soup.select(\"a.js-teaser-heading-link\")  # Adjust selector if needed\n",
        "\n",
        "    news_data = []\n",
        "    for article in articles[:500]:  # Adjust limit\n",
        "        headline = article.get_text(strip=True)\n",
        "        link = article[\"href\"]\n",
        "        if not link.startswith(\"https\"):\n",
        "            link = \"https://www.ft.com\" + link  # Fix relative links\n",
        "\n",
        "        # Fetch article content via ScraperAPI\n",
        "        article_url = f\"http://api.scraperapi.com?api_key={API_KEY}&url={link}\"\n",
        "        article_response = requests.get(article_url)\n",
        "\n",
        "        if article_response.status_code == 200:\n",
        "            article_soup = BeautifulSoup(article_response.text, \"html.parser\")\n",
        "            paragraphs = article_soup.select(\"p\")\n",
        "            content = \" \".join([p.get_text(strip=True) for p in paragraphs])\n",
        "\n",
        "            news_data.append({\"headline\": headline, \"link\": link, \"content\": content})\n",
        "\n",
        "    # Save to CSV\n",
        "    df = pd.DataFrame(news_data)\n",
        "    df.to_csv(\"financial_times_news.csv\", index=False)\n",
        "\n",
        "    print(\"✅ Scraping completed! Data saved to 'financial_times_news.csv'.\")\n",
        "else:\n",
        "    print(f\"❌ Failed to retrieve page. Status code: {response.status_code}\")\n"
      ],
      "metadata": {
        "colab": {
          "base_uri": "https://localhost:8080/"
        },
        "id": "zwBOAtkiP5ux",
        "outputId": "20653099-8a10-4f4c-abd1-87d3602c427d"
      },
      "execution_count": 16,
      "outputs": [
        {
          "output_type": "stream",
          "name": "stdout",
          "text": [
            "✅ Scraping completed! Data saved to 'financial_times_news.csv'.\n"
          ]
        }
      ]
    },
    {
      "cell_type": "code",
      "source": [
        "df.shape"
      ],
      "metadata": {
        "colab": {
          "base_uri": "https://localhost:8080/"
        },
        "id": "ltWakFT_QpLL",
        "outputId": "0240d5e2-b3e2-4bf1-ae16-82102b136b7a"
      },
      "execution_count": 18,
      "outputs": [
        {
          "output_type": "execute_result",
          "data": {
            "text/plain": [
              "(45, 3)"
            ]
          },
          "metadata": {},
          "execution_count": 18
        }
      ]
    },
    {
      "cell_type": "code",
      "source": [
        "# prompt: convert xlsx to csv file\n",
        "\n",
        "import pandas as pd\n",
        "\n",
        "# Assuming your xlsx file is named 'your_file.xlsx'\n",
        "try:\n",
        "    # Read the xlsx file into a pandas DataFrame\n",
        "    xlsx_df = pd.read_excel('web_scraping_news_articles.xlsx')\n",
        "\n",
        "    # Convert the DataFrame to a csv file\n",
        "    xlsx_df.to_csv('web_scraping_news_articles.csv', index=False)  # index=False prevents writing row indices\n",
        "    print(\"Successfully converted xlsx to csv\")\n",
        "\n",
        "except FileNotFoundError:\n",
        "    print(\"Error: xlsx file not found.\")\n",
        "except Exception as e:\n",
        "    print(f\"An error occurred: {e}\")\n"
      ],
      "metadata": {
        "colab": {
          "base_uri": "https://localhost:8080/"
        },
        "id": "p0NDkflmUooI",
        "outputId": "220f23f7-a7c6-4ba0-8380-40f7bfa220d9"
      },
      "execution_count": 19,
      "outputs": [
        {
          "output_type": "stream",
          "name": "stdout",
          "text": [
            "Successfully converted xlsx to csv\n"
          ]
        }
      ]
    },
    {
      "cell_type": "code",
      "source": [
        "try:\n",
        "    # Read the existing CSV file\n",
        "    existing_df = pd.read_csv(\"web_scraping_news_articles.csv\")\n",
        "\n",
        "    # Read the new data from reuters_news.csv\n",
        "    new_data_df = pd.read_csv(\"financial_times_news.csv\")\n",
        "\n",
        "    # Concatenate the DataFrames\n",
        "    combined_df = pd.concat([existing_df, new_data_df], ignore_index=True)\n",
        "\n",
        "    # Save the combined DataFrame back to the CSV file\n",
        "    combined_df.to_csv(\"web_scraping_news_articles.csv\", index=False)\n",
        "    print(\"Successfully added new data to web_scraping_news_articles.csv\")\n",
        "\n",
        "except FileNotFoundError:\n",
        "    print(\"Error: One or both of the CSV files not found.\")\n",
        "except Exception as e:\n",
        "    print(f\"An error occurred: {e}\")"
      ],
      "metadata": {
        "colab": {
          "base_uri": "https://localhost:8080/"
        },
        "id": "JZoLkdGxPiez",
        "outputId": "62a019c3-675b-4a6b-faaf-b7d3e6bc0bf6"
      },
      "execution_count": 6,
      "outputs": [
        {
          "output_type": "stream",
          "name": "stdout",
          "text": [
            "Successfully added new data to web_scraping_news_articles.csv\n"
          ]
        }
      ]
    },
    {
      "cell_type": "code",
      "source": [
        "combined_df.shape"
      ],
      "metadata": {
        "colab": {
          "base_uri": "https://localhost:8080/"
        },
        "id": "86Qj6cxOTBNq",
        "outputId": "91888786-9d93-463f-975e-49c203103f87"
      },
      "execution_count": 21,
      "outputs": [
        {
          "output_type": "execute_result",
          "data": {
            "text/plain": [
              "(431, 3)"
            ]
          },
          "metadata": {},
          "execution_count": 21
        }
      ]
    },
    {
      "cell_type": "markdown",
      "source": [
        "#CNBC\n"
      ],
      "metadata": {
        "id": "Iu-DG6cUhSp9"
      }
    },
    {
      "cell_type": "code",
      "source": [
        "!pip install requests beautifulsoup4 pandas\n"
      ],
      "metadata": {
        "colab": {
          "base_uri": "https://localhost:8080/"
        },
        "id": "XxD4Dtn5mqmF",
        "outputId": "dc3c7a61-3e82-44cc-e5a5-5b02a995b4ed"
      },
      "execution_count": 3,
      "outputs": [
        {
          "output_type": "stream",
          "name": "stdout",
          "text": [
            "Requirement already satisfied: requests in /usr/local/lib/python3.11/dist-packages (2.32.3)\n",
            "Requirement already satisfied: beautifulsoup4 in /usr/local/lib/python3.11/dist-packages (4.13.3)\n",
            "Requirement already satisfied: pandas in /usr/local/lib/python3.11/dist-packages (2.2.2)\n",
            "Requirement already satisfied: charset-normalizer<4,>=2 in /usr/local/lib/python3.11/dist-packages (from requests) (3.4.1)\n",
            "Requirement already satisfied: idna<4,>=2.5 in /usr/local/lib/python3.11/dist-packages (from requests) (3.10)\n",
            "Requirement already satisfied: urllib3<3,>=1.21.1 in /usr/local/lib/python3.11/dist-packages (from requests) (1.26.20)\n",
            "Requirement already satisfied: certifi>=2017.4.17 in /usr/local/lib/python3.11/dist-packages (from requests) (2025.1.31)\n",
            "Requirement already satisfied: soupsieve>1.2 in /usr/local/lib/python3.11/dist-packages (from beautifulsoup4) (2.6)\n",
            "Requirement already satisfied: typing-extensions>=4.0.0 in /usr/local/lib/python3.11/dist-packages (from beautifulsoup4) (4.12.2)\n",
            "Requirement already satisfied: numpy>=1.23.2 in /usr/local/lib/python3.11/dist-packages (from pandas) (2.0.2)\n",
            "Requirement already satisfied: python-dateutil>=2.8.2 in /usr/local/lib/python3.11/dist-packages (from pandas) (2.8.2)\n",
            "Requirement already satisfied: pytz>=2020.1 in /usr/local/lib/python3.11/dist-packages (from pandas) (2025.1)\n",
            "Requirement already satisfied: tzdata>=2022.7 in /usr/local/lib/python3.11/dist-packages (from pandas) (2025.1)\n",
            "Requirement already satisfied: six>=1.5 in /usr/local/lib/python3.11/dist-packages (from python-dateutil>=2.8.2->pandas) (1.17.0)\n"
          ]
        }
      ]
    },
    {
      "cell_type": "code",
      "source": [
        "import requests\n",
        "from bs4 import BeautifulSoup\n",
        "import pandas as pd\n",
        "\n",
        "# ScraperAPI setup\n",
        "SCRAPERAPI_KEY = \"0af76188e537118374fd0cedba951b77\"  # Replace with your API key\n",
        "url = f\"https://api.scraperapi.com?api_key={SCRAPERAPI_KEY}&url=https://www.cnbc.com/world/?region=world\"\n",
        "\n",
        "# Send request through ScraperAPI\n",
        "response = requests.get(url)\n",
        "\n",
        "# Check response\n",
        "if response.status_code == 200:\n",
        "    soup = BeautifulSoup(response.text, \"html.parser\")\n",
        "\n",
        "    # Extract headlines and links\n",
        "    articles = soup.select(\"a.Card-title\")  # CNBC article selector\n",
        "\n",
        "    news_data = []\n",
        "    for article in articles[:500]:  # Adjust limit\n",
        "        headline = article.get_text(strip=True)\n",
        "        link = article[\"href\"]\n",
        "\n",
        "        # Fix relative links\n",
        "        if not link.startswith(\"http\"):\n",
        "            link = \"https://www.cnbc.com\" + link\n",
        "\n",
        "        news_data.append({\"headline\": headline, \"link\": link, \"content\": content})\n",
        "\n",
        "    # Save data to CSV\n",
        "    df = pd.DataFrame(news_data)\n",
        "    df.to_csv(\"cnbc_news.csv\", index=False)\n",
        "\n",
        "    print(\"✅ Scraping completed! Data saved to 'cnbc_news.csv'.\")\n",
        "\n",
        "else:\n",
        "    print(f\"❌ Failed to retrieve page. Status code: {response.status_code}\")\n"
      ],
      "metadata": {
        "colab": {
          "base_uri": "https://localhost:8080/"
        },
        "collapsed": true,
        "id": "B7qqXsxfmwxf",
        "outputId": "34338d72-7df7-4afd-97e7-5452eb4d02e0"
      },
      "execution_count": 72,
      "outputs": [
        {
          "output_type": "stream",
          "name": "stdout",
          "text": [
            "✅ Scraping completed! Data saved to 'cnbc_news.csv'.\n"
          ]
        }
      ]
    },
    {
      "cell_type": "code",
      "source": [
        "df.shape"
      ],
      "metadata": {
        "colab": {
          "base_uri": "https://localhost:8080/"
        },
        "id": "WrOksQrom45D",
        "outputId": "5ff48d92-1760-46af-9c68-6e9ea88a0a53"
      },
      "execution_count": 73,
      "outputs": [
        {
          "output_type": "execute_result",
          "data": {
            "text/plain": [
              "(39, 3)"
            ]
          },
          "metadata": {},
          "execution_count": 73
        }
      ]
    },
    {
      "cell_type": "code",
      "source": [
        "try:\n",
        "    # Read the existing CSV file\n",
        "    existing_df = pd.read_csv(\"web_scraping_news_articles.csv\")\n",
        "\n",
        "    # Read the new data from reuters_news.csv\n",
        "    new_data_df = pd.read_csv(\"cnbc_news.csv\")\n",
        "\n",
        "    # Concatenate the DataFrames\n",
        "    combined_df = pd.concat([existing_df, new_data_df], ignore_index=True)\n",
        "\n",
        "    # Save the combined DataFrame back to the CSV file\n",
        "    combined_df.to_csv(\"web_scraping_news_articles.csv\", index=False)\n",
        "    print(\"Successfully added new data to web_scraping_news_articles.csv\")\n",
        "\n",
        "except FileNotFoundError:\n",
        "    print(\"Error: One or both of the CSV files not found.\")\n",
        "except Exception as e:\n",
        "    print(f\"An error occurred: {e}\")"
      ],
      "metadata": {
        "colab": {
          "base_uri": "https://localhost:8080/"
        },
        "id": "bUmZRKIInFku",
        "outputId": "84830240-55a0-4e65-b535-bde75f1caa21"
      },
      "execution_count": 7,
      "outputs": [
        {
          "output_type": "stream",
          "name": "stdout",
          "text": [
            "Successfully added new data to web_scraping_news_articles.csv\n"
          ]
        }
      ]
    },
    {
      "cell_type": "code",
      "source": [
        "combined_df.shape"
      ],
      "metadata": {
        "colab": {
          "base_uri": "https://localhost:8080/"
        },
        "id": "Kbgo-vdRnSq3",
        "outputId": "a7089353-7f21-42fe-c89c-451abaaea3e1"
      },
      "execution_count": 8,
      "outputs": [
        {
          "output_type": "execute_result",
          "data": {
            "text/plain": [
              "(515, 3)"
            ]
          },
          "metadata": {},
          "execution_count": 8
        }
      ]
    },
    {
      "cell_type": "markdown",
      "source": [
        "#Tech Crunch"
      ],
      "metadata": {
        "id": "ZD_RbpBMsZC6"
      }
    },
    {
      "cell_type": "code",
      "source": [
        "!pip install requests pandas\n",
        "\n"
      ],
      "metadata": {
        "colab": {
          "base_uri": "https://localhost:8080/"
        },
        "id": "0roAvIKFn-YS",
        "outputId": "f64a3404-c578-4c7b-e09e-0ce08366a568"
      },
      "execution_count": 17,
      "outputs": [
        {
          "output_type": "stream",
          "name": "stdout",
          "text": [
            "Requirement already satisfied: requests in /usr/local/lib/python3.11/dist-packages (2.32.3)\n",
            "Requirement already satisfied: pandas in /usr/local/lib/python3.11/dist-packages (2.2.2)\n",
            "Requirement already satisfied: charset-normalizer<4,>=2 in /usr/local/lib/python3.11/dist-packages (from requests) (3.4.1)\n",
            "Requirement already satisfied: idna<4,>=2.5 in /usr/local/lib/python3.11/dist-packages (from requests) (3.10)\n",
            "Requirement already satisfied: urllib3<3,>=1.21.1 in /usr/local/lib/python3.11/dist-packages (from requests) (1.26.20)\n",
            "Requirement already satisfied: certifi>=2017.4.17 in /usr/local/lib/python3.11/dist-packages (from requests) (2025.1.31)\n",
            "Requirement already satisfied: numpy>=1.23.2 in /usr/local/lib/python3.11/dist-packages (from pandas) (2.0.2)\n",
            "Requirement already satisfied: python-dateutil>=2.8.2 in /usr/local/lib/python3.11/dist-packages (from pandas) (2.8.2)\n",
            "Requirement already satisfied: pytz>=2020.1 in /usr/local/lib/python3.11/dist-packages (from pandas) (2025.1)\n",
            "Requirement already satisfied: tzdata>=2022.7 in /usr/local/lib/python3.11/dist-packages (from pandas) (2025.1)\n",
            "Requirement already satisfied: six>=1.5 in /usr/local/lib/python3.11/dist-packages (from python-dateutil>=2.8.2->pandas) (1.17.0)\n"
          ]
        }
      ]
    },
    {
      "cell_type": "code",
      "source": [
        "import requests\n",
        "import pandas as pd\n",
        "\n",
        "# Get your free NewsAPI key\n",
        "API_KEY = \"ade36383ae334bf0ad161f299f3c940d\"  # Replace with your key\n",
        "url = f\"https://newsapi.org/v2/top-headlines?sources=techcrunch&apiKey={API_KEY}\"\n",
        "\n",
        "response = requests.get(url)\n",
        "data = response.json()\n",
        "\n",
        "# Extract articles\n",
        "if \"articles\" in data:\n",
        "    articles = data[\"articles\"]\n",
        "    news_data = [{\"headline\": article[\"title\"], \"link\": article[\"url\"],\"content\": article[\"content\"]} for article in articles]\n",
        "\n",
        "    # Save to CSV\n",
        "    df = pd.DataFrame(news_data)\n",
        "    df.to_csv(\"techcrunch_news.csv\", index=False)\n",
        "\n",
        "    print(\"✅ Scraping completed! Data saved to 'techcrunch_news.csv'.\")\n",
        "else:\n",
        "    print(\"❌ No articles found. Check API key or rate limits.\")\n"
      ],
      "metadata": {
        "colab": {
          "base_uri": "https://localhost:8080/"
        },
        "id": "eeWqBPKqsyF4",
        "outputId": "c66c9a39-28ba-4fb0-fd01-ead6bdaea43c"
      },
      "execution_count": 20,
      "outputs": [
        {
          "output_type": "stream",
          "name": "stdout",
          "text": [
            "✅ Scraping completed! Data saved to 'techcrunch_news.csv'.\n"
          ]
        }
      ]
    },
    {
      "cell_type": "code",
      "source": [
        "df"
      ],
      "metadata": {
        "colab": {
          "base_uri": "https://localhost:8080/",
          "height": 710
        },
        "id": "0i5rXG3cEFSr",
        "outputId": "887576bc-3886-4d29-9211-92b732d19d98"
      },
      "execution_count": 21,
      "outputs": [
        {
          "output_type": "execute_result",
          "data": {
            "text/plain": [
              "                                            headline  \\\n",
              "0  Bye-bye bots: Altera's game-playing AI agents ...   \n",
              "1  $450M for Noname, two billion-dollar rounds, a...   \n",
              "2  Watch: When did iPads get as expensive as MacB...   \n",
              "3  Uber promises member exclusives as Uber One pa...   \n",
              "4  Checkfirst raises $1.5M pre-seed, applying AI ...   \n",
              "5  UK challenger bank Monzo nabs another $190M as...   \n",
              "6  iRobot names former Timex head Gary Cohen as C...   \n",
              "7  Google Deepmind debuts huge AlphaFold update a...   \n",
              "8  Mycocycle uses mushrooms to upcycle old tires ...   \n",
              "9  Controversial drone company Xtend leans into d...   \n",
              "\n",
              "                                                link  \\\n",
              "0  https://techcrunch.com/2024/05/08/bye-bye-bots...   \n",
              "1  https://techcrunch.com/2024/05/08/450m-for-non...   \n",
              "2  https://techcrunch.com/2024/05/08/techcrunch-m...   \n",
              "3  https://techcrunch.com/2024/05/08/uber-promise...   \n",
              "4  https://techcrunch.com/2024/05/08/checkfirst-r...   \n",
              "5  https://techcrunch.com/2024/05/08/uk-challenge...   \n",
              "6  https://techcrunch.com/2024/05/08/irobot-names...   \n",
              "7  https://techcrunch.com/2024/05/08/google-deepm...   \n",
              "8  https://techcrunch.com/2024/05/08/mycocycle-us...   \n",
              "9  https://techcrunch.com/2024/05/08/controversia...   \n",
              "\n",
              "                                             content  \n",
              "0  Autonomous, AI-based players are coming to a g...  \n",
              "1  Good news, crypto founders: Venture capital ac...  \n",
              "2  Apple’s iPad event had a lot to like. New iPad...  \n",
              "3  Uber plans to deliver more perks to Uber One m...  \n",
              "4  Weve all seen them. The inspector with a clipb...  \n",
              "5  Monzo has raised another £150 million ($190 mi...  \n",
              "6  iRobot Tuesday announced the successor to long...  \n",
              "7  Google Deepmind has taken the wraps off a new ...  \n",
              "8  Usually, when something starts to rot, it gets...  \n",
              "9  Close to a decade ago, brothers Aviv and Matte...  "
            ],
            "text/html": [
              "\n",
              "  <div id=\"df-460554ec-d19c-4278-9fe5-aaca332175c8\" class=\"colab-df-container\">\n",
              "    <div>\n",
              "<style scoped>\n",
              "    .dataframe tbody tr th:only-of-type {\n",
              "        vertical-align: middle;\n",
              "    }\n",
              "\n",
              "    .dataframe tbody tr th {\n",
              "        vertical-align: top;\n",
              "    }\n",
              "\n",
              "    .dataframe thead th {\n",
              "        text-align: right;\n",
              "    }\n",
              "</style>\n",
              "<table border=\"1\" class=\"dataframe\">\n",
              "  <thead>\n",
              "    <tr style=\"text-align: right;\">\n",
              "      <th></th>\n",
              "      <th>headline</th>\n",
              "      <th>link</th>\n",
              "      <th>content</th>\n",
              "    </tr>\n",
              "  </thead>\n",
              "  <tbody>\n",
              "    <tr>\n",
              "      <th>0</th>\n",
              "      <td>Bye-bye bots: Altera's game-playing AI agents ...</td>\n",
              "      <td>https://techcrunch.com/2024/05/08/bye-bye-bots...</td>\n",
              "      <td>Autonomous, AI-based players are coming to a g...</td>\n",
              "    </tr>\n",
              "    <tr>\n",
              "      <th>1</th>\n",
              "      <td>$450M for Noname, two billion-dollar rounds, a...</td>\n",
              "      <td>https://techcrunch.com/2024/05/08/450m-for-non...</td>\n",
              "      <td>Good news, crypto founders: Venture capital ac...</td>\n",
              "    </tr>\n",
              "    <tr>\n",
              "      <th>2</th>\n",
              "      <td>Watch: When did iPads get as expensive as MacB...</td>\n",
              "      <td>https://techcrunch.com/2024/05/08/techcrunch-m...</td>\n",
              "      <td>Apple’s iPad event had a lot to like. New iPad...</td>\n",
              "    </tr>\n",
              "    <tr>\n",
              "      <th>3</th>\n",
              "      <td>Uber promises member exclusives as Uber One pa...</td>\n",
              "      <td>https://techcrunch.com/2024/05/08/uber-promise...</td>\n",
              "      <td>Uber plans to deliver more perks to Uber One m...</td>\n",
              "    </tr>\n",
              "    <tr>\n",
              "      <th>4</th>\n",
              "      <td>Checkfirst raises $1.5M pre-seed, applying AI ...</td>\n",
              "      <td>https://techcrunch.com/2024/05/08/checkfirst-r...</td>\n",
              "      <td>Weve all seen them. The inspector with a clipb...</td>\n",
              "    </tr>\n",
              "    <tr>\n",
              "      <th>5</th>\n",
              "      <td>UK challenger bank Monzo nabs another $190M as...</td>\n",
              "      <td>https://techcrunch.com/2024/05/08/uk-challenge...</td>\n",
              "      <td>Monzo has raised another £150 million ($190 mi...</td>\n",
              "    </tr>\n",
              "    <tr>\n",
              "      <th>6</th>\n",
              "      <td>iRobot names former Timex head Gary Cohen as C...</td>\n",
              "      <td>https://techcrunch.com/2024/05/08/irobot-names...</td>\n",
              "      <td>iRobot Tuesday announced the successor to long...</td>\n",
              "    </tr>\n",
              "    <tr>\n",
              "      <th>7</th>\n",
              "      <td>Google Deepmind debuts huge AlphaFold update a...</td>\n",
              "      <td>https://techcrunch.com/2024/05/08/google-deepm...</td>\n",
              "      <td>Google Deepmind has taken the wraps off a new ...</td>\n",
              "    </tr>\n",
              "    <tr>\n",
              "      <th>8</th>\n",
              "      <td>Mycocycle uses mushrooms to upcycle old tires ...</td>\n",
              "      <td>https://techcrunch.com/2024/05/08/mycocycle-us...</td>\n",
              "      <td>Usually, when something starts to rot, it gets...</td>\n",
              "    </tr>\n",
              "    <tr>\n",
              "      <th>9</th>\n",
              "      <td>Controversial drone company Xtend leans into d...</td>\n",
              "      <td>https://techcrunch.com/2024/05/08/controversia...</td>\n",
              "      <td>Close to a decade ago, brothers Aviv and Matte...</td>\n",
              "    </tr>\n",
              "  </tbody>\n",
              "</table>\n",
              "</div>\n",
              "    <div class=\"colab-df-buttons\">\n",
              "\n",
              "  <div class=\"colab-df-container\">\n",
              "    <button class=\"colab-df-convert\" onclick=\"convertToInteractive('df-460554ec-d19c-4278-9fe5-aaca332175c8')\"\n",
              "            title=\"Convert this dataframe to an interactive table.\"\n",
              "            style=\"display:none;\">\n",
              "\n",
              "  <svg xmlns=\"http://www.w3.org/2000/svg\" height=\"24px\" viewBox=\"0 -960 960 960\">\n",
              "    <path d=\"M120-120v-720h720v720H120Zm60-500h600v-160H180v160Zm220 220h160v-160H400v160Zm0 220h160v-160H400v160ZM180-400h160v-160H180v160Zm440 0h160v-160H620v160ZM180-180h160v-160H180v160Zm440 0h160v-160H620v160Z\"/>\n",
              "  </svg>\n",
              "    </button>\n",
              "\n",
              "  <style>\n",
              "    .colab-df-container {\n",
              "      display:flex;\n",
              "      gap: 12px;\n",
              "    }\n",
              "\n",
              "    .colab-df-convert {\n",
              "      background-color: #E8F0FE;\n",
              "      border: none;\n",
              "      border-radius: 50%;\n",
              "      cursor: pointer;\n",
              "      display: none;\n",
              "      fill: #1967D2;\n",
              "      height: 32px;\n",
              "      padding: 0 0 0 0;\n",
              "      width: 32px;\n",
              "    }\n",
              "\n",
              "    .colab-df-convert:hover {\n",
              "      background-color: #E2EBFA;\n",
              "      box-shadow: 0px 1px 2px rgba(60, 64, 67, 0.3), 0px 1px 3px 1px rgba(60, 64, 67, 0.15);\n",
              "      fill: #174EA6;\n",
              "    }\n",
              "\n",
              "    .colab-df-buttons div {\n",
              "      margin-bottom: 4px;\n",
              "    }\n",
              "\n",
              "    [theme=dark] .colab-df-convert {\n",
              "      background-color: #3B4455;\n",
              "      fill: #D2E3FC;\n",
              "    }\n",
              "\n",
              "    [theme=dark] .colab-df-convert:hover {\n",
              "      background-color: #434B5C;\n",
              "      box-shadow: 0px 1px 3px 1px rgba(0, 0, 0, 0.15);\n",
              "      filter: drop-shadow(0px 1px 2px rgba(0, 0, 0, 0.3));\n",
              "      fill: #FFFFFF;\n",
              "    }\n",
              "  </style>\n",
              "\n",
              "    <script>\n",
              "      const buttonEl =\n",
              "        document.querySelector('#df-460554ec-d19c-4278-9fe5-aaca332175c8 button.colab-df-convert');\n",
              "      buttonEl.style.display =\n",
              "        google.colab.kernel.accessAllowed ? 'block' : 'none';\n",
              "\n",
              "      async function convertToInteractive(key) {\n",
              "        const element = document.querySelector('#df-460554ec-d19c-4278-9fe5-aaca332175c8');\n",
              "        const dataTable =\n",
              "          await google.colab.kernel.invokeFunction('convertToInteractive',\n",
              "                                                    [key], {});\n",
              "        if (!dataTable) return;\n",
              "\n",
              "        const docLinkHtml = 'Like what you see? Visit the ' +\n",
              "          '<a target=\"_blank\" href=https://colab.research.google.com/notebooks/data_table.ipynb>data table notebook</a>'\n",
              "          + ' to learn more about interactive tables.';\n",
              "        element.innerHTML = '';\n",
              "        dataTable['output_type'] = 'display_data';\n",
              "        await google.colab.output.renderOutput(dataTable, element);\n",
              "        const docLink = document.createElement('div');\n",
              "        docLink.innerHTML = docLinkHtml;\n",
              "        element.appendChild(docLink);\n",
              "      }\n",
              "    </script>\n",
              "  </div>\n",
              "\n",
              "\n",
              "<div id=\"df-a769dedb-e7e3-45c3-913e-0d283bfbd235\">\n",
              "  <button class=\"colab-df-quickchart\" onclick=\"quickchart('df-a769dedb-e7e3-45c3-913e-0d283bfbd235')\"\n",
              "            title=\"Suggest charts\"\n",
              "            style=\"display:none;\">\n",
              "\n",
              "<svg xmlns=\"http://www.w3.org/2000/svg\" height=\"24px\"viewBox=\"0 0 24 24\"\n",
              "     width=\"24px\">\n",
              "    <g>\n",
              "        <path d=\"M19 3H5c-1.1 0-2 .9-2 2v14c0 1.1.9 2 2 2h14c1.1 0 2-.9 2-2V5c0-1.1-.9-2-2-2zM9 17H7v-7h2v7zm4 0h-2V7h2v10zm4 0h-2v-4h2v4z\"/>\n",
              "    </g>\n",
              "</svg>\n",
              "  </button>\n",
              "\n",
              "<style>\n",
              "  .colab-df-quickchart {\n",
              "      --bg-color: #E8F0FE;\n",
              "      --fill-color: #1967D2;\n",
              "      --hover-bg-color: #E2EBFA;\n",
              "      --hover-fill-color: #174EA6;\n",
              "      --disabled-fill-color: #AAA;\n",
              "      --disabled-bg-color: #DDD;\n",
              "  }\n",
              "\n",
              "  [theme=dark] .colab-df-quickchart {\n",
              "      --bg-color: #3B4455;\n",
              "      --fill-color: #D2E3FC;\n",
              "      --hover-bg-color: #434B5C;\n",
              "      --hover-fill-color: #FFFFFF;\n",
              "      --disabled-bg-color: #3B4455;\n",
              "      --disabled-fill-color: #666;\n",
              "  }\n",
              "\n",
              "  .colab-df-quickchart {\n",
              "    background-color: var(--bg-color);\n",
              "    border: none;\n",
              "    border-radius: 50%;\n",
              "    cursor: pointer;\n",
              "    display: none;\n",
              "    fill: var(--fill-color);\n",
              "    height: 32px;\n",
              "    padding: 0;\n",
              "    width: 32px;\n",
              "  }\n",
              "\n",
              "  .colab-df-quickchart:hover {\n",
              "    background-color: var(--hover-bg-color);\n",
              "    box-shadow: 0 1px 2px rgba(60, 64, 67, 0.3), 0 1px 3px 1px rgba(60, 64, 67, 0.15);\n",
              "    fill: var(--button-hover-fill-color);\n",
              "  }\n",
              "\n",
              "  .colab-df-quickchart-complete:disabled,\n",
              "  .colab-df-quickchart-complete:disabled:hover {\n",
              "    background-color: var(--disabled-bg-color);\n",
              "    fill: var(--disabled-fill-color);\n",
              "    box-shadow: none;\n",
              "  }\n",
              "\n",
              "  .colab-df-spinner {\n",
              "    border: 2px solid var(--fill-color);\n",
              "    border-color: transparent;\n",
              "    border-bottom-color: var(--fill-color);\n",
              "    animation:\n",
              "      spin 1s steps(1) infinite;\n",
              "  }\n",
              "\n",
              "  @keyframes spin {\n",
              "    0% {\n",
              "      border-color: transparent;\n",
              "      border-bottom-color: var(--fill-color);\n",
              "      border-left-color: var(--fill-color);\n",
              "    }\n",
              "    20% {\n",
              "      border-color: transparent;\n",
              "      border-left-color: var(--fill-color);\n",
              "      border-top-color: var(--fill-color);\n",
              "    }\n",
              "    30% {\n",
              "      border-color: transparent;\n",
              "      border-left-color: var(--fill-color);\n",
              "      border-top-color: var(--fill-color);\n",
              "      border-right-color: var(--fill-color);\n",
              "    }\n",
              "    40% {\n",
              "      border-color: transparent;\n",
              "      border-right-color: var(--fill-color);\n",
              "      border-top-color: var(--fill-color);\n",
              "    }\n",
              "    60% {\n",
              "      border-color: transparent;\n",
              "      border-right-color: var(--fill-color);\n",
              "    }\n",
              "    80% {\n",
              "      border-color: transparent;\n",
              "      border-right-color: var(--fill-color);\n",
              "      border-bottom-color: var(--fill-color);\n",
              "    }\n",
              "    90% {\n",
              "      border-color: transparent;\n",
              "      border-bottom-color: var(--fill-color);\n",
              "    }\n",
              "  }\n",
              "</style>\n",
              "\n",
              "  <script>\n",
              "    async function quickchart(key) {\n",
              "      const quickchartButtonEl =\n",
              "        document.querySelector('#' + key + ' button');\n",
              "      quickchartButtonEl.disabled = true;  // To prevent multiple clicks.\n",
              "      quickchartButtonEl.classList.add('colab-df-spinner');\n",
              "      try {\n",
              "        const charts = await google.colab.kernel.invokeFunction(\n",
              "            'suggestCharts', [key], {});\n",
              "      } catch (error) {\n",
              "        console.error('Error during call to suggestCharts:', error);\n",
              "      }\n",
              "      quickchartButtonEl.classList.remove('colab-df-spinner');\n",
              "      quickchartButtonEl.classList.add('colab-df-quickchart-complete');\n",
              "    }\n",
              "    (() => {\n",
              "      let quickchartButtonEl =\n",
              "        document.querySelector('#df-a769dedb-e7e3-45c3-913e-0d283bfbd235 button');\n",
              "      quickchartButtonEl.style.display =\n",
              "        google.colab.kernel.accessAllowed ? 'block' : 'none';\n",
              "    })();\n",
              "  </script>\n",
              "</div>\n",
              "\n",
              "  <div id=\"id_d47e1abf-3586-4e7e-a39e-6ea7ae3692e2\">\n",
              "    <style>\n",
              "      .colab-df-generate {\n",
              "        background-color: #E8F0FE;\n",
              "        border: none;\n",
              "        border-radius: 50%;\n",
              "        cursor: pointer;\n",
              "        display: none;\n",
              "        fill: #1967D2;\n",
              "        height: 32px;\n",
              "        padding: 0 0 0 0;\n",
              "        width: 32px;\n",
              "      }\n",
              "\n",
              "      .colab-df-generate:hover {\n",
              "        background-color: #E2EBFA;\n",
              "        box-shadow: 0px 1px 2px rgba(60, 64, 67, 0.3), 0px 1px 3px 1px rgba(60, 64, 67, 0.15);\n",
              "        fill: #174EA6;\n",
              "      }\n",
              "\n",
              "      [theme=dark] .colab-df-generate {\n",
              "        background-color: #3B4455;\n",
              "        fill: #D2E3FC;\n",
              "      }\n",
              "\n",
              "      [theme=dark] .colab-df-generate:hover {\n",
              "        background-color: #434B5C;\n",
              "        box-shadow: 0px 1px 3px 1px rgba(0, 0, 0, 0.15);\n",
              "        filter: drop-shadow(0px 1px 2px rgba(0, 0, 0, 0.3));\n",
              "        fill: #FFFFFF;\n",
              "      }\n",
              "    </style>\n",
              "    <button class=\"colab-df-generate\" onclick=\"generateWithVariable('df')\"\n",
              "            title=\"Generate code using this dataframe.\"\n",
              "            style=\"display:none;\">\n",
              "\n",
              "  <svg xmlns=\"http://www.w3.org/2000/svg\" height=\"24px\"viewBox=\"0 0 24 24\"\n",
              "       width=\"24px\">\n",
              "    <path d=\"M7,19H8.4L18.45,9,17,7.55,7,17.6ZM5,21V16.75L18.45,3.32a2,2,0,0,1,2.83,0l1.4,1.43a1.91,1.91,0,0,1,.58,1.4,1.91,1.91,0,0,1-.58,1.4L9.25,21ZM18.45,9,17,7.55Zm-12,3A5.31,5.31,0,0,0,4.9,8.1,5.31,5.31,0,0,0,1,6.5,5.31,5.31,0,0,0,4.9,4.9,5.31,5.31,0,0,0,6.5,1,5.31,5.31,0,0,0,8.1,4.9,5.31,5.31,0,0,0,12,6.5,5.46,5.46,0,0,0,6.5,12Z\"/>\n",
              "  </svg>\n",
              "    </button>\n",
              "    <script>\n",
              "      (() => {\n",
              "      const buttonEl =\n",
              "        document.querySelector('#id_d47e1abf-3586-4e7e-a39e-6ea7ae3692e2 button.colab-df-generate');\n",
              "      buttonEl.style.display =\n",
              "        google.colab.kernel.accessAllowed ? 'block' : 'none';\n",
              "\n",
              "      buttonEl.onclick = () => {\n",
              "        google.colab.notebook.generateWithVariable('df');\n",
              "      }\n",
              "      })();\n",
              "    </script>\n",
              "  </div>\n",
              "\n",
              "    </div>\n",
              "  </div>\n"
            ],
            "application/vnd.google.colaboratory.intrinsic+json": {
              "type": "dataframe",
              "variable_name": "df",
              "summary": "{\n  \"name\": \"df\",\n  \"rows\": 10,\n  \"fields\": [\n    {\n      \"column\": \"headline\",\n      \"properties\": {\n        \"dtype\": \"string\",\n        \"num_unique_values\": 10,\n        \"samples\": [\n          \"Mycocycle uses mushrooms to upcycle old tires and construction waste | TechCrunch\",\n          \"$450M for Noname, two billion-dollar rounds, and good news for crypto startups | TechCrunch\",\n          \"UK challenger bank Monzo nabs another $190M as US expansion beckons | TechCrunch\"\n        ],\n        \"semantic_type\": \"\",\n        \"description\": \"\"\n      }\n    },\n    {\n      \"column\": \"link\",\n      \"properties\": {\n        \"dtype\": \"string\",\n        \"num_unique_values\": 10,\n        \"samples\": [\n          \"https://techcrunch.com/2024/05/08/mycocycle-uses-mushrooms-to-upcycle-old-tires-and-construction-waste/\",\n          \"https://techcrunch.com/2024/05/08/450m-for-noname-two-billion-dollar-rounds-and-good-news-for-crypto-startups/\",\n          \"https://techcrunch.com/2024/05/08/uk-challenger-bank-monzo-nabs-another-190m-at-5-2b-valuation/\"\n        ],\n        \"semantic_type\": \"\",\n        \"description\": \"\"\n      }\n    },\n    {\n      \"column\": \"content\",\n      \"properties\": {\n        \"dtype\": \"string\",\n        \"num_unique_values\": 10,\n        \"samples\": [\n          \"Usually, when something starts to rot, it gets pitched in the trash. But Joanne Rodriguez wants to turn the concept of rot on its head by growing fungus on trash to turn it into something better.\\r\\nWe\\u2026 [+4229 chars]\",\n          \"Good news, crypto founders: Venture capital activity is picking up in your sector after falling to multi-year lows in late 2023. Put another way, venture folks appear more web3-bullish than before, e\\u2026 [+1599 chars]\",\n          \"Monzo has raised another \\u00a3150 million ($190 million), as the challenger bank looks to expand its presence internationally particularly in the U.S.\\r\\nThe new round comes just two months after Monzo rai\\u2026 [+1960 chars]\"\n        ],\n        \"semantic_type\": \"\",\n        \"description\": \"\"\n      }\n    }\n  ]\n}"
            }
          },
          "metadata": {},
          "execution_count": 21
        }
      ]
    },
    {
      "cell_type": "code",
      "source": [
        "try:\n",
        "    # Read the existing CSV file\n",
        "    existing_df = pd.read_csv(\"web_scraping_news_articles.csv\")\n",
        "\n",
        "    # Read the new data from reuters_news.csv\n",
        "    new_data_df = pd.read_csv(\"techcrunch_news.csv\")\n",
        "\n",
        "    # Concatenate the DataFrames\n",
        "    combined_df = pd.concat([existing_df, new_data_df], ignore_index=True)\n",
        "\n",
        "    # Save the combined DataFrame back to the CSV file\n",
        "    combined_df.to_csv(\"web_scraping_news_articles.csv\", index=False)\n",
        "    print(\"Successfully added new data to web_scraping_news_articles.csv\")\n",
        "\n",
        "except FileNotFoundError:\n",
        "    print(\"Error: One or both of the CSV files not found.\")\n",
        "except Exception as e:\n",
        "    print(f\"An error occurred: {e}\")"
      ],
      "metadata": {
        "colab": {
          "base_uri": "https://localhost:8080/"
        },
        "id": "8htfQGWrEHL5",
        "outputId": "b661762f-82d9-4908-a760-e08cfbd75611"
      },
      "execution_count": 22,
      "outputs": [
        {
          "output_type": "stream",
          "name": "stdout",
          "text": [
            "Successfully added new data to web_scraping_news_articles.csv\n"
          ]
        }
      ]
    },
    {
      "cell_type": "code",
      "source": [
        "combined_df.shape"
      ],
      "metadata": {
        "colab": {
          "base_uri": "https://localhost:8080/"
        },
        "id": "tq2VlhVtEbUc",
        "outputId": "8d4db5e1-1d10-4f10-df15-47d1479dc1bc"
      },
      "execution_count": 23,
      "outputs": [
        {
          "output_type": "execute_result",
          "data": {
            "text/plain": [
              "(525, 3)"
            ]
          },
          "metadata": {},
          "execution_count": 23
        }
      ]
    },
    {
      "cell_type": "markdown",
      "source": [
        "#Bloomberg"
      ],
      "metadata": {
        "id": "Fprf0gJWErld"
      }
    },
    {
      "cell_type": "code",
      "source": [
        "import requests\n",
        "import pandas as pd\n",
        "\n",
        "# Get your free NewsAPI key\n",
        "API_KEY = \"ade36383ae334bf0ad161f299f3c940d\"  # Replace with your key\n",
        "url = f\"https://newsapi.org/v2/top-headlines?sources=bloomberg&apiKey={API_KEY}\"\n",
        "\n",
        "response = requests.get(url)\n",
        "data = response.json()\n",
        "\n",
        "# Extract articles\n",
        "if \"articles\" in data:\n",
        "    articles = data[\"articles\"]\n",
        "    news_data = [\n",
        "        {\n",
        "            \"headline\": article[\"title\"],\n",
        "            \"content\": article[\"content\"],  # Add full content\n",
        "            \"link\": article[\"url\"]\n",
        "        }\n",
        "        for article in articles\n",
        "    ]\n",
        "\n",
        "    # Save to CSV\n",
        "    df = pd.DataFrame(news_data)\n",
        "    df.to_csv(\"bloomberg_news.csv\", index=False)\n",
        "\n",
        "    print(\"✅ Scraping completed! Data saved to 'bloomberg_news.csv'.\")\n",
        "else:\n",
        "    print(\"❌ No articles found. Check API key or rate limits.\")\n"
      ],
      "metadata": {
        "colab": {
          "base_uri": "https://localhost:8080/"
        },
        "id": "VEGeS7e3EdTL",
        "outputId": "1aaaa8fc-7b0d-465a-dbef-ca481dbfffb7"
      },
      "execution_count": 24,
      "outputs": [
        {
          "output_type": "stream",
          "name": "stdout",
          "text": [
            "✅ Scraping completed! Data saved to 'bloomberg_news.csv'.\n"
          ]
        }
      ]
    },
    {
      "cell_type": "code",
      "source": [
        "df.shape"
      ],
      "metadata": {
        "colab": {
          "base_uri": "https://localhost:8080/"
        },
        "id": "oH3RJXOsE5Uk",
        "outputId": "64f06769-1f89-4abc-e28a-054687d79495"
      },
      "execution_count": 25,
      "outputs": [
        {
          "output_type": "execute_result",
          "data": {
            "text/plain": [
              "(10, 3)"
            ]
          },
          "metadata": {},
          "execution_count": 25
        }
      ]
    },
    {
      "cell_type": "code",
      "source": [
        "try:\n",
        "    # Read the existing CSV file\n",
        "    existing_df = pd.read_csv(\"web_scraping_news_articles.csv\")\n",
        "\n",
        "    # Read the new data from reuters_news.csv\n",
        "    new_data_df = pd.read_csv(\"bloomberg_news.csv\")\n",
        "\n",
        "    # Concatenate the DataFrames\n",
        "    combined_df = pd.concat([existing_df, new_data_df], ignore_index=True)\n",
        "\n",
        "    # Save the combined DataFrame back to the CSV file\n",
        "    combined_df.to_csv(\"web_scraping_news_articles.csv\", index=False)\n",
        "    print(\"Successfully added new data to web_scraping_news_articles.csv\")\n",
        "\n",
        "except FileNotFoundError:\n",
        "    print(\"Error: One or both of the CSV files not found.\")\n",
        "except Exception as e:\n",
        "    print(f\"An error occurred: {e}\")"
      ],
      "metadata": {
        "colab": {
          "base_uri": "https://localhost:8080/"
        },
        "id": "EoPO2323E65h",
        "outputId": "b08ddaeb-4164-430d-cc70-7ebfb7a50950"
      },
      "execution_count": 26,
      "outputs": [
        {
          "output_type": "stream",
          "name": "stdout",
          "text": [
            "Successfully added new data to web_scraping_news_articles.csv\n"
          ]
        }
      ]
    },
    {
      "cell_type": "code",
      "source": [
        "combined_df.shape"
      ],
      "metadata": {
        "colab": {
          "base_uri": "https://localhost:8080/"
        },
        "id": "fFmhSCKTFBn_",
        "outputId": "65b14a1b-b6e4-4fa4-dc06-481769a78988"
      },
      "execution_count": 27,
      "outputs": [
        {
          "output_type": "execute_result",
          "data": {
            "text/plain": [
              "(535, 3)"
            ]
          },
          "metadata": {},
          "execution_count": 27
        }
      ]
    },
    {
      "cell_type": "markdown",
      "source": [
        "#Forbes"
      ],
      "metadata": {
        "id": "CcoVApr6FPnF"
      }
    },
    {
      "cell_type": "code",
      "source": [
        "!pip install feedparser pandas\n"
      ],
      "metadata": {
        "colab": {
          "base_uri": "https://localhost:8080/"
        },
        "id": "C2T2lNdIFrp_",
        "outputId": "af75e13c-f938-4bcc-cef5-1d77df9e7a83"
      },
      "execution_count": 30,
      "outputs": [
        {
          "output_type": "stream",
          "name": "stdout",
          "text": [
            "Collecting feedparser\n",
            "  Downloading feedparser-6.0.11-py3-none-any.whl.metadata (2.4 kB)\n",
            "Requirement already satisfied: pandas in /usr/local/lib/python3.11/dist-packages (2.2.2)\n",
            "Collecting sgmllib3k (from feedparser)\n",
            "  Downloading sgmllib3k-1.0.0.tar.gz (5.8 kB)\n",
            "  Preparing metadata (setup.py) ... \u001b[?25l\u001b[?25hdone\n",
            "Requirement already satisfied: numpy>=1.23.2 in /usr/local/lib/python3.11/dist-packages (from pandas) (2.0.2)\n",
            "Requirement already satisfied: python-dateutil>=2.8.2 in /usr/local/lib/python3.11/dist-packages (from pandas) (2.8.2)\n",
            "Requirement already satisfied: pytz>=2020.1 in /usr/local/lib/python3.11/dist-packages (from pandas) (2025.1)\n",
            "Requirement already satisfied: tzdata>=2022.7 in /usr/local/lib/python3.11/dist-packages (from pandas) (2025.1)\n",
            "Requirement already satisfied: six>=1.5 in /usr/local/lib/python3.11/dist-packages (from python-dateutil>=2.8.2->pandas) (1.17.0)\n",
            "Downloading feedparser-6.0.11-py3-none-any.whl (81 kB)\n",
            "\u001b[2K   \u001b[90m━━━━━━━━━━━━━━━━━━━━━━━━━━━━━━━━━━━━━━━━\u001b[0m \u001b[32m81.3/81.3 kB\u001b[0m \u001b[31m3.1 MB/s\u001b[0m eta \u001b[36m0:00:00\u001b[0m\n",
            "\u001b[?25hBuilding wheels for collected packages: sgmllib3k\n",
            "  Building wheel for sgmllib3k (setup.py) ... \u001b[?25l\u001b[?25hdone\n",
            "  Created wheel for sgmllib3k: filename=sgmllib3k-1.0.0-py3-none-any.whl size=6047 sha256=c59c9d775fa15a7d0d1dafaf1b4626418c8c160acd30f351849de8cd34992efc\n",
            "  Stored in directory: /root/.cache/pip/wheels/3b/25/2a/105d6a15df6914f4d15047691c6c28f9052cc1173e40285d03\n",
            "Successfully built sgmllib3k\n",
            "Installing collected packages: sgmllib3k, feedparser\n",
            "Successfully installed feedparser-6.0.11 sgmllib3k-1.0.0\n"
          ]
        }
      ]
    },
    {
      "cell_type": "code",
      "source": [
        "import feedparser\n",
        "import pandas as pd\n",
        "\n",
        "# Forbes RSS Feed URL\n",
        "rss_url = \"https://www.forbes.com/investing/feed/\"\n",
        "\n",
        "# Parse the RSS feed\n",
        "feed = feedparser.parse(rss_url)\n",
        "\n",
        "# Extract headlines, content snippets, and links\n",
        "news_data = [\n",
        "    {\n",
        "        \"headline\": entry.title,\n",
        "\n",
        "        \"link\": entry.link,\n",
        "        \"content\": entry.summary\n",
        "    }\n",
        "    for entry in feed.entries\n",
        "]\n",
        "\n",
        "# Save to CSV\n",
        "df = pd.DataFrame(news_data)\n",
        "df.to_csv(\"forbes_news.csv\", index=False)\n",
        "\n",
        "print(\"✅ Scraping completed! Data saved to 'forbes_news.csv'.\")\n"
      ],
      "metadata": {
        "colab": {
          "base_uri": "https://localhost:8080/"
        },
        "id": "6Ka7hXxkFesv",
        "outputId": "65e21017-a3e3-4f4d-d07c-a6d6da000eaa"
      },
      "execution_count": 31,
      "outputs": [
        {
          "output_type": "stream",
          "name": "stdout",
          "text": [
            "✅ Scraping completed! Data saved to 'forbes_news.csv'.\n"
          ]
        }
      ]
    },
    {
      "cell_type": "code",
      "source": [
        "df.shape"
      ],
      "metadata": {
        "colab": {
          "base_uri": "https://localhost:8080/"
        },
        "id": "WCdOCackF3uc",
        "outputId": "f03b836d-9ba3-469b-aa0f-d0bc3a5ae304"
      },
      "execution_count": 32,
      "outputs": [
        {
          "output_type": "execute_result",
          "data": {
            "text/plain": [
              "(0, 0)"
            ]
          },
          "metadata": {},
          "execution_count": 32
        }
      ]
    },
    {
      "cell_type": "code",
      "source": [
        "import feedparser\n",
        "import pandas as pd\n",
        "\n",
        "# Try different RSS feeds\n",
        "rss_feeds = [\n",
        "    \"https://www.forbes.com/investing/feed/\",  # Investing News\n",
        "    \"https://www.forbes.com/innovation/feed/\",  # Innovation News\n",
        "    \"https://www.forbes.com/entrepreneurs/feed/\"  # Entrepreneurship News\n",
        "]\n",
        "\n",
        "news_data = []\n",
        "\n",
        "for rss_url in rss_feeds:\n",
        "    # Parse the RSS feed\n",
        "    feed = feedparser.parse(rss_url)\n",
        "\n",
        "    # Check if feed contains entries\n",
        "    if len(feed.entries) == 0:\n",
        "        print(f\"❌ No articles found for {rss_url}\")\n",
        "        continue\n",
        "\n",
        "    # Extract headlines, content snippets, and links\n",
        "    for entry in feed.entries:\n",
        "        news_data.append({\n",
        "            \"headline\": entry.title,\n",
        "            \"content\": entry.summary,  # Forbes only provides short content in RSS\n",
        "            \"link\": entry.link\n",
        "        })\n",
        "\n",
        "# Convert to DataFrame & Save\n",
        "if news_data:\n",
        "    df = pd.DataFrame(news_data)\n",
        "    df.to_csv(\"forbes_news.csv\", index=False)\n",
        "    print(\"✅ Scraping completed! Data saved to 'forbes_news.csv'.\")\n",
        "else:\n",
        "    print(\"❌ No articles found. Forbes may have blocked RSS feeds.\")\n"
      ],
      "metadata": {
        "colab": {
          "base_uri": "https://localhost:8080/"
        },
        "id": "56Ige_CsF4X8",
        "outputId": "ac836bba-a6ff-4d19-ac87-8e81771b655a"
      },
      "execution_count": 33,
      "outputs": [
        {
          "output_type": "stream",
          "name": "stdout",
          "text": [
            "❌ No articles found for https://www.forbes.com/investing/feed/\n",
            "❌ No articles found for https://www.forbes.com/entrepreneurs/feed/\n",
            "✅ Scraping completed! Data saved to 'forbes_news.csv'.\n"
          ]
        }
      ]
    },
    {
      "cell_type": "code",
      "source": [
        "df.shape"
      ],
      "metadata": {
        "colab": {
          "base_uri": "https://localhost:8080/"
        },
        "id": "SgNczpUEGGBn",
        "outputId": "fb5fbb82-23d3-490f-cd80-8813eea51772"
      },
      "execution_count": 34,
      "outputs": [
        {
          "output_type": "execute_result",
          "data": {
            "text/plain": [
              "(25, 3)"
            ]
          },
          "metadata": {},
          "execution_count": 34
        }
      ]
    },
    {
      "cell_type": "code",
      "source": [
        "try:\n",
        "    # Read the existing CSV file\n",
        "    existing_df = pd.read_csv(\"web_scraping_news_articles.csv\")\n",
        "\n",
        "    # Read the new data from reuters_news.csv\n",
        "    new_data_df = pd.read_csv(\"forbes_news.csv\")\n",
        "\n",
        "    # Concatenate the DataFrames\n",
        "    combined_df = pd.concat([existing_df, new_data_df], ignore_index=True)\n",
        "\n",
        "    # Save the combined DataFrame back to the CSV file\n",
        "    combined_df.to_csv(\"web_scraping_news_articles.csv\", index=False)\n",
        "    print(\"Successfully added new data to web_scraping_news_articles.csv\")\n",
        "\n",
        "except FileNotFoundError:\n",
        "    print(\"Error: One or both of the CSV files not found.\")\n",
        "except Exception as e:\n",
        "    print(f\"An error occurred: {e}\")"
      ],
      "metadata": {
        "colab": {
          "base_uri": "https://localhost:8080/"
        },
        "id": "T6DU9q4fGKcJ",
        "outputId": "9bbf1cba-010a-40c8-dae8-aab40191aa65"
      },
      "execution_count": 35,
      "outputs": [
        {
          "output_type": "stream",
          "name": "stdout",
          "text": [
            "Successfully added new data to web_scraping_news_articles.csv\n"
          ]
        }
      ]
    },
    {
      "cell_type": "code",
      "source": [
        "combined_df.shape"
      ],
      "metadata": {
        "colab": {
          "base_uri": "https://localhost:8080/"
        },
        "id": "hxgAYLPBGRkg",
        "outputId": "bd3130c2-9137-40c7-b8d2-486f67740f05"
      },
      "execution_count": 36,
      "outputs": [
        {
          "output_type": "execute_result",
          "data": {
            "text/plain": [
              "(560, 3)"
            ]
          },
          "metadata": {},
          "execution_count": 36
        }
      ]
    },
    {
      "cell_type": "markdown",
      "source": [
        "#The Verge"
      ],
      "metadata": {
        "id": "bFRfO-TJG3ug"
      }
    },
    {
      "cell_type": "code",
      "source": [
        "!pip install feedparser pandas\n"
      ],
      "metadata": {
        "colab": {
          "base_uri": "https://localhost:8080/"
        },
        "id": "6EYLUOUyGkQz",
        "outputId": "d43ac371-efee-4ab0-f5b0-ab741afbf347"
      },
      "execution_count": 38,
      "outputs": [
        {
          "output_type": "stream",
          "name": "stdout",
          "text": [
            "Requirement already satisfied: feedparser in /usr/local/lib/python3.11/dist-packages (6.0.11)\n",
            "Requirement already satisfied: pandas in /usr/local/lib/python3.11/dist-packages (2.2.2)\n",
            "Requirement already satisfied: sgmllib3k in /usr/local/lib/python3.11/dist-packages (from feedparser) (1.0.0)\n",
            "Requirement already satisfied: numpy>=1.23.2 in /usr/local/lib/python3.11/dist-packages (from pandas) (2.0.2)\n",
            "Requirement already satisfied: python-dateutil>=2.8.2 in /usr/local/lib/python3.11/dist-packages (from pandas) (2.8.2)\n",
            "Requirement already satisfied: pytz>=2020.1 in /usr/local/lib/python3.11/dist-packages (from pandas) (2025.1)\n",
            "Requirement already satisfied: tzdata>=2022.7 in /usr/local/lib/python3.11/dist-packages (from pandas) (2025.1)\n",
            "Requirement already satisfied: six>=1.5 in /usr/local/lib/python3.11/dist-packages (from python-dateutil>=2.8.2->pandas) (1.17.0)\n"
          ]
        }
      ]
    },
    {
      "cell_type": "code",
      "source": [
        "import feedparser\n",
        "import pandas as pd\n",
        "\n",
        "# List of The Verge RSS feeds\n",
        "rss_feeds = [\n",
        "    \"https://www.theverge.com/rss/index.xml\",  # Homepage\n",
        "    \"https://www.theverge.com/tech/rss/index.xml\",  # Tech\n",
        "    \"https://www.theverge.com/mobile/rss/index.xml\",  # Mobile\n",
        "    \"https://www.theverge.com/games/rss/index.xml\",  # Gaming\n",
        "    \"https://www.theverge.com/entertainment/rss/index.xml\",  # Entertainment\n",
        "]\n",
        "\n",
        "news_data = []\n",
        "\n",
        "for rss_url in rss_feeds:\n",
        "    feed = feedparser.parse(rss_url)\n",
        "\n",
        "    if not feed.entries:\n",
        "        print(f\"❌ No articles found for {rss_url}\")\n",
        "        continue\n",
        "\n",
        "    # Extract headlines, summaries, and links\n",
        "    for entry in feed.entries:\n",
        "        news_data.append({\n",
        "            \"headline\": entry.title,\n",
        "            \"content\": entry.summary,  # The Verge RSS only provides summaries\n",
        "            \"link\": entry.link\n",
        "        })\n",
        "\n",
        "# Save to CSV\n",
        "if news_data:\n",
        "    df = pd.DataFrame(news_data)\n",
        "    df.to_csv(\"theverge_news.csv\", index=False)\n",
        "    print(\"✅ Scraping completed! Data saved to 'theverge_news.csv'.\")\n",
        "else:\n",
        "    print(\"❌ No articles found. The Verge may have blocked RSS feeds.\")\n"
      ],
      "metadata": {
        "colab": {
          "base_uri": "https://localhost:8080/"
        },
        "id": "dMPDE31YG_O0",
        "outputId": "66df316b-eade-43d8-d2d2-85ee39390a4b"
      },
      "execution_count": 39,
      "outputs": [
        {
          "output_type": "stream",
          "name": "stdout",
          "text": [
            "❌ No articles found for https://www.theverge.com/tech/rss/index.xml\n",
            "❌ No articles found for https://www.theverge.com/mobile/rss/index.xml\n",
            "❌ No articles found for https://www.theverge.com/games/rss/index.xml\n",
            "❌ No articles found for https://www.theverge.com/entertainment/rss/index.xml\n",
            "✅ Scraping completed! Data saved to 'theverge_news.csv'.\n"
          ]
        }
      ]
    },
    {
      "cell_type": "code",
      "source": [
        "df.shape"
      ],
      "metadata": {
        "colab": {
          "base_uri": "https://localhost:8080/"
        },
        "id": "FIEMptnXHBtN",
        "outputId": "e18231da-a84e-4285-e261-9c6917ec6a9c"
      },
      "execution_count": 40,
      "outputs": [
        {
          "output_type": "execute_result",
          "data": {
            "text/plain": [
              "(10, 3)"
            ]
          },
          "metadata": {},
          "execution_count": 40
        }
      ]
    },
    {
      "cell_type": "code",
      "source": [
        "try:\n",
        "    # Read the existing CSV file\n",
        "    existing_df = pd.read_csv(\"web_scraping_news_articles.csv\")\n",
        "\n",
        "    # Read the new data from reuters_news.csv\n",
        "    new_data_df = pd.read_csv(\"theverge_news.csv\")\n",
        "\n",
        "    # Concatenate the DataFrames\n",
        "    combined_df = pd.concat([existing_df, new_data_df], ignore_index=True)\n",
        "\n",
        "    # Save the combined DataFrame back to the CSV file\n",
        "    combined_df.to_csv(\"web_scraping_news_articles.csv\", index=False)\n",
        "    print(\"Successfully added new data to web_scraping_news_articles.csv\")\n",
        "\n",
        "except FileNotFoundError:\n",
        "    print(\"Error: One or both of the CSV files not found.\")\n",
        "except Exception as e:\n",
        "    print(f\"An error occurred: {e}\")"
      ],
      "metadata": {
        "colab": {
          "base_uri": "https://localhost:8080/"
        },
        "id": "-bLH9xnVHGep",
        "outputId": "e1df41ba-e15e-49d7-b990-dcf5da60a4af"
      },
      "execution_count": 41,
      "outputs": [
        {
          "output_type": "stream",
          "name": "stdout",
          "text": [
            "Successfully added new data to web_scraping_news_articles.csv\n"
          ]
        }
      ]
    },
    {
      "cell_type": "code",
      "source": [
        "combined_df.shape"
      ],
      "metadata": {
        "colab": {
          "base_uri": "https://localhost:8080/"
        },
        "id": "C2rFR60WHK1N",
        "outputId": "692177f8-5b54-4ae5-e19c-0a3f7a92d147"
      },
      "execution_count": 42,
      "outputs": [
        {
          "output_type": "execute_result",
          "data": {
            "text/plain": [
              "(570, 3)"
            ]
          },
          "metadata": {},
          "execution_count": 42
        }
      ]
    },
    {
      "cell_type": "markdown",
      "source": [
        "#The New York Times"
      ],
      "metadata": {
        "id": "YoOKwmvDHvv3"
      }
    },
    {
      "cell_type": "code",
      "source": [
        "import feedparser\n",
        "import pandas as pd\n",
        "\n",
        "# List of NYT RSS feeds\n",
        "rss_feeds = [\n",
        "    \"https://rss.nytimes.com/services/xml/rss/nyt/World.xml\",  # World News\n",
        "    \"https://rss.nytimes.com/services/xml/rss/nyt/US.xml\",  # US News\n",
        "    \"https://rss.nytimes.com/services/xml/rss/nyt/HomePage.xml\",  # Top Stories\n",
        "    \"https://rss.nytimes.com/services/xml/rss/nyt/Business.xml\",  # Business\n",
        "    \"https://rss.nytimes.com/services/xml/rss/nyt/Arts.xml\",  # Arts & Culture\n",
        "    \"https://rss.nytimes.com/services/xml/rss/nyt/Sports.xml\",  # Sports\n",
        "     \"https://rss.nytimes.com/services/xml/rss/nyt/Economy.xml\",\n",
        "\"https://rss.nytimes.com/services/xml/rss/nyt/Dealbook.xml\",\n",
        "\"https://rss.nytimes.com/services/xml/rss/nyt/SmallBusiness.xml\",\n",
        "\"https://rss.nytimes.com/services/xml/rss/nyt/NYRegion.xml\",\n",
        "    \"https://rss.nytimes.com/services/xml/rss/nyt/Technology.xml\",\n",
        "    \"https://rss.nytimes.com/services/xml/rss/nyt/Science.xml\",\n",
        "    \"https://rss.nytimes.com/services/xml/rss/nyt/Health.xml\",\n",
        "    \"https://rss.nytimes.com/services/xml/rss/nyt/Food.xml\",\n",
        "    \"https://rss.nytimes.com/services/xml/rss/nyt/Travel.xml\",\n",
        "    \"https://rss.nytimes.com/services/xml/rss/nyt/Magazine.xml\",\n",
        "    \"https://rss.nytimes.com/services/xml/rss/nyt/RealEstate.xml\",\n",
        "    \"https://rss.nytimes.com/services/xml/rss/nyt/Obituaries.xml\",\n",
        "    \"https://rss.nytimes.com/services/xml/rss/nyt/Fashion.xml\",\n",
        "    \"https://rss.nytimes.com/services/xml/rss/nyt/Theater.xml\",\n",
        "    \"https://rss.nytimes.com/services/xml/rss/nyt/Space.xml\",\n",
        "    \"https://rss.nytimes.com/services/xml/rss/nyt/Style.xml\",\n",
        "    \"https://rss.nytimes.com/services/xml/rss/nyt/Politics.xml\",\n",
        "\"https://rss.nytimes.com/services/xml/rss/nyt/Elections.xml\",\n",
        "\"https://rss.nytimes.com/services/xml/rss/nyt/Opinion.xml\",\n",
        "    \"https://rss.nytimes.com/services/xml/rss/nyt/ProFootball.xml\",\n",
        "\"https://rss.nytimes.com/services/xml/rss/nyt/ProBasketball.xml\",\n",
        "\"https://rss.nytimes.com/services/xml/rss/nyt/Baseball.xml\",\"https://rss.nytimes.com/services/xml/rss/nyt/Tennis.xml\",\n",
        "    \"https://rss.nytimes.com/services/xml/rss/nyt/WorldSports.xml\",\n",
        "    \"https://rss.nytimes.com/services/xml/rss/nyt/Soccer.xml\",\n",
        "    \"https://rss.nytimes.com/services/xml/rss/nyt/Movies.xml\",\n",
        "\"https://rss.nytimes.com/services/xml/rss/nyt/Books.xml\",\n",
        "\"https://rss.nytimes.com/services/xml/rss/nyt/ArtandDesign.xml\",\n",
        "\"https://rss.nytimes.com/services/xml/rss/nyt/Music.xml\",\n",
        "\"https://rss.nytimes.com/services/xml/rss/nyt/Television.xml\",\n",
        "    \" https://rss.nytimes.com/services/xml/rss/nyt/Health.xml\",\n",
        "\"https://rss.nytimes.com/services/xml/rss/nyt/Well.xml\",\n",
        "\"https://rss.nytimes.com/services/xml/rss/nyt/Exercise.xml\",\n",
        "\"https://rss.nytimes.com/services/xml/rss/nyt/Dining.xml\",\n",
        "    \"https://rss.nytimes.com/services/xml/rss/nyt/Automobiles.xml\",\n",
        "\"https://rss.nytimes.com/services/xml/rss/nyt/Travel.xml\"\n",
        "\n",
        "]\n",
        "\n",
        "news_data = []\n",
        "\n",
        "for rss_url in rss_feeds:\n",
        "    feed = feedparser.parse(rss_url)\n",
        "\n",
        "    if not feed.entries:\n",
        "        print(f\"❌ No articles found for {rss_url}\")\n",
        "        continue\n",
        "\n",
        "    # Extract headlines, summaries, and links\n",
        "    for entry in feed.entries:\n",
        "        news_data.append({\n",
        "            \"headline\": entry.title,\n",
        "            \"content\": entry.summary,  # NYT RSS only provides summaries\n",
        "            \"link\": entry.link\n",
        "        })\n",
        "\n",
        "# Save to CSV\n",
        "if news_data:\n",
        "    df = pd.DataFrame(news_data)\n",
        "    df.to_csv(\"nyt_news.csv\", index=False)\n",
        "    print(\"✅ Scraping completed! Data saved to 'nyt_news.csv'.\")\n",
        "else:\n",
        "    print(\"❌ No articles found. NYT may have blocked RSS feeds.\")\n"
      ],
      "metadata": {
        "colab": {
          "base_uri": "https://localhost:8080/"
        },
        "id": "ZJUB7PpTHMzx",
        "outputId": "9ea99c42-ad9f-46d7-beac-1d62efb245ab"
      },
      "execution_count": 43,
      "outputs": [
        {
          "output_type": "stream",
          "name": "stdout",
          "text": [
            "❌ No articles found for https://rss.nytimes.com/services/xml/rss/nyt/Food.xml\n",
            "❌ No articles found for https://rss.nytimes.com/services/xml/rss/nyt/Fashion.xml\n",
            "❌ No articles found for https://rss.nytimes.com/services/xml/rss/nyt/Elections.xml\n",
            "❌ No articles found for https://rss.nytimes.com/services/xml/rss/nyt/WorldSports.xml\n",
            "❌ No articles found for https://rss.nytimes.com/services/xml/rss/nyt/Exercise.xml\n",
            "❌ No articles found for https://rss.nytimes.com/services/xml/rss/nyt/Dining.xml\n",
            "✅ Scraping completed! Data saved to 'nyt_news.csv'.\n"
          ]
        }
      ]
    },
    {
      "cell_type": "code",
      "source": [
        "df.shape"
      ],
      "metadata": {
        "colab": {
          "base_uri": "https://localhost:8080/"
        },
        "id": "ilp7nPkkJ79O",
        "outputId": "f2662bdf-1d1c-4f98-bf06-bfffbdce1990"
      },
      "execution_count": 44,
      "outputs": [
        {
          "output_type": "execute_result",
          "data": {
            "text/plain": [
              "(916, 3)"
            ]
          },
          "metadata": {},
          "execution_count": 44
        }
      ]
    },
    {
      "cell_type": "code",
      "source": [
        "try:\n",
        "    # Read the existing CSV file\n",
        "    existing_df = pd.read_csv(\"web_scraping_news_articles.csv\")\n",
        "\n",
        "    # Read the new data from reuters_news.csv\n",
        "    new_data_df = pd.read_csv(\"nyt_news.csv\")\n",
        "\n",
        "    # Concatenate the DataFrames\n",
        "    combined_df = pd.concat([existing_df, new_data_df], ignore_index=True)\n",
        "\n",
        "    # Save the combined DataFrame back to the CSV file\n",
        "    combined_df.to_csv(\"web_scraping_news_articles.csv\", index=False)\n",
        "    print(\"Successfully added new data to web_scraping_news_articles.csv\")\n",
        "\n",
        "except FileNotFoundError:\n",
        "    print(\"Error: One or both of the CSV files not found.\")\n",
        "except Exception as e:\n",
        "    print(f\"An error occurred: {e}\")"
      ],
      "metadata": {
        "colab": {
          "base_uri": "https://localhost:8080/"
        },
        "id": "S23ZQ_HcJ_Go",
        "outputId": "5ff89148-434d-4ba3-eb1e-8fb12436dc01"
      },
      "execution_count": 49,
      "outputs": [
        {
          "output_type": "stream",
          "name": "stdout",
          "text": [
            "Successfully added new data to web_scraping_news_articles.csv\n"
          ]
        }
      ]
    },
    {
      "cell_type": "code",
      "source": [
        "combined_df.shape"
      ],
      "metadata": {
        "colab": {
          "base_uri": "https://localhost:8080/"
        },
        "id": "Ylt5cOVuKI-v",
        "outputId": "45548c79-30d0-4c77-d511-12fa3a7ad3ad"
      },
      "execution_count": 50,
      "outputs": [
        {
          "output_type": "execute_result",
          "data": {
            "text/plain": [
              "(1842, 3)"
            ]
          },
          "metadata": {},
          "execution_count": 50
        }
      ]
    },
    {
      "cell_type": "code",
      "source": [
        "combined_df.head()"
      ],
      "metadata": {
        "colab": {
          "base_uri": "https://localhost:8080/",
          "height": 380
        },
        "id": "J9aYNVg6KLmb",
        "outputId": "8e681820-4613-46ca-e4d0-062034bcdb21"
      },
      "execution_count": 51,
      "outputs": [
        {
          "output_type": "execute_result",
          "data": {
            "text/plain": [
              "                                            headline  \\\n",
              "0  Myanmar Quake Death Toll Climbs as Some Aid St...   \n",
              "1  How Trump Is Inspiring Wannabe Authoritarians ...   \n",
              "2  Turkey’s Opposition Is Energized: ‘The Fire Is...   \n",
              "3  Hold the Chianti: Tariff Threat Leaves Italian...   \n",
              "4  Search for Survivors at Collapsed Bangkok Buil...   \n",
              "\n",
              "                                             content  \\\n",
              "0  Myanmar’s military government said the death t...   \n",
              "1  President Trump has turned a central precept o...   \n",
              "2  Supporters of the political opposition are fin...   \n",
              "3  For now, President Trump’s 200 percent tariff ...   \n",
              "4  The collapse of a 30-story building under cons...   \n",
              "\n",
              "                                                link  \n",
              "0  https://www.nytimes.com/live/2025/03/29/world/...  \n",
              "1  https://www.nytimes.com/2025/03/29/world/europ...  \n",
              "2  https://www.nytimes.com/2025/03/29/world/middl...  \n",
              "3  https://www.nytimes.com/2025/03/29/world/europ...  \n",
              "4  https://www.nytimes.com/2025/03/29/world/asia/...  "
            ],
            "text/html": [
              "\n",
              "  <div id=\"df-ff1a16a4-b8eb-4c7f-9cc1-5a322e62644c\" class=\"colab-df-container\">\n",
              "    <div>\n",
              "<style scoped>\n",
              "    .dataframe tbody tr th:only-of-type {\n",
              "        vertical-align: middle;\n",
              "    }\n",
              "\n",
              "    .dataframe tbody tr th {\n",
              "        vertical-align: top;\n",
              "    }\n",
              "\n",
              "    .dataframe thead th {\n",
              "        text-align: right;\n",
              "    }\n",
              "</style>\n",
              "<table border=\"1\" class=\"dataframe\">\n",
              "  <thead>\n",
              "    <tr style=\"text-align: right;\">\n",
              "      <th></th>\n",
              "      <th>headline</th>\n",
              "      <th>content</th>\n",
              "      <th>link</th>\n",
              "    </tr>\n",
              "  </thead>\n",
              "  <tbody>\n",
              "    <tr>\n",
              "      <th>0</th>\n",
              "      <td>Myanmar Quake Death Toll Climbs as Some Aid St...</td>\n",
              "      <td>Myanmar’s military government said the death t...</td>\n",
              "      <td>https://www.nytimes.com/live/2025/03/29/world/...</td>\n",
              "    </tr>\n",
              "    <tr>\n",
              "      <th>1</th>\n",
              "      <td>How Trump Is Inspiring Wannabe Authoritarians ...</td>\n",
              "      <td>President Trump has turned a central precept o...</td>\n",
              "      <td>https://www.nytimes.com/2025/03/29/world/europ...</td>\n",
              "    </tr>\n",
              "    <tr>\n",
              "      <th>2</th>\n",
              "      <td>Turkey’s Opposition Is Energized: ‘The Fire Is...</td>\n",
              "      <td>Supporters of the political opposition are fin...</td>\n",
              "      <td>https://www.nytimes.com/2025/03/29/world/middl...</td>\n",
              "    </tr>\n",
              "    <tr>\n",
              "      <th>3</th>\n",
              "      <td>Hold the Chianti: Tariff Threat Leaves Italian...</td>\n",
              "      <td>For now, President Trump’s 200 percent tariff ...</td>\n",
              "      <td>https://www.nytimes.com/2025/03/29/world/europ...</td>\n",
              "    </tr>\n",
              "    <tr>\n",
              "      <th>4</th>\n",
              "      <td>Search for Survivors at Collapsed Bangkok Buil...</td>\n",
              "      <td>The collapse of a 30-story building under cons...</td>\n",
              "      <td>https://www.nytimes.com/2025/03/29/world/asia/...</td>\n",
              "    </tr>\n",
              "  </tbody>\n",
              "</table>\n",
              "</div>\n",
              "    <div class=\"colab-df-buttons\">\n",
              "\n",
              "  <div class=\"colab-df-container\">\n",
              "    <button class=\"colab-df-convert\" onclick=\"convertToInteractive('df-ff1a16a4-b8eb-4c7f-9cc1-5a322e62644c')\"\n",
              "            title=\"Convert this dataframe to an interactive table.\"\n",
              "            style=\"display:none;\">\n",
              "\n",
              "  <svg xmlns=\"http://www.w3.org/2000/svg\" height=\"24px\" viewBox=\"0 -960 960 960\">\n",
              "    <path d=\"M120-120v-720h720v720H120Zm60-500h600v-160H180v160Zm220 220h160v-160H400v160Zm0 220h160v-160H400v160ZM180-400h160v-160H180v160Zm440 0h160v-160H620v160ZM180-180h160v-160H180v160Zm440 0h160v-160H620v160Z\"/>\n",
              "  </svg>\n",
              "    </button>\n",
              "\n",
              "  <style>\n",
              "    .colab-df-container {\n",
              "      display:flex;\n",
              "      gap: 12px;\n",
              "    }\n",
              "\n",
              "    .colab-df-convert {\n",
              "      background-color: #E8F0FE;\n",
              "      border: none;\n",
              "      border-radius: 50%;\n",
              "      cursor: pointer;\n",
              "      display: none;\n",
              "      fill: #1967D2;\n",
              "      height: 32px;\n",
              "      padding: 0 0 0 0;\n",
              "      width: 32px;\n",
              "    }\n",
              "\n",
              "    .colab-df-convert:hover {\n",
              "      background-color: #E2EBFA;\n",
              "      box-shadow: 0px 1px 2px rgba(60, 64, 67, 0.3), 0px 1px 3px 1px rgba(60, 64, 67, 0.15);\n",
              "      fill: #174EA6;\n",
              "    }\n",
              "\n",
              "    .colab-df-buttons div {\n",
              "      margin-bottom: 4px;\n",
              "    }\n",
              "\n",
              "    [theme=dark] .colab-df-convert {\n",
              "      background-color: #3B4455;\n",
              "      fill: #D2E3FC;\n",
              "    }\n",
              "\n",
              "    [theme=dark] .colab-df-convert:hover {\n",
              "      background-color: #434B5C;\n",
              "      box-shadow: 0px 1px 3px 1px rgba(0, 0, 0, 0.15);\n",
              "      filter: drop-shadow(0px 1px 2px rgba(0, 0, 0, 0.3));\n",
              "      fill: #FFFFFF;\n",
              "    }\n",
              "  </style>\n",
              "\n",
              "    <script>\n",
              "      const buttonEl =\n",
              "        document.querySelector('#df-ff1a16a4-b8eb-4c7f-9cc1-5a322e62644c button.colab-df-convert');\n",
              "      buttonEl.style.display =\n",
              "        google.colab.kernel.accessAllowed ? 'block' : 'none';\n",
              "\n",
              "      async function convertToInteractive(key) {\n",
              "        const element = document.querySelector('#df-ff1a16a4-b8eb-4c7f-9cc1-5a322e62644c');\n",
              "        const dataTable =\n",
              "          await google.colab.kernel.invokeFunction('convertToInteractive',\n",
              "                                                    [key], {});\n",
              "        if (!dataTable) return;\n",
              "\n",
              "        const docLinkHtml = 'Like what you see? Visit the ' +\n",
              "          '<a target=\"_blank\" href=https://colab.research.google.com/notebooks/data_table.ipynb>data table notebook</a>'\n",
              "          + ' to learn more about interactive tables.';\n",
              "        element.innerHTML = '';\n",
              "        dataTable['output_type'] = 'display_data';\n",
              "        await google.colab.output.renderOutput(dataTable, element);\n",
              "        const docLink = document.createElement('div');\n",
              "        docLink.innerHTML = docLinkHtml;\n",
              "        element.appendChild(docLink);\n",
              "      }\n",
              "    </script>\n",
              "  </div>\n",
              "\n",
              "\n",
              "<div id=\"df-3639a0ca-4843-4ceb-9915-5a135bb1823a\">\n",
              "  <button class=\"colab-df-quickchart\" onclick=\"quickchart('df-3639a0ca-4843-4ceb-9915-5a135bb1823a')\"\n",
              "            title=\"Suggest charts\"\n",
              "            style=\"display:none;\">\n",
              "\n",
              "<svg xmlns=\"http://www.w3.org/2000/svg\" height=\"24px\"viewBox=\"0 0 24 24\"\n",
              "     width=\"24px\">\n",
              "    <g>\n",
              "        <path d=\"M19 3H5c-1.1 0-2 .9-2 2v14c0 1.1.9 2 2 2h14c1.1 0 2-.9 2-2V5c0-1.1-.9-2-2-2zM9 17H7v-7h2v7zm4 0h-2V7h2v10zm4 0h-2v-4h2v4z\"/>\n",
              "    </g>\n",
              "</svg>\n",
              "  </button>\n",
              "\n",
              "<style>\n",
              "  .colab-df-quickchart {\n",
              "      --bg-color: #E8F0FE;\n",
              "      --fill-color: #1967D2;\n",
              "      --hover-bg-color: #E2EBFA;\n",
              "      --hover-fill-color: #174EA6;\n",
              "      --disabled-fill-color: #AAA;\n",
              "      --disabled-bg-color: #DDD;\n",
              "  }\n",
              "\n",
              "  [theme=dark] .colab-df-quickchart {\n",
              "      --bg-color: #3B4455;\n",
              "      --fill-color: #D2E3FC;\n",
              "      --hover-bg-color: #434B5C;\n",
              "      --hover-fill-color: #FFFFFF;\n",
              "      --disabled-bg-color: #3B4455;\n",
              "      --disabled-fill-color: #666;\n",
              "  }\n",
              "\n",
              "  .colab-df-quickchart {\n",
              "    background-color: var(--bg-color);\n",
              "    border: none;\n",
              "    border-radius: 50%;\n",
              "    cursor: pointer;\n",
              "    display: none;\n",
              "    fill: var(--fill-color);\n",
              "    height: 32px;\n",
              "    padding: 0;\n",
              "    width: 32px;\n",
              "  }\n",
              "\n",
              "  .colab-df-quickchart:hover {\n",
              "    background-color: var(--hover-bg-color);\n",
              "    box-shadow: 0 1px 2px rgba(60, 64, 67, 0.3), 0 1px 3px 1px rgba(60, 64, 67, 0.15);\n",
              "    fill: var(--button-hover-fill-color);\n",
              "  }\n",
              "\n",
              "  .colab-df-quickchart-complete:disabled,\n",
              "  .colab-df-quickchart-complete:disabled:hover {\n",
              "    background-color: var(--disabled-bg-color);\n",
              "    fill: var(--disabled-fill-color);\n",
              "    box-shadow: none;\n",
              "  }\n",
              "\n",
              "  .colab-df-spinner {\n",
              "    border: 2px solid var(--fill-color);\n",
              "    border-color: transparent;\n",
              "    border-bottom-color: var(--fill-color);\n",
              "    animation:\n",
              "      spin 1s steps(1) infinite;\n",
              "  }\n",
              "\n",
              "  @keyframes spin {\n",
              "    0% {\n",
              "      border-color: transparent;\n",
              "      border-bottom-color: var(--fill-color);\n",
              "      border-left-color: var(--fill-color);\n",
              "    }\n",
              "    20% {\n",
              "      border-color: transparent;\n",
              "      border-left-color: var(--fill-color);\n",
              "      border-top-color: var(--fill-color);\n",
              "    }\n",
              "    30% {\n",
              "      border-color: transparent;\n",
              "      border-left-color: var(--fill-color);\n",
              "      border-top-color: var(--fill-color);\n",
              "      border-right-color: var(--fill-color);\n",
              "    }\n",
              "    40% {\n",
              "      border-color: transparent;\n",
              "      border-right-color: var(--fill-color);\n",
              "      border-top-color: var(--fill-color);\n",
              "    }\n",
              "    60% {\n",
              "      border-color: transparent;\n",
              "      border-right-color: var(--fill-color);\n",
              "    }\n",
              "    80% {\n",
              "      border-color: transparent;\n",
              "      border-right-color: var(--fill-color);\n",
              "      border-bottom-color: var(--fill-color);\n",
              "    }\n",
              "    90% {\n",
              "      border-color: transparent;\n",
              "      border-bottom-color: var(--fill-color);\n",
              "    }\n",
              "  }\n",
              "</style>\n",
              "\n",
              "  <script>\n",
              "    async function quickchart(key) {\n",
              "      const quickchartButtonEl =\n",
              "        document.querySelector('#' + key + ' button');\n",
              "      quickchartButtonEl.disabled = true;  // To prevent multiple clicks.\n",
              "      quickchartButtonEl.classList.add('colab-df-spinner');\n",
              "      try {\n",
              "        const charts = await google.colab.kernel.invokeFunction(\n",
              "            'suggestCharts', [key], {});\n",
              "      } catch (error) {\n",
              "        console.error('Error during call to suggestCharts:', error);\n",
              "      }\n",
              "      quickchartButtonEl.classList.remove('colab-df-spinner');\n",
              "      quickchartButtonEl.classList.add('colab-df-quickchart-complete');\n",
              "    }\n",
              "    (() => {\n",
              "      let quickchartButtonEl =\n",
              "        document.querySelector('#df-3639a0ca-4843-4ceb-9915-5a135bb1823a button');\n",
              "      quickchartButtonEl.style.display =\n",
              "        google.colab.kernel.accessAllowed ? 'block' : 'none';\n",
              "    })();\n",
              "  </script>\n",
              "</div>\n",
              "\n",
              "    </div>\n",
              "  </div>\n"
            ],
            "application/vnd.google.colaboratory.intrinsic+json": {
              "type": "dataframe",
              "variable_name": "combined_df",
              "summary": "{\n  \"name\": \"combined_df\",\n  \"rows\": 1842,\n  \"fields\": [\n    {\n      \"column\": \"headline\",\n      \"properties\": {\n        \"dtype\": \"category\",\n        \"num_unique_values\": 676,\n        \"samples\": [\n          \"Volunteer \\u2018Puppy Raisers\\u2019 Work to Tackle a Service Dog Shortage\",\n          \"For John Green, It\\u2019s Tuberculosis All the Way Down\",\n          \"Bees Do It. And So Can You.\"\n        ],\n        \"semantic_type\": \"\",\n        \"description\": \"\"\n      }\n    },\n    {\n      \"column\": \"content\",\n      \"properties\": {\n        \"dtype\": \"category\",\n        \"num_unique_values\": 675,\n        \"samples\": [\n          \"Descendants of characters in \\u201cOperation Mincemeat,\\u201d a hit British musical now in New York, have gotten more out of seeing it than a few catchy melodies.\",\n          \"State health officials worry that declining vaccination rates have left many communities vulnerable nationwide.\",\n          \"A few years after buying Twitter for $44 billion, Elon Musk announced that his AI business xAI has acquired the social media platform X, formerly known as Twitter. In a tweet, he described it as an all-stock transaction, valuing xAI at $80 billion and X at $33 billion, including $12 billion in debt it had [&#8230;]\"\n        ],\n        \"semantic_type\": \"\",\n        \"description\": \"\"\n      }\n    },\n    {\n      \"column\": \"link\",\n      \"properties\": {\n        \"dtype\": \"category\",\n        \"num_unique_values\": 676,\n        \"samples\": [\n          \"https://www.nytimes.com/2025/03/27/well/service-dog-shortage-volunteer-puppy-care.html\",\n          \"https://www.nytimes.com/2025/03/27/health/john-green-tuberculosis.html\",\n          \"https://www.nytimes.com/2025/03/25/realestate/coleus-flowers-garden-breeding.html\"\n        ],\n        \"semantic_type\": \"\",\n        \"description\": \"\"\n      }\n    }\n  ]\n}"
            }
          },
          "metadata": {},
          "execution_count": 51
        }
      ]
    },
    {
      "cell_type": "code",
      "source": [
        "# prompt: can i revert back a csv to previous version before merging?\n",
        "\n",
        "import pandas as pd\n",
        "import os\n",
        "\n",
        "def revert_csv(filepath, backup_filepath=None):\n",
        "    \"\"\"\n",
        "    Reverts a CSV file to a previous version if a backup exists.\n",
        "\n",
        "    Args:\n",
        "        filepath: Path to the CSV file to revert.\n",
        "        backup_filepath: Path to the backup file (optional). If not provided,\n",
        "                         it looks for a file with the same name and a \".bak\" extension.\n",
        "    Returns:\n",
        "        True if the reversion was successful, False otherwise.\n",
        "    \"\"\"\n",
        "    if not os.path.exists(filepath):\n",
        "        print(f\"Error: File '{filepath}' not found.\")\n",
        "        return False\n",
        "\n",
        "    if backup_filepath is None:\n",
        "        backup_filepath = filepath + \".bak\"\n",
        "\n",
        "    if not os.path.exists(backup_filepath):\n",
        "        print(f\"Error: Backup file '{backup_filepath}' not found.\")\n",
        "        return False\n",
        "\n",
        "    try:\n",
        "        # Rename the original file to a temporary file\n",
        "        os.rename(filepath, filepath + \".tmp\")\n",
        "\n",
        "        # Rename the backup file to the original filename\n",
        "        os.rename(backup_filepath, filepath)\n",
        "\n",
        "        # Remove the temporary file\n",
        "        os.remove(filepath + \".tmp\")\n",
        "\n",
        "        print(f\"Successfully reverted '{filepath}' to the previous version.\")\n",
        "        return True\n",
        "\n",
        "    except OSError as e:\n",
        "        print(f\"Error reverting file: {e}\")\n",
        "        return False\n",
        "\n",
        "# Example usage:\n",
        "# 1. Make a backup BEFORE running your scraping/merging code:\n",
        "# import shutil\n",
        "# shutil.copy2(\"web_scraping_news_articles.csv\", \"web_scraping_news_articles.csv.bak\")\n",
        "\n",
        "# 2.  Now, if you want to revert:\n",
        "if revert_csv(\"web_scraping_news_articles.csv\"):\n",
        "    print(\"CSV file reverted successfully.\")\n",
        "else:\n",
        "    print(\"Failed to revert CSV file. Check if backup exists.\")\n",
        "\n"
      ],
      "metadata": {
        "colab": {
          "base_uri": "https://localhost:8080/"
        },
        "id": "vNegYv8GMZGS",
        "outputId": "e65a5784-4068-4916-bab1-c19e562f2ece"
      },
      "execution_count": 56,
      "outputs": [
        {
          "output_type": "stream",
          "name": "stdout",
          "text": [
            "Error: Backup file 'web_scraping_news_articles.csv.bak' not found.\n",
            "Failed to revert CSV file. Check if backup exists.\n"
          ]
        }
      ]
    },
    {
      "cell_type": "code",
      "source": [],
      "metadata": {
        "id": "MHS48K8zQ6ZT"
      },
      "execution_count": null,
      "outputs": []
    },
    {
      "cell_type": "code",
      "source": [
        "# prompt: change order of columns while keeping content intact\n",
        "\n",
        "import pandas as pd\n",
        "\n",
        "# Load the CSV file\n",
        "try:\n",
        "    df = pd.read_csv(\"bloomberg_news.csv\")\n",
        "\n",
        "    # Define the new column order\n",
        "    new_column_order = [\"headline\",\"link\", \"content\"]  # Example order, adjust as needed\n",
        "\n",
        "    # Reorder the columns\n",
        "    df = df[new_column_order]\n",
        "\n",
        "    # Save the reordered DataFrame back to the CSV file\n",
        "    df.to_csv(\"bloomberg_news.csv\", index=False)\n",
        "    print(\"Successfully reordered columns in the CSV file.\")\n",
        "\n",
        "except FileNotFoundError:\n",
        "    print(\"Error: CSV file 'web_scraping_news_articles.csv' not found.\")\n",
        "except KeyError as e:\n",
        "    print(f\"Error: Column '{e}' not found in the CSV file. Please check column names.\")\n",
        "except Exception as e:\n",
        "    print(f\"An error occurred: {e}\")\n"
      ],
      "metadata": {
        "colab": {
          "base_uri": "https://localhost:8080/"
        },
        "id": "8wIfZQOoNnwc",
        "outputId": "9c7430a4-7f57-4329-c2e3-fa7c602f2c48"
      },
      "execution_count": 57,
      "outputs": [
        {
          "output_type": "stream",
          "name": "stdout",
          "text": [
            "Successfully reordered columns in the CSV file.\n"
          ]
        }
      ]
    },
    {
      "cell_type": "code",
      "source": [
        "import pandas as pd\n",
        "\n",
        "# Load the CSV file\n",
        "try:\n",
        "    df = pd.read_csv(\"nyt_news.csv\")\n",
        "\n",
        "    # Define the new column order\n",
        "    new_column_order = [\"headline\",\"link\", \"content\"]  # Example order, adjust as needed\n",
        "\n",
        "    # Reorder the columns\n",
        "    df = df[new_column_order]\n",
        "\n",
        "    # Save the reordered DataFrame back to the CSV file\n",
        "    df.to_csv(\"nyt_news.csv\", index=False)\n",
        "    print(\"Successfully reordered columns in the CSV file.\")\n",
        "\n",
        "except FileNotFoundError:\n",
        "    print(\"Error: CSV file 'web_scraping_news_articles.csv' not found.\")\n",
        "except KeyError as e:\n",
        "    print(f\"Error: Column '{e}' not found in the CSV file. Please check column names.\")\n",
        "except Exception as e:\n",
        "    print(f\"An error occurred: {e}\")"
      ],
      "metadata": {
        "colab": {
          "base_uri": "https://localhost:8080/"
        },
        "id": "-R-Wchf7QGYR",
        "outputId": "c5e38bf3-fa5e-4445-c2cd-95692d5c5c8f"
      },
      "execution_count": 68,
      "outputs": [
        {
          "output_type": "stream",
          "name": "stdout",
          "text": [
            "Successfully reordered columns in the CSV file.\n"
          ]
        }
      ]
    },
    {
      "cell_type": "code",
      "source": [
        "import pandas as pd\n",
        "\n",
        "# Load the CSV file\n",
        "try:\n",
        "    df = pd.read_csv(\"theverge_news.csv\")\n",
        "\n",
        "    # Define the new column order\n",
        "    new_column_order = [\"headline\",\"link\", \"content\"]  # Example order, adjust as needed\n",
        "\n",
        "    # Reorder the columns\n",
        "    df = df[new_column_order]\n",
        "\n",
        "    # Save the reordered DataFrame back to the CSV file\n",
        "    df.to_csv(\"theverge_news.csv\", index=False)\n",
        "    print(\"Successfully reordered columns in the CSV file.\")\n",
        "\n",
        "except FileNotFoundError:\n",
        "    print(\"Error: CSV file 'web_scraping_news_articles.csv' not found.\")\n",
        "except KeyError as e:\n",
        "    print(f\"Error: Column '{e}' not found in the CSV file. Please check column names.\")\n",
        "except Exception as e:\n",
        "    print(f\"An error occurred: {e}\")"
      ],
      "metadata": {
        "colab": {
          "base_uri": "https://localhost:8080/"
        },
        "id": "yWlRfjcAQGNC",
        "outputId": "cfcca564-1909-4314-9a74-88edfa4297f7"
      },
      "execution_count": 70,
      "outputs": [
        {
          "output_type": "stream",
          "name": "stdout",
          "text": [
            "Successfully reordered columns in the CSV file.\n"
          ]
        }
      ]
    },
    {
      "cell_type": "code",
      "source": [
        "import pandas as pd\n",
        "\n",
        "# Load the CSV file\n",
        "try:\n",
        "    df = pd.read_csv(\"forbes_news.csv\")\n",
        "\n",
        "    # Define the new column order\n",
        "    new_column_order = [\"headline\",\"link\", \"content\"]  # Example order, adjust as needed\n",
        "\n",
        "    # Reorder the columns\n",
        "    df = df[new_column_order]\n",
        "\n",
        "    # Save the reordered DataFrame back to the CSV file\n",
        "    df.to_csv(\"forbes_news.csv\", index=False)\n",
        "    print(\"Successfully reordered columns in the CSV file.\")\n",
        "\n",
        "except FileNotFoundError:\n",
        "    print(\"Error: CSV file 'web_scraping_news_articles.csv' not found.\")\n",
        "except KeyError as e:\n",
        "    print(f\"Error: Column '{e}' not found in the CSV file. Please check column names.\")\n",
        "except Exception as e:\n",
        "    print(f\"An error occurred: {e}\")"
      ],
      "metadata": {
        "colab": {
          "base_uri": "https://localhost:8080/"
        },
        "id": "USV1EbPkQFfd",
        "outputId": "6e32ec18-b96b-4ed3-ce1b-9146bb2f7931"
      },
      "execution_count": 71,
      "outputs": [
        {
          "output_type": "stream",
          "name": "stdout",
          "text": [
            "Successfully reordered columns in the CSV file.\n"
          ]
        }
      ]
    },
    {
      "cell_type": "code",
      "source": [
        "# prompt: merge multiple csv to a single one..i will upload the csv in the files section\n",
        "\n",
        "import pandas as pd\n",
        "from google.colab import files\n",
        "\n",
        "uploaded = files.upload()\n",
        "\n",
        "# Create an empty list to store the dataframes\n",
        "dfs = []\n",
        "\n",
        "# Loop through the uploaded files\n",
        "for filename in uploaded.keys():\n",
        "  if filename.endswith('.csv'):  # Check if the file is a csv file\n",
        "    try:\n",
        "      # Read the CSV file into a pandas DataFrame\n",
        "      df = pd.read_csv(filename)\n",
        "\n",
        "      # Append the DataFrame to the list\n",
        "      dfs.append(df)\n",
        "    except Exception as e:\n",
        "      print(f\"Error reading {filename}: {e}\")\n",
        "\n",
        "# Concatenate all the dataframes in the list into one dataframe\n",
        "if dfs:\n",
        "  merged_df = pd.concat(dfs, ignore_index=True)\n",
        "\n",
        "  # Save the merged dataframe to a new csv file\n",
        "  merged_df.to_csv('merged_news_articles.csv', index=False)\n",
        "\n",
        "  print(\"Successfully merged CSV files into merged.csv\")\n",
        "else:\n",
        "  print(\"No CSV files were uploaded or processed.\")\n"
      ],
      "metadata": {
        "colab": {
          "base_uri": "https://localhost:8080/",
          "height": 517
        },
        "id": "1BuUmLHQM41G",
        "outputId": "252c7f45-06f4-4b8c-98e7-0a528ef1c81a"
      },
      "execution_count": 75,
      "outputs": [
        {
          "output_type": "display_data",
          "data": {
            "text/plain": [
              "<IPython.core.display.HTML object>"
            ],
            "text/html": [
              "\n",
              "     <input type=\"file\" id=\"files-5be6c1a3-b065-4276-a2fc-2d4b326ec604\" name=\"files[]\" multiple disabled\n",
              "        style=\"border:none\" />\n",
              "     <output id=\"result-5be6c1a3-b065-4276-a2fc-2d4b326ec604\">\n",
              "      Upload widget is only available when the cell has been executed in the\n",
              "      current browser session. Please rerun this cell to enable.\n",
              "      </output>\n",
              "      <script>// Copyright 2017 Google LLC\n",
              "//\n",
              "// Licensed under the Apache License, Version 2.0 (the \"License\");\n",
              "// you may not use this file except in compliance with the License.\n",
              "// You may obtain a copy of the License at\n",
              "//\n",
              "//      http://www.apache.org/licenses/LICENSE-2.0\n",
              "//\n",
              "// Unless required by applicable law or agreed to in writing, software\n",
              "// distributed under the License is distributed on an \"AS IS\" BASIS,\n",
              "// WITHOUT WARRANTIES OR CONDITIONS OF ANY KIND, either express or implied.\n",
              "// See the License for the specific language governing permissions and\n",
              "// limitations under the License.\n",
              "\n",
              "/**\n",
              " * @fileoverview Helpers for google.colab Python module.\n",
              " */\n",
              "(function(scope) {\n",
              "function span(text, styleAttributes = {}) {\n",
              "  const element = document.createElement('span');\n",
              "  element.textContent = text;\n",
              "  for (const key of Object.keys(styleAttributes)) {\n",
              "    element.style[key] = styleAttributes[key];\n",
              "  }\n",
              "  return element;\n",
              "}\n",
              "\n",
              "// Max number of bytes which will be uploaded at a time.\n",
              "const MAX_PAYLOAD_SIZE = 100 * 1024;\n",
              "\n",
              "function _uploadFiles(inputId, outputId) {\n",
              "  const steps = uploadFilesStep(inputId, outputId);\n",
              "  const outputElement = document.getElementById(outputId);\n",
              "  // Cache steps on the outputElement to make it available for the next call\n",
              "  // to uploadFilesContinue from Python.\n",
              "  outputElement.steps = steps;\n",
              "\n",
              "  return _uploadFilesContinue(outputId);\n",
              "}\n",
              "\n",
              "// This is roughly an async generator (not supported in the browser yet),\n",
              "// where there are multiple asynchronous steps and the Python side is going\n",
              "// to poll for completion of each step.\n",
              "// This uses a Promise to block the python side on completion of each step,\n",
              "// then passes the result of the previous step as the input to the next step.\n",
              "function _uploadFilesContinue(outputId) {\n",
              "  const outputElement = document.getElementById(outputId);\n",
              "  const steps = outputElement.steps;\n",
              "\n",
              "  const next = steps.next(outputElement.lastPromiseValue);\n",
              "  return Promise.resolve(next.value.promise).then((value) => {\n",
              "    // Cache the last promise value to make it available to the next\n",
              "    // step of the generator.\n",
              "    outputElement.lastPromiseValue = value;\n",
              "    return next.value.response;\n",
              "  });\n",
              "}\n",
              "\n",
              "/**\n",
              " * Generator function which is called between each async step of the upload\n",
              " * process.\n",
              " * @param {string} inputId Element ID of the input file picker element.\n",
              " * @param {string} outputId Element ID of the output display.\n",
              " * @return {!Iterable<!Object>} Iterable of next steps.\n",
              " */\n",
              "function* uploadFilesStep(inputId, outputId) {\n",
              "  const inputElement = document.getElementById(inputId);\n",
              "  inputElement.disabled = false;\n",
              "\n",
              "  const outputElement = document.getElementById(outputId);\n",
              "  outputElement.innerHTML = '';\n",
              "\n",
              "  const pickedPromise = new Promise((resolve) => {\n",
              "    inputElement.addEventListener('change', (e) => {\n",
              "      resolve(e.target.files);\n",
              "    });\n",
              "  });\n",
              "\n",
              "  const cancel = document.createElement('button');\n",
              "  inputElement.parentElement.appendChild(cancel);\n",
              "  cancel.textContent = 'Cancel upload';\n",
              "  const cancelPromise = new Promise((resolve) => {\n",
              "    cancel.onclick = () => {\n",
              "      resolve(null);\n",
              "    };\n",
              "  });\n",
              "\n",
              "  // Wait for the user to pick the files.\n",
              "  const files = yield {\n",
              "    promise: Promise.race([pickedPromise, cancelPromise]),\n",
              "    response: {\n",
              "      action: 'starting',\n",
              "    }\n",
              "  };\n",
              "\n",
              "  cancel.remove();\n",
              "\n",
              "  // Disable the input element since further picks are not allowed.\n",
              "  inputElement.disabled = true;\n",
              "\n",
              "  if (!files) {\n",
              "    return {\n",
              "      response: {\n",
              "        action: 'complete',\n",
              "      }\n",
              "    };\n",
              "  }\n",
              "\n",
              "  for (const file of files) {\n",
              "    const li = document.createElement('li');\n",
              "    li.append(span(file.name, {fontWeight: 'bold'}));\n",
              "    li.append(span(\n",
              "        `(${file.type || 'n/a'}) - ${file.size} bytes, ` +\n",
              "        `last modified: ${\n",
              "            file.lastModifiedDate ? file.lastModifiedDate.toLocaleDateString() :\n",
              "                                    'n/a'} - `));\n",
              "    const percent = span('0% done');\n",
              "    li.appendChild(percent);\n",
              "\n",
              "    outputElement.appendChild(li);\n",
              "\n",
              "    const fileDataPromise = new Promise((resolve) => {\n",
              "      const reader = new FileReader();\n",
              "      reader.onload = (e) => {\n",
              "        resolve(e.target.result);\n",
              "      };\n",
              "      reader.readAsArrayBuffer(file);\n",
              "    });\n",
              "    // Wait for the data to be ready.\n",
              "    let fileData = yield {\n",
              "      promise: fileDataPromise,\n",
              "      response: {\n",
              "        action: 'continue',\n",
              "      }\n",
              "    };\n",
              "\n",
              "    // Use a chunked sending to avoid message size limits. See b/62115660.\n",
              "    let position = 0;\n",
              "    do {\n",
              "      const length = Math.min(fileData.byteLength - position, MAX_PAYLOAD_SIZE);\n",
              "      const chunk = new Uint8Array(fileData, position, length);\n",
              "      position += length;\n",
              "\n",
              "      const base64 = btoa(String.fromCharCode.apply(null, chunk));\n",
              "      yield {\n",
              "        response: {\n",
              "          action: 'append',\n",
              "          file: file.name,\n",
              "          data: base64,\n",
              "        },\n",
              "      };\n",
              "\n",
              "      let percentDone = fileData.byteLength === 0 ?\n",
              "          100 :\n",
              "          Math.round((position / fileData.byteLength) * 100);\n",
              "      percent.textContent = `${percentDone}% done`;\n",
              "\n",
              "    } while (position < fileData.byteLength);\n",
              "  }\n",
              "\n",
              "  // All done.\n",
              "  yield {\n",
              "    response: {\n",
              "      action: 'complete',\n",
              "    }\n",
              "  };\n",
              "}\n",
              "\n",
              "scope.google = scope.google || {};\n",
              "scope.google.colab = scope.google.colab || {};\n",
              "scope.google.colab._files = {\n",
              "  _uploadFiles,\n",
              "  _uploadFilesContinue,\n",
              "};\n",
              "})(self);\n",
              "</script> "
            ]
          },
          "metadata": {}
        },
        {
          "output_type": "stream",
          "name": "stdout",
          "text": [
            "Saving aljazeera_news.csv to aljazeera_news (1).csv\n",
            "Saving bbc_news.csv to bbc_news (1).csv\n",
            "Saving bloomberg_news.csv to bloomberg_news (1).csv\n",
            "Saving cnbc_news.csv to cnbc_news (1).csv\n",
            "Saving cnn_news.csv to cnn_news (1).csv\n",
            "Saving financial_times_news.csv to financial_times_news (1).csv\n",
            "Saving forbes_news.csv to forbes_news (1).csv\n",
            "Saving guardian_news.csv to guardian_news (1).csv\n",
            "Saving nyt_news.csv to nyt_news (1).csv\n",
            "Saving reuters_news.csv to reuters_news (1).csv\n",
            "Saving techcrunch_news.csv to techcrunch_news (1).csv\n",
            "Saving theverge_news.csv to theverge_news (1).csv\n",
            "Saving toi_news.csv to toi_news (1).csv\n",
            "Successfully merged CSV files into merged.csv\n"
          ]
        }
      ]
    }
  ]
}